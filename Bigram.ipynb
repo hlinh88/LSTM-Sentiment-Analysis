{
 "cells": [
  {
   "cell_type": "code",
   "execution_count": 1,
   "metadata": {
    "collapsed": true
   },
   "outputs": [],
   "source": [
    "from textblob import TextBlob\n",
    "import math\n",
    "from collections import Counter, defaultdict\n",
    "import tweepy as tw\n",
    "import json\n",
    "import pandas as pd\n",
    "import re\n",
    "import numpy as np\n",
    "import matplotlib.pyplot as plt\n",
    "import seaborn as sns\n",
    "from bs4 import BeautifulSoup\n",
    "%matplotlib inline\n",
    "import nltk\n",
    "from nltk.corpus import stopwords\n",
    "from nltk.stem import WordNetLemmatizer"
   ]
  },
  {
   "cell_type": "code",
   "execution_count": 2,
   "outputs": [],
   "source": [
    "api_key = \"HAcIeikl6eRheQP1oKYGDwPx0\"\n",
    "api_secret = \"gEWmqG7QVXzudnviUXDo98L2UKGYg9PNqy1bAR1geClkHjqBGk\"\n",
    "access_token = \"1481095074465579008-1pApYlU4HRJWpbAXcbdVEVGzdACuEz\"\n",
    "access_token_secret = \"htgD81H4mOxXw5MglAljFRHhcfGAuwsNomXVqvGw0Obwe\"\n",
    "auth = tw.OAuthHandler(api_key, api_secret)\n",
    "auth.set_access_token(access_token, access_token_secret)\n",
    "api = tw.API(auth,wait_on_rate_limit=True)"
   ],
   "metadata": {
    "collapsed": false,
    "pycharm": {
     "name": "#%%\n"
    }
   }
  },
  {
   "cell_type": "code",
   "execution_count": 3,
   "outputs": [
    {
     "name": "stdout",
     "output_type": "stream",
     "text": [
      "Amazon News\n",
      "Amazon Stock\n"
     ]
    }
   ],
   "source": [
    "number_of_tweets = 500\n",
    "tweets = []\n",
    "user_id =[]\n",
    "created_at = []\n",
    "keyword_list = ['News', 'Stock'] # , 'Customers', 'Employees', 'Company', 'Price', 'Shareholders', 'Market', 'Soaring', 'Trends'\n",
    "company = 'Amazon'\n",
    "final_kw_list = []\n",
    "\n",
    "# Crawl data from keywords\n",
    "for i in range (len(keyword_list)):\n",
    "    kw = str(company + ' ' + keyword_list[i])\n",
    "    print(kw)\n",
    "    final_kw_list.append(kw)\n",
    "    for i in tw.Cursor(api.search, q = kw , lang =\"en\", since = \"2022-01-14\",tweet_mode = \"extended\").items(number_of_tweets):\n",
    "        tweets.append(i.full_text)\n",
    "        user_id.append(i.user.id)\n",
    "        created_at.append(i.created_at)"
   ],
   "metadata": {
    "collapsed": false,
    "pycharm": {
     "name": "#%%\n"
    }
   }
  },
  {
   "cell_type": "code",
   "execution_count": 4,
   "outputs": [
    {
     "data": {
      "text/plain": "             Created_at              User_id  \\\n0   2022-02-10 04:27:34  1267197215635726336   \n1   2022-02-10 04:27:14  1429172639629811712   \n2   2022-02-10 04:25:50             55264503   \n3   2022-02-10 04:25:42            312761357   \n4   2022-02-10 04:24:21   867117034089435136   \n..                  ...                  ...   \n995 2022-02-09 19:03:07             54549682   \n996 2022-02-09 19:02:26  1404406896220676099   \n997 2022-02-09 19:02:14  1385286231811051520   \n998 2022-02-09 19:02:07            499672969   \n999 2022-02-09 19:01:53   917555485498335232   \n\n                                                Tweets  \n0    &lt;Ethereum Price&gt;\\nETH/USDT(Binance): 318...  \n1    @elonmusk Its the first rule of politics, you ...  \n2    Tired of all the scary news? Need a break from...  \n3    RT @kohidave: We have some EXECiting news ✨ Co...  \n4    RT @WilliamBWorthy: \"The corrupt society thema...  \n..                                                 ...  \n995  RT @mirandadevine: Happy to report that my bes...  \n996  GeForce RTX 3080 Ti - MSI - GAMING X TRIO is i...  \n997  150 Pcs \\n.\\nONLY £1.99 \\n.\\nLOW STOCK \\n.\\nht...  \n998  (US)In Stock: MSI Gaming RX 6800 - 1219.99\\nAT...  \n999  RT @JonErlichman: Stock performance over 10 ye...  \n\n[1000 rows x 3 columns]",
      "text/html": "<div>\n<style scoped>\n    .dataframe tbody tr th:only-of-type {\n        vertical-align: middle;\n    }\n\n    .dataframe tbody tr th {\n        vertical-align: top;\n    }\n\n    .dataframe thead th {\n        text-align: right;\n    }\n</style>\n<table border=\"1\" class=\"dataframe\">\n  <thead>\n    <tr style=\"text-align: right;\">\n      <th></th>\n      <th>Created_at</th>\n      <th>User_id</th>\n      <th>Tweets</th>\n    </tr>\n  </thead>\n  <tbody>\n    <tr>\n      <th>0</th>\n      <td>2022-02-10 04:27:34</td>\n      <td>1267197215635726336</td>\n      <td>&amp;lt;Ethereum Price&amp;gt;\\nETH/USDT(Binance): 318...</td>\n    </tr>\n    <tr>\n      <th>1</th>\n      <td>2022-02-10 04:27:14</td>\n      <td>1429172639629811712</td>\n      <td>@elonmusk Its the first rule of politics, you ...</td>\n    </tr>\n    <tr>\n      <th>2</th>\n      <td>2022-02-10 04:25:50</td>\n      <td>55264503</td>\n      <td>Tired of all the scary news? Need a break from...</td>\n    </tr>\n    <tr>\n      <th>3</th>\n      <td>2022-02-10 04:25:42</td>\n      <td>312761357</td>\n      <td>RT @kohidave: We have some EXECiting news ✨ Co...</td>\n    </tr>\n    <tr>\n      <th>4</th>\n      <td>2022-02-10 04:24:21</td>\n      <td>867117034089435136</td>\n      <td>RT @WilliamBWorthy: \"The corrupt society thema...</td>\n    </tr>\n    <tr>\n      <th>...</th>\n      <td>...</td>\n      <td>...</td>\n      <td>...</td>\n    </tr>\n    <tr>\n      <th>995</th>\n      <td>2022-02-09 19:03:07</td>\n      <td>54549682</td>\n      <td>RT @mirandadevine: Happy to report that my bes...</td>\n    </tr>\n    <tr>\n      <th>996</th>\n      <td>2022-02-09 19:02:26</td>\n      <td>1404406896220676099</td>\n      <td>GeForce RTX 3080 Ti - MSI - GAMING X TRIO is i...</td>\n    </tr>\n    <tr>\n      <th>997</th>\n      <td>2022-02-09 19:02:14</td>\n      <td>1385286231811051520</td>\n      <td>150 Pcs \\n.\\nONLY £1.99 \\n.\\nLOW STOCK \\n.\\nht...</td>\n    </tr>\n    <tr>\n      <th>998</th>\n      <td>2022-02-09 19:02:07</td>\n      <td>499672969</td>\n      <td>(US)In Stock: MSI Gaming RX 6800 - 1219.99\\nAT...</td>\n    </tr>\n    <tr>\n      <th>999</th>\n      <td>2022-02-09 19:01:53</td>\n      <td>917555485498335232</td>\n      <td>RT @JonErlichman: Stock performance over 10 ye...</td>\n    </tr>\n  </tbody>\n</table>\n<p>1000 rows × 3 columns</p>\n</div>"
     },
     "execution_count": 4,
     "metadata": {},
     "output_type": "execute_result"
    }
   ],
   "source": [
    "df = pd.DataFrame({\"Created_at\": created_at,\"User_id\": user_id,\"Tweets\":tweets})\n",
    "df"
   ],
   "metadata": {
    "collapsed": false,
    "pycharm": {
     "name": "#%%\n"
    }
   }
  },
  {
   "cell_type": "code",
   "execution_count": 5,
   "outputs": [],
   "source": [
    "df = df[~df.Tweets.str.contains(\"RT\")]\n",
    "df = df.reset_index(drop = True)"
   ],
   "metadata": {
    "collapsed": false,
    "pycharm": {
     "name": "#%%\n"
    }
   }
  },
  {
   "cell_type": "code",
   "execution_count": 6,
   "outputs": [],
   "source": [
    "def clean_up_tweet(text):\n",
    "    text = re.sub(r'@[A-Za-z0-9_]+','',text) # Remove mentions @\n",
    "    text = re.sub(r'#', '', text) # Remove hastag symbol\n",
    "    text = re.sub(r'https?:\\/\\/[A-Za-z0-9\\.\\/]+', '', text) # Remove hyper link\n",
    "    text = re.sub('[^A-Za-z0-9]+', ' ', text) # Remove special characters\n",
    "    text = re.sub(r'[0-9]+', '', text)\n",
    "    #Remove stop words\n",
    "    res = ''\n",
    "    for word in text.split():\n",
    "        if word not in stopwords.words('english'):\n",
    "            res += WordNetLemmatizer().lemmatize(word) + ' '\n",
    "\n",
    "    return res"
   ],
   "metadata": {
    "collapsed": false,
    "pycharm": {
     "name": "#%%\n"
    }
   }
  },
  {
   "cell_type": "code",
   "execution_count": 7,
   "outputs": [
    {
     "data": {
      "text/plain": "             Created_at              User_id  \\\n0   2022-02-10 04:27:34  1267197215635726336   \n1   2022-02-10 04:27:14  1429172639629811712   \n2   2022-02-10 04:25:50             55264503   \n3   2022-02-10 04:24:20  1267197215635726336   \n4   2022-02-10 04:23:15           2320472316   \n..                  ...                  ...   \n393 2022-02-09 19:11:27   800289876948054016   \n394 2022-02-09 19:10:39  1444834958858543109   \n395 2022-02-09 19:10:15            634708561   \n396 2022-02-09 19:05:14            402428798   \n397 2022-02-09 19:02:14  1385286231811051520   \n\n                                                Tweets  \n0    lt Ethereum Price gt ETH USDT Binance Check Pr...  \n1    Its first rule politics control moron hate thi...  \n2    Tired scary news Need break real world Need la...  \n3    lt Ripple XRP Price gt XRP USDT Binance Check ...  \n4    How avoid Amazon Prime price hike per year month   \n..                                                 ...  \n393  Only I hear read APESNOTLEAVING talk stock goi...  \n394  That would impact Dickbutts way good earnings ...  \n395  We mostly talked company make product use Appl...  \n396  Mega Rolls Regular Rolls Quilted Northern Ultr...  \n397                                Pcs ONLY LOW STOCK   \n\n[398 rows x 3 columns]",
      "text/html": "<div>\n<style scoped>\n    .dataframe tbody tr th:only-of-type {\n        vertical-align: middle;\n    }\n\n    .dataframe tbody tr th {\n        vertical-align: top;\n    }\n\n    .dataframe thead th {\n        text-align: right;\n    }\n</style>\n<table border=\"1\" class=\"dataframe\">\n  <thead>\n    <tr style=\"text-align: right;\">\n      <th></th>\n      <th>Created_at</th>\n      <th>User_id</th>\n      <th>Tweets</th>\n    </tr>\n  </thead>\n  <tbody>\n    <tr>\n      <th>0</th>\n      <td>2022-02-10 04:27:34</td>\n      <td>1267197215635726336</td>\n      <td>lt Ethereum Price gt ETH USDT Binance Check Pr...</td>\n    </tr>\n    <tr>\n      <th>1</th>\n      <td>2022-02-10 04:27:14</td>\n      <td>1429172639629811712</td>\n      <td>Its first rule politics control moron hate thi...</td>\n    </tr>\n    <tr>\n      <th>2</th>\n      <td>2022-02-10 04:25:50</td>\n      <td>55264503</td>\n      <td>Tired scary news Need break real world Need la...</td>\n    </tr>\n    <tr>\n      <th>3</th>\n      <td>2022-02-10 04:24:20</td>\n      <td>1267197215635726336</td>\n      <td>lt Ripple XRP Price gt XRP USDT Binance Check ...</td>\n    </tr>\n    <tr>\n      <th>4</th>\n      <td>2022-02-10 04:23:15</td>\n      <td>2320472316</td>\n      <td>How avoid Amazon Prime price hike per year month</td>\n    </tr>\n    <tr>\n      <th>...</th>\n      <td>...</td>\n      <td>...</td>\n      <td>...</td>\n    </tr>\n    <tr>\n      <th>393</th>\n      <td>2022-02-09 19:11:27</td>\n      <td>800289876948054016</td>\n      <td>Only I hear read APESNOTLEAVING talk stock goi...</td>\n    </tr>\n    <tr>\n      <th>394</th>\n      <td>2022-02-09 19:10:39</td>\n      <td>1444834958858543109</td>\n      <td>That would impact Dickbutts way good earnings ...</td>\n    </tr>\n    <tr>\n      <th>395</th>\n      <td>2022-02-09 19:10:15</td>\n      <td>634708561</td>\n      <td>We mostly talked company make product use Appl...</td>\n    </tr>\n    <tr>\n      <th>396</th>\n      <td>2022-02-09 19:05:14</td>\n      <td>402428798</td>\n      <td>Mega Rolls Regular Rolls Quilted Northern Ultr...</td>\n    </tr>\n    <tr>\n      <th>397</th>\n      <td>2022-02-09 19:02:14</td>\n      <td>1385286231811051520</td>\n      <td>Pcs ONLY LOW STOCK</td>\n    </tr>\n  </tbody>\n</table>\n<p>398 rows × 3 columns</p>\n</div>"
     },
     "execution_count": 7,
     "metadata": {},
     "output_type": "execute_result"
    }
   ],
   "source": [
    "df['Tweets'] = df['Tweets'].apply(clean_up_tweet)\n",
    "df = df.drop_duplicates(subset='Tweets')\n",
    "df = df.reset_index(drop=True)\n",
    "df"
   ],
   "metadata": {
    "collapsed": false,
    "pycharm": {
     "name": "#%%\n"
    }
   }
  },
  {
   "cell_type": "code",
   "execution_count": 8,
   "outputs": [
    {
     "data": {
      "text/plain": "             Created_at              User_id  \\\n0   2022-02-10 04:27:34  1267197215635726336   \n1   2022-02-10 04:27:14  1429172639629811712   \n2   2022-02-10 04:25:50             55264503   \n3   2022-02-10 04:24:20  1267197215635726336   \n4   2022-02-10 04:23:15           2320472316   \n..                  ...                  ...   \n393 2022-02-09 19:11:27   800289876948054016   \n394 2022-02-09 19:10:39  1444834958858543109   \n395 2022-02-09 19:10:15            634708561   \n396 2022-02-09 19:05:14            402428798   \n397 2022-02-09 19:02:14  1385286231811051520   \n\n                                                Tweets  Subjectivity  Polarity  \n0    lt Ethereum Price gt ETH USDT Binance Check Pr...      0.000000  0.000000  \n1    Its first rule politics control moron hate thi...      0.380208 -0.189583  \n2    Tired scary news Need break real world Need la...      0.533333 -0.200000  \n3    lt Ripple XRP Price gt XRP USDT Binance Check ...      0.000000  0.000000  \n4    How avoid Amazon Prime price hike per year month       0.000000  0.000000  \n..                                                 ...           ...       ...  \n393  Only I hear read APESNOTLEAVING talk stock goi...      0.658929 -0.066071  \n394  That would impact Dickbutts way good earnings ...      0.600000  0.700000  \n395  We mostly talked company make product use Appl...      0.433333  0.107292  \n396  Mega Rolls Regular Rolls Quilted Northern Ultr...      0.025641 -0.022222  \n397                                Pcs ONLY LOW STOCK       0.650000  0.000000  \n\n[398 rows x 5 columns]",
      "text/html": "<div>\n<style scoped>\n    .dataframe tbody tr th:only-of-type {\n        vertical-align: middle;\n    }\n\n    .dataframe tbody tr th {\n        vertical-align: top;\n    }\n\n    .dataframe thead th {\n        text-align: right;\n    }\n</style>\n<table border=\"1\" class=\"dataframe\">\n  <thead>\n    <tr style=\"text-align: right;\">\n      <th></th>\n      <th>Created_at</th>\n      <th>User_id</th>\n      <th>Tweets</th>\n      <th>Subjectivity</th>\n      <th>Polarity</th>\n    </tr>\n  </thead>\n  <tbody>\n    <tr>\n      <th>0</th>\n      <td>2022-02-10 04:27:34</td>\n      <td>1267197215635726336</td>\n      <td>lt Ethereum Price gt ETH USDT Binance Check Pr...</td>\n      <td>0.000000</td>\n      <td>0.000000</td>\n    </tr>\n    <tr>\n      <th>1</th>\n      <td>2022-02-10 04:27:14</td>\n      <td>1429172639629811712</td>\n      <td>Its first rule politics control moron hate thi...</td>\n      <td>0.380208</td>\n      <td>-0.189583</td>\n    </tr>\n    <tr>\n      <th>2</th>\n      <td>2022-02-10 04:25:50</td>\n      <td>55264503</td>\n      <td>Tired scary news Need break real world Need la...</td>\n      <td>0.533333</td>\n      <td>-0.200000</td>\n    </tr>\n    <tr>\n      <th>3</th>\n      <td>2022-02-10 04:24:20</td>\n      <td>1267197215635726336</td>\n      <td>lt Ripple XRP Price gt XRP USDT Binance Check ...</td>\n      <td>0.000000</td>\n      <td>0.000000</td>\n    </tr>\n    <tr>\n      <th>4</th>\n      <td>2022-02-10 04:23:15</td>\n      <td>2320472316</td>\n      <td>How avoid Amazon Prime price hike per year month</td>\n      <td>0.000000</td>\n      <td>0.000000</td>\n    </tr>\n    <tr>\n      <th>...</th>\n      <td>...</td>\n      <td>...</td>\n      <td>...</td>\n      <td>...</td>\n      <td>...</td>\n    </tr>\n    <tr>\n      <th>393</th>\n      <td>2022-02-09 19:11:27</td>\n      <td>800289876948054016</td>\n      <td>Only I hear read APESNOTLEAVING talk stock goi...</td>\n      <td>0.658929</td>\n      <td>-0.066071</td>\n    </tr>\n    <tr>\n      <th>394</th>\n      <td>2022-02-09 19:10:39</td>\n      <td>1444834958858543109</td>\n      <td>That would impact Dickbutts way good earnings ...</td>\n      <td>0.600000</td>\n      <td>0.700000</td>\n    </tr>\n    <tr>\n      <th>395</th>\n      <td>2022-02-09 19:10:15</td>\n      <td>634708561</td>\n      <td>We mostly talked company make product use Appl...</td>\n      <td>0.433333</td>\n      <td>0.107292</td>\n    </tr>\n    <tr>\n      <th>396</th>\n      <td>2022-02-09 19:05:14</td>\n      <td>402428798</td>\n      <td>Mega Rolls Regular Rolls Quilted Northern Ultr...</td>\n      <td>0.025641</td>\n      <td>-0.022222</td>\n    </tr>\n    <tr>\n      <th>397</th>\n      <td>2022-02-09 19:02:14</td>\n      <td>1385286231811051520</td>\n      <td>Pcs ONLY LOW STOCK</td>\n      <td>0.650000</td>\n      <td>0.000000</td>\n    </tr>\n  </tbody>\n</table>\n<p>398 rows × 5 columns</p>\n</div>"
     },
     "execution_count": 8,
     "metadata": {},
     "output_type": "execute_result"
    }
   ],
   "source": [
    "# Create function to get subjectivity\n",
    "def getSubjectivity(text):\n",
    "    return TextBlob(text).sentiment.subjectivity\n",
    "\n",
    "# Create function to get polarity\n",
    "def getPolarity(text):\n",
    "    return TextBlob(text).sentiment.polarity\n",
    "\n",
    "# Function compute negative, positive\n",
    "df['Subjectivity'] = df['Tweets'].apply(getSubjectivity)\n",
    "df['Polarity'] = df['Tweets'].apply(getPolarity)\n",
    "\n",
    "df = df.reset_index(drop=True)\n",
    "df"
   ],
   "metadata": {
    "collapsed": false,
    "pycharm": {
     "name": "#%%\n"
    }
   }
  },
  {
   "cell_type": "code",
   "execution_count": 9,
   "outputs": [],
   "source": [
    "from nltk.corpus import stopwords\n",
    "stoplist = stopwords.words('english')"
   ],
   "metadata": {
    "collapsed": false,
    "pycharm": {
     "name": "#%%\n"
    }
   }
  },
  {
   "cell_type": "code",
   "execution_count": 10,
   "outputs": [
    {
     "data": {
      "text/plain": "      Frequency                     n-gram  Polarity  Subjective\n0            13      comic comicbooks news  0.250000    0.500000\n1            13           comic comicbooks  0.250000    0.500000\n2             8                   new york  0.136364    0.454545\n3             8  dccomics comic comicbooks  0.250000    0.500000\n4             8             dccomics comic  0.250000    0.500000\n...         ...                        ...       ...         ...\n1440          1                   able get  0.500000    0.625000\n1441          1             able far still  0.300000    0.812500\n1442          1                   able far  0.300000    0.812500\n1443          1        able avoid obstacle  0.500000    0.625000\n1444          1                 able avoid  0.500000    0.625000\n\n[1445 rows x 4 columns]",
      "text/html": "<div>\n<style scoped>\n    .dataframe tbody tr th:only-of-type {\n        vertical-align: middle;\n    }\n\n    .dataframe tbody tr th {\n        vertical-align: top;\n    }\n\n    .dataframe thead th {\n        text-align: right;\n    }\n</style>\n<table border=\"1\" class=\"dataframe\">\n  <thead>\n    <tr style=\"text-align: right;\">\n      <th></th>\n      <th>Frequency</th>\n      <th>n-gram</th>\n      <th>Polarity</th>\n      <th>Subjective</th>\n    </tr>\n  </thead>\n  <tbody>\n    <tr>\n      <th>0</th>\n      <td>13</td>\n      <td>comic comicbooks news</td>\n      <td>0.250000</td>\n      <td>0.500000</td>\n    </tr>\n    <tr>\n      <th>1</th>\n      <td>13</td>\n      <td>comic comicbooks</td>\n      <td>0.250000</td>\n      <td>0.500000</td>\n    </tr>\n    <tr>\n      <th>2</th>\n      <td>8</td>\n      <td>new york</td>\n      <td>0.136364</td>\n      <td>0.454545</td>\n    </tr>\n    <tr>\n      <th>3</th>\n      <td>8</td>\n      <td>dccomics comic comicbooks</td>\n      <td>0.250000</td>\n      <td>0.500000</td>\n    </tr>\n    <tr>\n      <th>4</th>\n      <td>8</td>\n      <td>dccomics comic</td>\n      <td>0.250000</td>\n      <td>0.500000</td>\n    </tr>\n    <tr>\n      <th>...</th>\n      <td>...</td>\n      <td>...</td>\n      <td>...</td>\n      <td>...</td>\n    </tr>\n    <tr>\n      <th>1440</th>\n      <td>1</td>\n      <td>able get</td>\n      <td>0.500000</td>\n      <td>0.625000</td>\n    </tr>\n    <tr>\n      <th>1441</th>\n      <td>1</td>\n      <td>able far still</td>\n      <td>0.300000</td>\n      <td>0.812500</td>\n    </tr>\n    <tr>\n      <th>1442</th>\n      <td>1</td>\n      <td>able far</td>\n      <td>0.300000</td>\n      <td>0.812500</td>\n    </tr>\n    <tr>\n      <th>1443</th>\n      <td>1</td>\n      <td>able avoid obstacle</td>\n      <td>0.500000</td>\n      <td>0.625000</td>\n    </tr>\n    <tr>\n      <th>1444</th>\n      <td>1</td>\n      <td>able avoid</td>\n      <td>0.500000</td>\n      <td>0.625000</td>\n    </tr>\n  </tbody>\n</table>\n<p>1445 rows × 4 columns</p>\n</div>"
     },
     "execution_count": 10,
     "metadata": {},
     "output_type": "execute_result"
    }
   ],
   "source": [
    "from sklearn.feature_extraction.text import CountVectorizer\n",
    "c_vec = CountVectorizer(stop_words=stoplist, ngram_range=(2,3))\n",
    "# matrix of n_grams\n",
    "ngrams = c_vec.fit_transform(df['Tweets'])\n",
    "# count frequency of ngrams\n",
    "count_values = ngrams.toarray().sum(axis=0)\n",
    "# list of ngrams\n",
    "vocab = c_vec.vocabulary_\n",
    "df_ngram = pd.DataFrame(sorted([(count_values[i],k) for k,i in vocab.items()], reverse=True)\n",
    "            ).rename(columns={0: 'Frequency', 1:'n-gram'})\n",
    "\n",
    "df_ngram = df_ngram.drop_duplicates(subset='n-gram')\n",
    "df_ngram = df_ngram.reset_index(drop=True)\n",
    "df_ngram['Polarity'] = df_ngram['n-gram'].apply(lambda x: TextBlob(x).polarity)\n",
    "df_ngram['Subjective'] = df_ngram['n-gram'].apply(lambda x: TextBlob(x).subjectivity)\n",
    "df_ngram.drop(df_ngram.loc[df_ngram['Polarity'] == 0.0].index, inplace=True)\n",
    "df_ngram = df_ngram.reset_index(drop=True)\n",
    "df_ngram"
   ],
   "metadata": {
    "collapsed": false,
    "pycharm": {
     "name": "#%%\n"
    }
   }
  },
  {
   "cell_type": "code",
   "execution_count": 11,
   "outputs": [],
   "source": [
    "from sklearn.feature_extraction.text import CountVectorizer\n",
    "cv_vect = CountVectorizer(ngram_range=(2,3))\n",
    "cv = cv_vect.fit_transform(df['Tweets'])\n"
   ],
   "metadata": {
    "collapsed": false,
    "pycharm": {
     "name": "#%%\n"
    }
   }
  },
  {
   "cell_type": "code",
   "execution_count": 12,
   "outputs": [
    {
     "data": {
      "text/plain": "array([ 0.        , -0.02222222,  0.8       ,  0.        ,  0.        ,\n        0.        , -0.375     ,  0.06818182,  0.        , -0.32222222,\n        0.        ,  0.        , -0.11666667,  0.125     ,  0.01818182,\n        0.1       ,  0.3       ,  0.13636364,  0.        , -0.15      ,\n        0.        ,  0.31666667,  0.        ,  0.        ,  0.        ,\n        0.7       , -0.04166667,  0.        ,  0.1       ,  0.        ,\n       -0.06607143,  0.        ,  0.        ,  0.        ,  0.14285714,\n        0.075     ,  0.1875    ,  0.        ,  0.25      , -1.        ,\n        0.        ,  0.25      ,  0.        ,  0.07083333,  0.04545455,\n        0.        ,  0.13636364,  0.25      ,  0.        ,  0.1875    ,\n        0.125     ,  0.        ,  0.8       ,  1.        ,  0.36666667,\n        0.05      ,  0.13636364, -0.16666667,  1.        ,  0.        ,\n       -0.05      ,  0.35      ,  0.        , -0.18787879,  0.05      ,\n        0.15416667,  0.42      ,  0.5       ,  0.        ,  0.13333333,\n        0.06818182, -0.25833333,  0.        ,  0.        , -0.15625   ,\n        0.        ,  0.04      ,  0.        ,  0.2       ,  0.        ])"
     },
     "execution_count": 12,
     "metadata": {},
     "output_type": "execute_result"
    }
   ],
   "source": [
    "from sklearn.linear_model import LogisticRegression\n",
    "from sklearn.model_selection import train_test_split\n",
    "from sklearn.metrics import f1_score, accuracy_score\n",
    "\n",
    "y = df['Polarity'].values.astype('float')\n",
    "\n",
    "X_train, X_test, y_train, y_test = train_test_split(cv, y, random_state=42, test_size=0.2)\n",
    "y_test\n"
   ],
   "metadata": {
    "collapsed": false,
    "pycharm": {
     "name": "#%%\n"
    }
   }
  },
  {
   "cell_type": "code",
   "execution_count": 13,
   "outputs": [
    {
     "name": "stdout",
     "output_type": "stream",
     "text": [
      "SVR()\n",
      "[ 0.         -0.02222222  0.8         0.          0.          0.\n",
      " -0.375       0.06818182  0.         -0.32222222  0.          0.\n",
      " -0.11666667  0.125       0.01818182  0.1         0.3         0.13636364\n",
      "  0.         -0.15        0.          0.31666667  0.          0.\n",
      "  0.          0.7        -0.04166667  0.          0.1         0.\n",
      " -0.06607143  0.          0.          0.          0.14285714  0.075\n",
      "  0.1875      0.          0.25       -1.          0.          0.25\n",
      "  0.          0.07083333  0.04545455  0.          0.13636364  0.25\n",
      "  0.          0.1875      0.125       0.          0.8         1.\n",
      "  0.36666667  0.05        0.13636364 -0.16666667  1.          0.\n",
      " -0.05        0.35        0.         -0.18787879  0.05        0.15416667\n",
      "  0.42        0.5         0.          0.13333333  0.06818182 -0.25833333\n",
      "  0.          0.         -0.15625     0.          0.04        0.\n",
      "  0.2         0.        ]\n",
      "[ 0.13011674  0.14524297  0.11973678  0.12144889 -0.02138907  0.11581605\n",
      "  0.11155736 -0.02138907  0.11248975  0.12641382  0.09980015  0.10130669\n",
      "  0.07905038  0.13400826  0.11549591  0.11325909  0.12641382  0.13496011\n",
      "  0.12843294 -0.03855033  0.12144889  0.15706402  0.12579859  0.10397529\n",
      "  0.10891774  0.10405662  0.12428527  0.11865207  0.11789542  0.11570143\n",
      "  0.14023975  0.11549591  0.12409918  0.11549591  0.10460999  0.13055468\n",
      "  0.1278784   0.1047867   0.11549591  0.04982693  0.10290283  0.1442944\n",
      "  0.11549591  0.14132921  0.12986623  0.10751478  0.12063192  0.1144654\n",
      "  0.10282707  0.13598597  0.1278784   0.11549591  0.09828916  0.12144889\n",
      "  0.13119543  0.13840644  0.12925701  0.10072124  0.79391778 -0.05848521\n",
      "  0.12925701  0.12294026  0.11313322  0.1414982   0.13055468  0.13502702\n",
      "  0.13823877  0.13400826  0.09980015  0.12641382  0.11161921  0.13177618\n",
      "  0.10652414  0.12925701  0.14192882  0.11312211  0.14066661  0.12264723\n",
      "  0.12925701  0.11282845] \n",
      "\n",
      "SGDRegressor()\n",
      "[ 0.         -0.02222222  0.8         0.          0.          0.\n",
      " -0.375       0.06818182  0.         -0.32222222  0.          0.\n",
      " -0.11666667  0.125       0.01818182  0.1         0.3         0.13636364\n",
      "  0.         -0.15        0.          0.31666667  0.          0.\n",
      "  0.          0.7        -0.04166667  0.          0.1         0.\n",
      " -0.06607143  0.          0.          0.          0.14285714  0.075\n",
      "  0.1875      0.          0.25       -1.          0.          0.25\n",
      "  0.          0.07083333  0.04545455  0.          0.13636364  0.25\n",
      "  0.          0.1875      0.125       0.          0.8         1.\n",
      "  0.36666667  0.05        0.13636364 -0.16666667  1.          0.\n",
      " -0.05        0.35        0.         -0.18787879  0.05        0.15416667\n",
      "  0.42        0.5         0.          0.13333333  0.06818182 -0.25833333\n",
      "  0.          0.         -0.15625     0.          0.04        0.\n",
      "  0.2         0.        ]\n",
      "[ 0.02122654  0.06937178  0.00322315  0.00397979 -0.07641746  0.00282521\n",
      "  0.0202597  -0.06912564  0.0029781   0.00397979  0.00397979  0.00953097\n",
      " -0.03297593  0.00397979  0.00397979  0.00397979  0.00397979  0.004303\n",
      "  0.02172773 -0.03626849  0.00397979  0.04355744  0.05693231  0.04861973\n",
      "  0.01687741  0.02032962  0.00948824  0.02034953  0.05249676  0.00516481\n",
      "  0.01299464  0.00397979  0.06811108  0.0078947   0.02185701  0.00438936\n",
      "  0.00397979  0.00846007  0.00397979 -0.07281939  0.00341982  0.19048824\n",
      "  0.00397979  0.02001667  0.00973296  0.02201787  0.09832067 -0.00186799\n",
      "  0.00397979  0.00397979  0.01380812  0.00397979  0.02034953  0.00397979\n",
      "  0.00300444  0.00388757  0.00397979  0.04806335  0.50496796 -0.07281939\n",
      "  0.00397979  0.00811391  0.03495239  0.02060194  0.00397979  0.00397979\n",
      "  0.00985726  0.00397979  0.00397979  0.00397979  0.01797456  0.00397979\n",
      "  0.02045786  0.00397979  0.00315479  0.04676939  0.00397979  0.00393372\n",
      "  0.00397979  0.00763046] \n",
      "\n",
      "LinearRegression()\n",
      "[ 0.         -0.02222222  0.8         0.          0.          0.\n",
      " -0.375       0.06818182  0.         -0.32222222  0.          0.\n",
      " -0.11666667  0.125       0.01818182  0.1         0.3         0.13636364\n",
      "  0.         -0.15        0.          0.31666667  0.          0.\n",
      "  0.          0.7        -0.04166667  0.          0.1         0.\n",
      " -0.06607143  0.          0.          0.          0.14285714  0.075\n",
      "  0.1875      0.          0.25       -1.          0.          0.25\n",
      "  0.          0.07083333  0.04545455  0.          0.13636364  0.25\n",
      "  0.          0.1875      0.125       0.          0.8         1.\n",
      "  0.36666667  0.05        0.13636364 -0.16666667  1.          0.\n",
      " -0.05        0.35        0.         -0.18787879  0.05        0.15416667\n",
      "  0.42        0.5         0.          0.13333333  0.06818182 -0.25833333\n",
      "  0.          0.         -0.15625     0.          0.04        0.\n",
      "  0.2         0.        ]\n",
      "[ 9.27206634e-02  1.33271121e-01  6.63021619e-02  7.07951940e-02\n",
      " -6.64715493e-02  5.36998968e-03  1.33280829e-02 -5.05773518e-02\n",
      "  4.47379341e-02  7.07951940e-02  7.07951940e-02  4.57618596e-02\n",
      " -6.44029206e-02  7.07951940e-02  7.07951940e-02  7.07951940e-02\n",
      "  7.07951940e-02  6.97775229e-02  1.03022961e-01 -1.49999711e-01\n",
      "  7.07951940e-02  1.42057517e-01  3.33139390e-02 -1.28365125e-02\n",
      "  4.77383602e-03  2.03375660e-02  7.30613059e-02  2.15340293e-02\n",
      "  4.14460507e-02  6.30551084e-02  7.65982396e-02  7.07951940e-02\n",
      "  6.88665565e-02  7.27160047e-02  1.42857163e-01  6.92080446e-02\n",
      "  7.07951940e-02  1.35382761e-02  7.07951940e-02 -1.52625146e-08\n",
      "  5.47785471e-02  2.18703332e-01  7.07951940e-02  7.37797367e-02\n",
      "  3.08695002e-02 -8.05096371e-07  1.16779696e-01  5.12796590e-02\n",
      "  7.07951940e-02  7.07951940e-02  7.96361525e-02  7.07951940e-02\n",
      "  2.15340293e-02  7.07951940e-02  6.79739078e-02  6.92581319e-02\n",
      "  7.07951940e-02 -8.25171830e-03  9.08282407e-01 -1.52625146e-08\n",
      "  7.07951940e-02  7.92788162e-02  1.71047915e-02  9.51487121e-02\n",
      "  7.07951940e-02  7.07951940e-02  8.12707311e-02  7.07951940e-02\n",
      "  7.07951940e-02  7.07951940e-02  3.06558498e-02  7.07951940e-02\n",
      "  7.30026189e-03  7.07951940e-02  6.45087634e-02  1.43641164e-02\n",
      "  7.07951940e-02  6.74239935e-02  7.07951940e-02  6.87686215e-02] \n",
      "\n"
     ]
    }
   ],
   "source": [
    "from sklearn.metrics import classification_report\n",
    "import numpy as np\n",
    "from sklearn import linear_model\n",
    "from sklearn import svm\n",
    "\n",
    "classifiers = [\n",
    "    svm.SVR(),\n",
    "    linear_model.SGDRegressor(),\n",
    "    linear_model.LinearRegression()]\n",
    "\n",
    "trainingData    = X_train\n",
    "trainingScores  = y_train\n",
    "predictionData  = X_test\n",
    "\n",
    "for item in classifiers:\n",
    "    print(item)\n",
    "    clf = item\n",
    "    clf.fit(trainingData, trainingScores)\n",
    "    print(y_test)\n",
    "    print(clf.predict(predictionData),'\\n')"
   ],
   "metadata": {
    "collapsed": false,
    "pycharm": {
     "name": "#%%\n"
    }
   }
  }
 ],
 "metadata": {
  "kernelspec": {
   "display_name": "Python 3",
   "language": "python",
   "name": "python3"
  },
  "language_info": {
   "codemirror_mode": {
    "name": "ipython",
    "version": 2
   },
   "file_extension": ".py",
   "mimetype": "text/x-python",
   "name": "python",
   "nbconvert_exporter": "python",
   "pygments_lexer": "ipython2",
   "version": "2.7.6"
  }
 },
 "nbformat": 4,
 "nbformat_minor": 0
}