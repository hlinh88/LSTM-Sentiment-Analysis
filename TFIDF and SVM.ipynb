{
 "cells": [
  {
   "cell_type": "code",
   "execution_count": 57,
   "metadata": {
    "collapsed": true
   },
   "outputs": [],
   "source": [
    "from textblob import TextBlob\n",
    "import math\n",
    "from collections import Counter, defaultdict\n",
    "import tweepy as tw\n",
    "import json\n",
    "import pandas as pd\n",
    "import re\n",
    "import numpy as np\n",
    "import matplotlib.pyplot as plt\n",
    "import seaborn as sns\n",
    "from bs4 import BeautifulSoup\n",
    "%matplotlib inline\n",
    "import nltk\n",
    "from nltk.corpus import stopwords\n",
    "from nltk.stem import WordNetLemmatizer"
   ]
  },
  {
   "cell_type": "code",
   "execution_count": 58,
   "outputs": [],
   "source": [
    "api_key = \"HAcIeikl6eRheQP1oKYGDwPx0\"\n",
    "api_secret = \"gEWmqG7QVXzudnviUXDo98L2UKGYg9PNqy1bAR1geClkHjqBGk\"\n",
    "access_token = \"1481095074465579008-1pApYlU4HRJWpbAXcbdVEVGzdACuEz\"\n",
    "access_token_secret = \"htgD81H4mOxXw5MglAljFRHhcfGAuwsNomXVqvGw0Obwe\"\n",
    "auth = tw.OAuthHandler(api_key, api_secret)\n",
    "auth.set_access_token(access_token, access_token_secret)\n",
    "api = tw.API(auth,wait_on_rate_limit=True)"
   ],
   "metadata": {
    "collapsed": false,
    "pycharm": {
     "name": "#%%\n"
    }
   }
  },
  {
   "cell_type": "code",
   "execution_count": 59,
   "outputs": [
    {
     "name": "stdout",
     "output_type": "stream",
     "text": [
      "Amazon News\n",
      "Amazon Stock\n"
     ]
    }
   ],
   "source": [
    "number_of_tweets = 1000\n",
    "tweets = []\n",
    "user_id =[]\n",
    "created_at = []\n",
    "keyword_list = ['News', 'Stock'] # , 'Customers', 'Employees', 'Company', 'Price', 'Shareholders', 'Market', 'Soaring', 'Trends'\n",
    "company = 'Amazon'\n",
    "final_kw_list = []\n",
    "\n",
    "# Crawl data from keywords\n",
    "for i in range (len(keyword_list)):\n",
    "    kw = str(company + ' ' + keyword_list[i])\n",
    "    print(kw)\n",
    "    final_kw_list.append(kw)\n",
    "    for i in tw.Cursor(api.search, q = kw , lang =\"en\", since = \"2022-01-14\",tweet_mode = \"extended\").items(number_of_tweets):\n",
    "        tweets.append(i.full_text)\n",
    "        user_id.append(i.user.id)\n",
    "        created_at.append(i.created_at)"
   ],
   "metadata": {
    "collapsed": false,
    "pycharm": {
     "name": "#%%\n"
    }
   }
  },
  {
   "cell_type": "code",
   "execution_count": 60,
   "outputs": [
    {
     "data": {
      "text/plain": "              Created_at              User_id  \\\n0    2022-02-07 08:44:18           4419993470   \n1    2022-02-07 08:43:49  1299877337148936192   \n2    2022-02-07 08:42:50             15482079   \n3    2022-02-07 08:42:50  1267197215635726336   \n4    2022-02-07 08:41:32  1483083938151428096   \n...                  ...                  ...   \n1995 2022-02-06 19:21:11  1049736336058408960   \n1996 2022-02-06 19:21:09  1290791241349763072   \n1997 2022-02-06 19:20:39            499672969   \n1998 2022-02-06 19:20:00  1377519267143376898   \n1999 2022-02-06 19:19:54  1253851396648120322   \n\n                                                 Tweets  \n0     Stock Market Today: Amazon's Historic Day Push...  \n1     WOW: Priyanka Chopra Jonas to be seen in Holly...  \n2     Net sales at Amazon were up by 9% year on year...  \n3     &lt;Ethereum Price&gt;\\nETH/USDT(Binance): 306...  \n4     @UNITY_WINS @DougJBalloon Do you like #Amazon ...  \n...                                                 ...  \n1995  They are still in stock on Amazon.\\n\\nGet your...  \n1996  RT @ColinBurnett16: I'm trying to give my book...  \n1997  (US)In Stock: MSI 6600 XT MECH 2X OC - 599.99\\...  \n1998  PowerColor Red Devil AMD Radeon™ RX 6900 XT Ga...  \n1999  RT @alex_avoigt: If you want to predict the fu...  \n\n[2000 rows x 3 columns]",
      "text/html": "<div>\n<style scoped>\n    .dataframe tbody tr th:only-of-type {\n        vertical-align: middle;\n    }\n\n    .dataframe tbody tr th {\n        vertical-align: top;\n    }\n\n    .dataframe thead th {\n        text-align: right;\n    }\n</style>\n<table border=\"1\" class=\"dataframe\">\n  <thead>\n    <tr style=\"text-align: right;\">\n      <th></th>\n      <th>Created_at</th>\n      <th>User_id</th>\n      <th>Tweets</th>\n    </tr>\n  </thead>\n  <tbody>\n    <tr>\n      <th>0</th>\n      <td>2022-02-07 08:44:18</td>\n      <td>4419993470</td>\n      <td>Stock Market Today: Amazon's Historic Day Push...</td>\n    </tr>\n    <tr>\n      <th>1</th>\n      <td>2022-02-07 08:43:49</td>\n      <td>1299877337148936192</td>\n      <td>WOW: Priyanka Chopra Jonas to be seen in Holly...</td>\n    </tr>\n    <tr>\n      <th>2</th>\n      <td>2022-02-07 08:42:50</td>\n      <td>15482079</td>\n      <td>Net sales at Amazon were up by 9% year on year...</td>\n    </tr>\n    <tr>\n      <th>3</th>\n      <td>2022-02-07 08:42:50</td>\n      <td>1267197215635726336</td>\n      <td>&amp;lt;Ethereum Price&amp;gt;\\nETH/USDT(Binance): 306...</td>\n    </tr>\n    <tr>\n      <th>4</th>\n      <td>2022-02-07 08:41:32</td>\n      <td>1483083938151428096</td>\n      <td>@UNITY_WINS @DougJBalloon Do you like #Amazon ...</td>\n    </tr>\n    <tr>\n      <th>...</th>\n      <td>...</td>\n      <td>...</td>\n      <td>...</td>\n    </tr>\n    <tr>\n      <th>1995</th>\n      <td>2022-02-06 19:21:11</td>\n      <td>1049736336058408960</td>\n      <td>They are still in stock on Amazon.\\n\\nGet your...</td>\n    </tr>\n    <tr>\n      <th>1996</th>\n      <td>2022-02-06 19:21:09</td>\n      <td>1290791241349763072</td>\n      <td>RT @ColinBurnett16: I'm trying to give my book...</td>\n    </tr>\n    <tr>\n      <th>1997</th>\n      <td>2022-02-06 19:20:39</td>\n      <td>499672969</td>\n      <td>(US)In Stock: MSI 6600 XT MECH 2X OC - 599.99\\...</td>\n    </tr>\n    <tr>\n      <th>1998</th>\n      <td>2022-02-06 19:20:00</td>\n      <td>1377519267143376898</td>\n      <td>PowerColor Red Devil AMD Radeon™ RX 6900 XT Ga...</td>\n    </tr>\n    <tr>\n      <th>1999</th>\n      <td>2022-02-06 19:19:54</td>\n      <td>1253851396648120322</td>\n      <td>RT @alex_avoigt: If you want to predict the fu...</td>\n    </tr>\n  </tbody>\n</table>\n<p>2000 rows × 3 columns</p>\n</div>"
     },
     "execution_count": 60,
     "metadata": {},
     "output_type": "execute_result"
    }
   ],
   "source": [
    "df = pd.DataFrame({\"Created_at\": created_at,\"User_id\": user_id,\"Tweets\":tweets})\n",
    "df"
   ],
   "metadata": {
    "collapsed": false,
    "pycharm": {
     "name": "#%%\n"
    }
   }
  },
  {
   "cell_type": "code",
   "execution_count": 61,
   "outputs": [],
   "source": [
    "df = df[~df.Tweets.str.contains(\"RT\")]\n",
    "df = df.reset_index(drop = True)"
   ],
   "metadata": {
    "collapsed": false,
    "pycharm": {
     "name": "#%%\n"
    }
   }
  },
  {
   "cell_type": "code",
   "execution_count": 62,
   "outputs": [],
   "source": [
    "def clean_up_tweet(text):\n",
    "    text = re.sub(r'@[A-Za-z0-9_]+','',text) # Remove mentions @\n",
    "    text = re.sub(r'#', '', text) # Remove hastag symbol\n",
    "    text = re.sub(r'https?:\\/\\/[A-Za-z0-9\\.\\/]+', '', text) # Remove hyper link\n",
    "    text = re.sub('[^A-Za-z0-9]+', ' ', text) # Remove special characters\n",
    "    text = re.sub(r'[0-9]+', '', text)\n",
    "    #Remove stop words\n",
    "    res = ''\n",
    "    for word in text.split():\n",
    "        if word not in stopwords.words('english'):\n",
    "            res += WordNetLemmatizer().lemmatize(word) + ' '\n",
    "\n",
    "    return res"
   ],
   "metadata": {
    "collapsed": false,
    "pycharm": {
     "name": "#%%\n"
    }
   }
  },
  {
   "cell_type": "code",
   "execution_count": 63,
   "outputs": [
    {
     "data": {
      "text/plain": "             Created_at              User_id  \\\n0   2022-02-07 08:44:18           4419993470   \n1   2022-02-07 08:43:49  1299877337148936192   \n2   2022-02-07 08:42:50             15482079   \n3   2022-02-07 08:42:50  1267197215635726336   \n4   2022-02-07 08:41:32  1483083938151428096   \n..                  ...                  ...   \n640 2022-02-06 19:24:33  1355424061027876867   \n641 2022-02-06 19:23:30            138925377   \n642 2022-02-06 19:22:49  1306463816226660352   \n643 2022-02-06 19:21:27             16557144   \n644 2022-02-06 19:21:11  1049736336058408960   \n\n                                                Tweets  \n0    Stock Market Today Amazon Historic Day Pushes ...  \n1    WOW Priyanka Chopra Jonas seen Hollywood actio...  \n2    Net sale Amazon year year bn bn three month De...  \n3    lt Ethereum Price gt ETH USDT Binance Check Pr...  \n4    Do like Amazon Gift Card Great news This Amazo...  \n..                                                 ...  \n640  Stocks climb investor weigh surprising job rep...  \n641        The Motorola MA Wireless back stock Amazon   \n642  Amazon antonline Store Intel Core KF Hexadeca ...  \n643                     Amazon must stock tank surely   \n644            They still stock Amazon Get copy today   \n\n[645 rows x 3 columns]",
      "text/html": "<div>\n<style scoped>\n    .dataframe tbody tr th:only-of-type {\n        vertical-align: middle;\n    }\n\n    .dataframe tbody tr th {\n        vertical-align: top;\n    }\n\n    .dataframe thead th {\n        text-align: right;\n    }\n</style>\n<table border=\"1\" class=\"dataframe\">\n  <thead>\n    <tr style=\"text-align: right;\">\n      <th></th>\n      <th>Created_at</th>\n      <th>User_id</th>\n      <th>Tweets</th>\n    </tr>\n  </thead>\n  <tbody>\n    <tr>\n      <th>0</th>\n      <td>2022-02-07 08:44:18</td>\n      <td>4419993470</td>\n      <td>Stock Market Today Amazon Historic Day Pushes ...</td>\n    </tr>\n    <tr>\n      <th>1</th>\n      <td>2022-02-07 08:43:49</td>\n      <td>1299877337148936192</td>\n      <td>WOW Priyanka Chopra Jonas seen Hollywood actio...</td>\n    </tr>\n    <tr>\n      <th>2</th>\n      <td>2022-02-07 08:42:50</td>\n      <td>15482079</td>\n      <td>Net sale Amazon year year bn bn three month De...</td>\n    </tr>\n    <tr>\n      <th>3</th>\n      <td>2022-02-07 08:42:50</td>\n      <td>1267197215635726336</td>\n      <td>lt Ethereum Price gt ETH USDT Binance Check Pr...</td>\n    </tr>\n    <tr>\n      <th>4</th>\n      <td>2022-02-07 08:41:32</td>\n      <td>1483083938151428096</td>\n      <td>Do like Amazon Gift Card Great news This Amazo...</td>\n    </tr>\n    <tr>\n      <th>...</th>\n      <td>...</td>\n      <td>...</td>\n      <td>...</td>\n    </tr>\n    <tr>\n      <th>640</th>\n      <td>2022-02-06 19:24:33</td>\n      <td>1355424061027876867</td>\n      <td>Stocks climb investor weigh surprising job rep...</td>\n    </tr>\n    <tr>\n      <th>641</th>\n      <td>2022-02-06 19:23:30</td>\n      <td>138925377</td>\n      <td>The Motorola MA Wireless back stock Amazon</td>\n    </tr>\n    <tr>\n      <th>642</th>\n      <td>2022-02-06 19:22:49</td>\n      <td>1306463816226660352</td>\n      <td>Amazon antonline Store Intel Core KF Hexadeca ...</td>\n    </tr>\n    <tr>\n      <th>643</th>\n      <td>2022-02-06 19:21:27</td>\n      <td>16557144</td>\n      <td>Amazon must stock tank surely</td>\n    </tr>\n    <tr>\n      <th>644</th>\n      <td>2022-02-06 19:21:11</td>\n      <td>1049736336058408960</td>\n      <td>They still stock Amazon Get copy today</td>\n    </tr>\n  </tbody>\n</table>\n<p>645 rows × 3 columns</p>\n</div>"
     },
     "execution_count": 63,
     "metadata": {},
     "output_type": "execute_result"
    }
   ],
   "source": [
    "df['Tweets'] = df['Tweets'].apply(clean_up_tweet)\n",
    "df = df.drop_duplicates(subset='Tweets')\n",
    "df = df.reset_index(drop=True)\n",
    "df"
   ],
   "metadata": {
    "collapsed": false,
    "pycharm": {
     "name": "#%%\n"
    }
   }
  },
  {
   "cell_type": "code",
   "execution_count": 64,
   "outputs": [
    {
     "data": {
      "text/plain": "             Created_at              User_id  \\\n0   2022-02-07 08:44:18           4419993470   \n1   2022-02-07 08:43:49  1299877337148936192   \n2   2022-02-07 08:41:32  1483083938151428096   \n3   2022-02-07 08:37:31  1352234446402048003   \n4   2022-02-07 08:36:34  1156926992119488513   \n..                  ...                  ...   \n369 2022-02-06 19:29:50  1027263632613298177   \n370 2022-02-06 19:27:43  1449083262408740866   \n371 2022-02-06 19:27:26             34146256   \n372 2022-02-06 19:24:33  1355424061027876867   \n373 2022-02-06 19:21:27             16557144   \n\n                                                Tweets  Subjectivity  \\\n0    Stock Market Today Amazon Historic Day Pushes ...      0.250000   \n1    WOW Priyanka Chopra Jonas seen Hollywood actio...      0.366667   \n2    Do like Amazon Gift Card Great news This Amazo...      0.583333   \n3    Businesshala News Exclusive Amazon Other Poten...      0.687500   \n4    S amp P rise end best week year far Amazon pus...      0.600000   \n..                                                 ...           ...   \n369  A week record A day Facebook owner Meta Platfo...      1.000000   \n370  A day Facebook owner Meta Platforms suffered d...      1.000000   \n371  Think investing method world best lifetime sid...      0.446667   \n372  Stocks climb investor weigh surprising job rep...      0.477273   \n373                     Amazon must stock tank surely       0.888889   \n\n     Polarity Label  \n0    0.125000     1  \n1    0.066667     1  \n2    0.566667     1  \n3   -0.062500     0  \n4    0.450000     1  \n..        ...   ...  \n369  0.500000     1  \n370  1.000000     1  \n371  0.324167     1  \n372  0.418182     1  \n373  0.500000     1  \n\n[374 rows x 6 columns]",
      "text/html": "<div>\n<style scoped>\n    .dataframe tbody tr th:only-of-type {\n        vertical-align: middle;\n    }\n\n    .dataframe tbody tr th {\n        vertical-align: top;\n    }\n\n    .dataframe thead th {\n        text-align: right;\n    }\n</style>\n<table border=\"1\" class=\"dataframe\">\n  <thead>\n    <tr style=\"text-align: right;\">\n      <th></th>\n      <th>Created_at</th>\n      <th>User_id</th>\n      <th>Tweets</th>\n      <th>Subjectivity</th>\n      <th>Polarity</th>\n      <th>Label</th>\n    </tr>\n  </thead>\n  <tbody>\n    <tr>\n      <th>0</th>\n      <td>2022-02-07 08:44:18</td>\n      <td>4419993470</td>\n      <td>Stock Market Today Amazon Historic Day Pushes ...</td>\n      <td>0.250000</td>\n      <td>0.125000</td>\n      <td>1</td>\n    </tr>\n    <tr>\n      <th>1</th>\n      <td>2022-02-07 08:43:49</td>\n      <td>1299877337148936192</td>\n      <td>WOW Priyanka Chopra Jonas seen Hollywood actio...</td>\n      <td>0.366667</td>\n      <td>0.066667</td>\n      <td>1</td>\n    </tr>\n    <tr>\n      <th>2</th>\n      <td>2022-02-07 08:41:32</td>\n      <td>1483083938151428096</td>\n      <td>Do like Amazon Gift Card Great news This Amazo...</td>\n      <td>0.583333</td>\n      <td>0.566667</td>\n      <td>1</td>\n    </tr>\n    <tr>\n      <th>3</th>\n      <td>2022-02-07 08:37:31</td>\n      <td>1352234446402048003</td>\n      <td>Businesshala News Exclusive Amazon Other Poten...</td>\n      <td>0.687500</td>\n      <td>-0.062500</td>\n      <td>0</td>\n    </tr>\n    <tr>\n      <th>4</th>\n      <td>2022-02-07 08:36:34</td>\n      <td>1156926992119488513</td>\n      <td>S amp P rise end best week year far Amazon pus...</td>\n      <td>0.600000</td>\n      <td>0.450000</td>\n      <td>1</td>\n    </tr>\n    <tr>\n      <th>...</th>\n      <td>...</td>\n      <td>...</td>\n      <td>...</td>\n      <td>...</td>\n      <td>...</td>\n      <td>...</td>\n    </tr>\n    <tr>\n      <th>369</th>\n      <td>2022-02-06 19:29:50</td>\n      <td>1027263632613298177</td>\n      <td>A week record A day Facebook owner Meta Platfo...</td>\n      <td>1.000000</td>\n      <td>0.500000</td>\n      <td>1</td>\n    </tr>\n    <tr>\n      <th>370</th>\n      <td>2022-02-06 19:27:43</td>\n      <td>1449083262408740866</td>\n      <td>A day Facebook owner Meta Platforms suffered d...</td>\n      <td>1.000000</td>\n      <td>1.000000</td>\n      <td>1</td>\n    </tr>\n    <tr>\n      <th>371</th>\n      <td>2022-02-06 19:27:26</td>\n      <td>34146256</td>\n      <td>Think investing method world best lifetime sid...</td>\n      <td>0.446667</td>\n      <td>0.324167</td>\n      <td>1</td>\n    </tr>\n    <tr>\n      <th>372</th>\n      <td>2022-02-06 19:24:33</td>\n      <td>1355424061027876867</td>\n      <td>Stocks climb investor weigh surprising job rep...</td>\n      <td>0.477273</td>\n      <td>0.418182</td>\n      <td>1</td>\n    </tr>\n    <tr>\n      <th>373</th>\n      <td>2022-02-06 19:21:27</td>\n      <td>16557144</td>\n      <td>Amazon must stock tank surely</td>\n      <td>0.888889</td>\n      <td>0.500000</td>\n      <td>1</td>\n    </tr>\n  </tbody>\n</table>\n<p>374 rows × 6 columns</p>\n</div>"
     },
     "execution_count": 64,
     "metadata": {},
     "output_type": "execute_result"
    }
   ],
   "source": [
    "# Create function to get subjectivity\n",
    "def getSubjectivity(text):\n",
    "    return TextBlob(text).sentiment.subjectivity\n",
    "\n",
    "# Create function to get polarity\n",
    "def getPolarity(text):\n",
    "    return TextBlob(text).sentiment.polarity\n",
    "\n",
    "# Function compute negative, positive\n",
    "def getAnalysis(score):\n",
    "    if score < 0:\n",
    "        return np.int_(0)\n",
    "    elif score > 0:\n",
    "        return np.int_(1)\n",
    "    else:\n",
    "        return 'Neutral'\n",
    "\n",
    "df['Subjectivity'] = df['Tweets'].apply(getSubjectivity)\n",
    "df['Polarity'] = df['Tweets'].apply(getPolarity)\n",
    "df['Label'] = df['Polarity'].apply(getAnalysis)\n",
    "df.drop(df.loc[df['Label']=='Neutral'].index, inplace=True)\n",
    "df = df.reset_index(drop=True)\n",
    "df"
   ],
   "metadata": {
    "collapsed": false,
    "pycharm": {
     "name": "#%%\n"
    }
   }
  },
  {
   "cell_type": "code",
   "execution_count": 65,
   "outputs": [],
   "source": [
    "class Tokenizer:\n",
    "\n",
    "    def clean(self, text):\n",
    "        no_html = BeautifulSoup(text).get_text()\n",
    "        clean = re.sub(\"[^a-z\\s]+\", \" \", no_html, flags=re.IGNORECASE)\n",
    "        return re.sub(\"(\\s+)\", \" \", clean)\n",
    "\n",
    "\n",
    "    def tokenize(self, text):\n",
    "        clean = self.clean(text).lower()\n",
    "        stopwords_en = stopwords.words(\"english\")\n",
    "        return [w for w in re.split(\"\\W+\", clean) if not w in stopwords_en]"
   ],
   "metadata": {
    "collapsed": false,
    "pycharm": {
     "name": "#%%\n"
    }
   }
  },
  {
   "cell_type": "code",
   "execution_count": 66,
   "outputs": [],
   "source": [
    "from sklearn.feature_extraction.text import TfidfVectorizer\n",
    "tfidf_vectorizer = TfidfVectorizer(min_df = 5, max_df = 0.8, sublinear_tf = True, use_idf = True)\n",
    "\n",
    "tfidf = tfidf_vectorizer.fit_transform(df['Tweets'].values)"
   ],
   "metadata": {
    "collapsed": false,
    "pycharm": {
     "name": "#%%\n"
    }
   }
  },
  {
   "cell_type": "code",
   "execution_count": 67,
   "outputs": [],
   "source": [
    "from sklearn.model_selection import train_test_split\n",
    "\n",
    "X = df['Tweets'].values\n",
    "y = df['Label'].values.astype('float')\n",
    "\n",
    "X_train, X_test, y_train, y_test = train_test_split(tfidf, y, test_size=0.2, random_state=42)"
   ],
   "metadata": {
    "collapsed": false,
    "pycharm": {
     "name": "#%%\n"
    }
   }
  },
  {
   "cell_type": "code",
   "execution_count": 68,
   "outputs": [
    {
     "name": "stdout",
     "output_type": "stream",
     "text": [
      "              precision    recall  f1-score   support\n",
      "\n",
      "         0.0       0.00      0.00      0.00        24\n",
      "         1.0       0.68      1.00      0.81        51\n",
      "\n",
      "    accuracy                           0.68        75\n",
      "   macro avg       0.34      0.50      0.40        75\n",
      "weighted avg       0.46      0.68      0.55        75\n",
      "\n"
     ]
    },
    {
     "name": "stderr",
     "output_type": "stream",
     "text": [
      "C:\\Users\\hlinh\\anaconda3\\lib\\site-packages\\sklearn\\metrics\\_classification.py:1318: UndefinedMetricWarning: Precision and F-score are ill-defined and being set to 0.0 in labels with no predicted samples. Use `zero_division` parameter to control this behavior.\n",
      "  _warn_prf(average, modifier, msg_start, len(result))\n",
      "C:\\Users\\hlinh\\anaconda3\\lib\\site-packages\\sklearn\\metrics\\_classification.py:1318: UndefinedMetricWarning: Precision and F-score are ill-defined and being set to 0.0 in labels with no predicted samples. Use `zero_division` parameter to control this behavior.\n",
      "  _warn_prf(average, modifier, msg_start, len(result))\n",
      "C:\\Users\\hlinh\\anaconda3\\lib\\site-packages\\sklearn\\metrics\\_classification.py:1318: UndefinedMetricWarning: Precision and F-score are ill-defined and being set to 0.0 in labels with no predicted samples. Use `zero_division` parameter to control this behavior.\n",
      "  _warn_prf(average, modifier, msg_start, len(result))\n"
     ]
    }
   ],
   "source": [
    "from sklearn import svm\n",
    "from sklearn.metrics import classification_report\n",
    "classifier_linear = svm.SVC(kernel='linear')\n",
    "classifier_linear.fit(X_train, y_train)\n",
    "prediction_linear = classifier_linear.predict(X_test)\n",
    "\n",
    "print(classification_report(y_test, prediction_linear))"
   ],
   "metadata": {
    "collapsed": false,
    "pycharm": {
     "name": "#%%\n"
    }
   }
  },
  {
   "cell_type": "markdown",
   "source": [
    "## Testing"
   ],
   "metadata": {
    "collapsed": false,
    "pycharm": {
     "name": "#%% md\n"
    }
   }
  },
  {
   "cell_type": "code",
   "execution_count": 69,
   "outputs": [
    {
     "name": "stdout",
     "output_type": "stream",
     "text": [
      "[1.]\n"
     ]
    }
   ],
   "source": [
    "review = \"\"\"SUPERB, I AM IN LOVE IN THIS PHONE\"\"\"\n",
    "review_vector = tfidf_vectorizer.transform([review])\n",
    "print(classifier_linear.predict(review_vector))"
   ],
   "metadata": {
    "collapsed": false,
    "pycharm": {
     "name": "#%%\n"
    }
   }
  },
  {
   "cell_type": "code",
   "execution_count": 70,
   "outputs": [
    {
     "name": "stdout",
     "output_type": "stream",
     "text": [
      "[1.]\n"
     ]
    }
   ],
   "source": [
    "review = \"\"\"Do not purchase this product. My cell phone blast when I switched the charger\"\"\"\n",
    "review_vector = tfidf_vectorizer.transform([review])\n",
    "print(classifier_linear.predict(review_vector))"
   ],
   "metadata": {
    "collapsed": false,
    "pycharm": {
     "name": "#%%\n"
    }
   }
  },
  {
   "cell_type": "code",
   "execution_count": 71,
   "outputs": [
    {
     "name": "stdout",
     "output_type": "stream",
     "text": [
      "[0.]\n"
     ]
    }
   ],
   "source": [
    "review = \"\"\"I received defective piece display is not working properly\"\"\"\n",
    "review_vector = tfidf_vectorizer.transform([review])\n",
    "print(classifier_linear.predict(review_vector))"
   ],
   "metadata": {
    "collapsed": false,
    "pycharm": {
     "name": "#%%\n"
    }
   }
  }
 ],
 "metadata": {
  "kernelspec": {
   "display_name": "Python 3",
   "language": "python",
   "name": "python3"
  },
  "language_info": {
   "codemirror_mode": {
    "name": "ipython",
    "version": 2
   },
   "file_extension": ".py",
   "mimetype": "text/x-python",
   "name": "python",
   "nbconvert_exporter": "python",
   "pygments_lexer": "ipython2",
   "version": "2.7.6"
  }
 },
 "nbformat": 4,
 "nbformat_minor": 0
}