{
 "cells": [
  {
   "cell_type": "code",
   "execution_count": 10,
   "metadata": {
    "collapsed": true
   },
   "outputs": [],
   "source": [
    "from textblob import TextBlob\n",
    "import math\n",
    "from collections import Counter, defaultdict\n",
    "import tweepy as tw\n",
    "import json\n",
    "import pandas as pd\n",
    "import re\n",
    "import numpy as np\n",
    "import matplotlib.pyplot as plt\n",
    "import seaborn as sns\n",
    "from bs4 import BeautifulSoup\n",
    "%matplotlib inline\n",
    "import nltk\n",
    "from nltk.corpus import stopwords\n",
    "from nltk.stem import WordNetLemmatizer"
   ]
  },
  {
   "cell_type": "code",
   "execution_count": 11,
   "outputs": [],
   "source": [
    "api_key = \"HAcIeikl6eRheQP1oKYGDwPx0\"\n",
    "api_secret = \"gEWmqG7QVXzudnviUXDo98L2UKGYg9PNqy1bAR1geClkHjqBGk\"\n",
    "access_token = \"1481095074465579008-1pApYlU4HRJWpbAXcbdVEVGzdACuEz\"\n",
    "access_token_secret = \"htgD81H4mOxXw5MglAljFRHhcfGAuwsNomXVqvGw0Obwe\"\n",
    "auth = tw.OAuthHandler(api_key, api_secret)\n",
    "auth.set_access_token(access_token, access_token_secret)\n",
    "api = tw.API(auth,wait_on_rate_limit=True)"
   ],
   "metadata": {
    "collapsed": false,
    "pycharm": {
     "name": "#%%\n"
    }
   }
  },
  {
   "cell_type": "code",
   "execution_count": 12,
   "outputs": [
    {
     "name": "stdout",
     "output_type": "stream",
     "text": [
      "Amazon News\n",
      "Amazon Stock\n"
     ]
    }
   ],
   "source": [
    "number_of_tweets = 300\n",
    "tweets = []\n",
    "user_id =[]\n",
    "created_at = []\n",
    "keyword_list = ['News', 'Stock'] # , 'Customers', 'Employees', 'Company', 'Price', 'Shareholders', 'Market', 'Soaring', 'Trends'\n",
    "company = 'Amazon'\n",
    "final_kw_list = []\n",
    "\n",
    "# Crawl data from keywords\n",
    "for i in range (len(keyword_list)):\n",
    "    kw = str(company + ' ' + keyword_list[i])\n",
    "    print(kw)\n",
    "    final_kw_list.append(kw)\n",
    "    for i in tw.Cursor(api.search, q = kw , lang =\"en\", since = \"2022-01-14\",tweet_mode = \"extended\").items(number_of_tweets):\n",
    "        tweets.append(i.full_text)\n",
    "        user_id.append(i.user.id)\n",
    "        created_at.append(i.created_at)"
   ],
   "metadata": {
    "collapsed": false,
    "pycharm": {
     "name": "#%%\n"
    }
   }
  },
  {
   "cell_type": "code",
   "execution_count": 13,
   "outputs": [
    {
     "data": {
      "text/plain": "             Created_at              User_id  \\\n0   2022-02-07 06:02:21  1023855424632586241   \n1   2022-02-07 06:02:14            101747128   \n2   2022-02-07 06:02:09             49404200   \n3   2022-02-07 06:01:42  1468248876675178502   \n4   2022-02-07 06:00:35  1223569742364938240   \n..                  ...                  ...   \n595 2022-02-07 01:31:04             41909613   \n596 2022-02-07 01:31:04  1261001485749452802   \n597 2022-02-07 01:30:50  1389773905410379777   \n598 2022-02-07 01:30:44   780460754910732288   \n599 2022-02-07 01:30:24  1377519267143376898   \n\n                                                Tweets  \n0    Amazon and Nike exploring Peloton takeover, re...  \n1    Amazon and Nike exploring Peloton takeover, re...  \n2    Amazon and Nike exploring Peloton takeover, re...  \n3    RT @katydyers: Some fun news - my first book, ...  \n4    Amazon and Nike exploring Peloton takeover, re...  \n..                                                 ...  \n595  RT @DiscussingFilm: 'The Art and Soul of Dune'...  \n596  RT @DiscussingFilm: 'The Art and Soul of Dune'...  \n597  RT @DiscussingFilm: 'The Art and Soul of Dune'...  \n598  'The Art and Soul of Dune' is back in stock an...  \n599  PowerColor Red Dragon AMD Radeon™ RX 6800 Gami...  \n\n[600 rows x 3 columns]",
      "text/html": "<div>\n<style scoped>\n    .dataframe tbody tr th:only-of-type {\n        vertical-align: middle;\n    }\n\n    .dataframe tbody tr th {\n        vertical-align: top;\n    }\n\n    .dataframe thead th {\n        text-align: right;\n    }\n</style>\n<table border=\"1\" class=\"dataframe\">\n  <thead>\n    <tr style=\"text-align: right;\">\n      <th></th>\n      <th>Created_at</th>\n      <th>User_id</th>\n      <th>Tweets</th>\n    </tr>\n  </thead>\n  <tbody>\n    <tr>\n      <th>0</th>\n      <td>2022-02-07 06:02:21</td>\n      <td>1023855424632586241</td>\n      <td>Amazon and Nike exploring Peloton takeover, re...</td>\n    </tr>\n    <tr>\n      <th>1</th>\n      <td>2022-02-07 06:02:14</td>\n      <td>101747128</td>\n      <td>Amazon and Nike exploring Peloton takeover, re...</td>\n    </tr>\n    <tr>\n      <th>2</th>\n      <td>2022-02-07 06:02:09</td>\n      <td>49404200</td>\n      <td>Amazon and Nike exploring Peloton takeover, re...</td>\n    </tr>\n    <tr>\n      <th>3</th>\n      <td>2022-02-07 06:01:42</td>\n      <td>1468248876675178502</td>\n      <td>RT @katydyers: Some fun news - my first book, ...</td>\n    </tr>\n    <tr>\n      <th>4</th>\n      <td>2022-02-07 06:00:35</td>\n      <td>1223569742364938240</td>\n      <td>Amazon and Nike exploring Peloton takeover, re...</td>\n    </tr>\n    <tr>\n      <th>...</th>\n      <td>...</td>\n      <td>...</td>\n      <td>...</td>\n    </tr>\n    <tr>\n      <th>595</th>\n      <td>2022-02-07 01:31:04</td>\n      <td>41909613</td>\n      <td>RT @DiscussingFilm: 'The Art and Soul of Dune'...</td>\n    </tr>\n    <tr>\n      <th>596</th>\n      <td>2022-02-07 01:31:04</td>\n      <td>1261001485749452802</td>\n      <td>RT @DiscussingFilm: 'The Art and Soul of Dune'...</td>\n    </tr>\n    <tr>\n      <th>597</th>\n      <td>2022-02-07 01:30:50</td>\n      <td>1389773905410379777</td>\n      <td>RT @DiscussingFilm: 'The Art and Soul of Dune'...</td>\n    </tr>\n    <tr>\n      <th>598</th>\n      <td>2022-02-07 01:30:44</td>\n      <td>780460754910732288</td>\n      <td>'The Art and Soul of Dune' is back in stock an...</td>\n    </tr>\n    <tr>\n      <th>599</th>\n      <td>2022-02-07 01:30:24</td>\n      <td>1377519267143376898</td>\n      <td>PowerColor Red Dragon AMD Radeon™ RX 6800 Gami...</td>\n    </tr>\n  </tbody>\n</table>\n<p>600 rows × 3 columns</p>\n</div>"
     },
     "execution_count": 13,
     "metadata": {},
     "output_type": "execute_result"
    }
   ],
   "source": [
    "df = pd.DataFrame({\"Created_at\": created_at,\"User_id\": user_id,\"Tweets\":tweets})\n",
    "df"
   ],
   "metadata": {
    "collapsed": false,
    "pycharm": {
     "name": "#%%\n"
    }
   }
  },
  {
   "cell_type": "code",
   "execution_count": 14,
   "outputs": [],
   "source": [
    "df = df[~df.Tweets.str.contains(\"RT\")]\n",
    "df = df.reset_index(drop = True)"
   ],
   "metadata": {
    "collapsed": false,
    "pycharm": {
     "name": "#%%\n"
    }
   }
  },
  {
   "cell_type": "code",
   "execution_count": 15,
   "outputs": [],
   "source": [
    "def clean_up_tweet(text):\n",
    "    text = re.sub(r'@[A-Za-z0-9_]+','',text) # Remove mentions @\n",
    "    text = re.sub(r'#', '', text) # Remove hastag symbol\n",
    "    text = re.sub(r'https?:\\/\\/[A-Za-z0-9\\.\\/]+', '', text) # Remove hyper link\n",
    "    text = re.sub('[^A-Za-z0-9]+', ' ', text) # Remove special characters\n",
    "    text = re.sub(r'[0-9]+', '', text)\n",
    "    #Remove stop words\n",
    "    res = ''\n",
    "    for word in text.split():\n",
    "        if word not in stopwords.words('english'):\n",
    "            res += WordNetLemmatizer().lemmatize(word) + ' '\n",
    "\n",
    "    return res"
   ],
   "metadata": {
    "collapsed": false,
    "pycharm": {
     "name": "#%%\n"
    }
   }
  },
  {
   "cell_type": "code",
   "execution_count": 16,
   "outputs": [
    {
     "data": {
      "text/plain": "             Created_at              User_id  \\\n0   2022-02-07 06:02:21  1023855424632586241   \n1   2022-02-07 06:00:35  1223569742364938240   \n2   2022-02-07 06:00:19           1354623932   \n3   2022-02-07 05:58:59           2719361006   \n4   2022-02-07 05:55:21   842726388469841921   \n..                  ...                  ...   \n209 2022-02-07 01:47:33  1142815161251782663   \n210 2022-02-07 01:46:40             25656181   \n211 2022-02-07 01:44:35             56600745   \n212 2022-02-07 01:35:45  1306463816226660352   \n213 2022-02-07 01:30:44   780460754910732288   \n\n                                                Tweets  \n0    Amazon Nike exploring Peloton takeover report ...  \n1    Amazon Nike exploring Peloton takeover report ...  \n2    Thank news article No matter talented someone ...  \n3    seek money reopen Evaly server Retailer Retail...  \n4    Amazon Nike exploring Peloton takeover report ...  \n..                                                 ...  \n209  I think incredibly thoughtful I test regularly...  \n210  Peloton stock surge report Amazon Nike among p...  \n211  Amazon AMZN Stock Price Target From MKM Partners   \n212  Amazon ASUS ROG Strix Z A Gaming WiFi D LGA AT...  \n213           The Art Soul Dune back stock sale Order   \n\n[214 rows x 3 columns]",
      "text/html": "<div>\n<style scoped>\n    .dataframe tbody tr th:only-of-type {\n        vertical-align: middle;\n    }\n\n    .dataframe tbody tr th {\n        vertical-align: top;\n    }\n\n    .dataframe thead th {\n        text-align: right;\n    }\n</style>\n<table border=\"1\" class=\"dataframe\">\n  <thead>\n    <tr style=\"text-align: right;\">\n      <th></th>\n      <th>Created_at</th>\n      <th>User_id</th>\n      <th>Tweets</th>\n    </tr>\n  </thead>\n  <tbody>\n    <tr>\n      <th>0</th>\n      <td>2022-02-07 06:02:21</td>\n      <td>1023855424632586241</td>\n      <td>Amazon Nike exploring Peloton takeover report ...</td>\n    </tr>\n    <tr>\n      <th>1</th>\n      <td>2022-02-07 06:00:35</td>\n      <td>1223569742364938240</td>\n      <td>Amazon Nike exploring Peloton takeover report ...</td>\n    </tr>\n    <tr>\n      <th>2</th>\n      <td>2022-02-07 06:00:19</td>\n      <td>1354623932</td>\n      <td>Thank news article No matter talented someone ...</td>\n    </tr>\n    <tr>\n      <th>3</th>\n      <td>2022-02-07 05:58:59</td>\n      <td>2719361006</td>\n      <td>seek money reopen Evaly server Retailer Retail...</td>\n    </tr>\n    <tr>\n      <th>4</th>\n      <td>2022-02-07 05:55:21</td>\n      <td>842726388469841921</td>\n      <td>Amazon Nike exploring Peloton takeover report ...</td>\n    </tr>\n    <tr>\n      <th>...</th>\n      <td>...</td>\n      <td>...</td>\n      <td>...</td>\n    </tr>\n    <tr>\n      <th>209</th>\n      <td>2022-02-07 01:47:33</td>\n      <td>1142815161251782663</td>\n      <td>I think incredibly thoughtful I test regularly...</td>\n    </tr>\n    <tr>\n      <th>210</th>\n      <td>2022-02-07 01:46:40</td>\n      <td>25656181</td>\n      <td>Peloton stock surge report Amazon Nike among p...</td>\n    </tr>\n    <tr>\n      <th>211</th>\n      <td>2022-02-07 01:44:35</td>\n      <td>56600745</td>\n      <td>Amazon AMZN Stock Price Target From MKM Partners</td>\n    </tr>\n    <tr>\n      <th>212</th>\n      <td>2022-02-07 01:35:45</td>\n      <td>1306463816226660352</td>\n      <td>Amazon ASUS ROG Strix Z A Gaming WiFi D LGA AT...</td>\n    </tr>\n    <tr>\n      <th>213</th>\n      <td>2022-02-07 01:30:44</td>\n      <td>780460754910732288</td>\n      <td>The Art Soul Dune back stock sale Order</td>\n    </tr>\n  </tbody>\n</table>\n<p>214 rows × 3 columns</p>\n</div>"
     },
     "execution_count": 16,
     "metadata": {},
     "output_type": "execute_result"
    }
   ],
   "source": [
    "df['Tweets'] = df['Tweets'].apply(clean_up_tweet)\n",
    "df = df.drop_duplicates(subset='Tweets')\n",
    "df = df.reset_index(drop=True)\n",
    "df"
   ],
   "metadata": {
    "collapsed": false,
    "pycharm": {
     "name": "#%%\n"
    }
   }
  },
  {
   "cell_type": "code",
   "execution_count": 17,
   "outputs": [
    {
     "data": {
      "text/plain": "             Created_at              User_id  \\\n0   2022-02-07 06:00:19           1354623932   \n1   2022-02-07 05:53:37  1223569742364938240   \n2   2022-02-07 05:53:31           2732529079   \n3   2022-02-07 05:49:40  1375679610344640517   \n4   2022-02-07 05:48:18  1330105258358530055   \n..                  ...                  ...   \n113 2022-02-07 02:31:04  1006334607946649600   \n114 2022-02-07 02:22:43             14562685   \n115 2022-02-07 02:14:20           2761384656   \n116 2022-02-07 01:52:43             20110439   \n117 2022-02-07 01:47:33  1142815161251782663   \n\n                                                Tweets  Subjectivity  \\\n0    Thank news article No matter talented someone ...      0.460417   \n1    Check deal Apple iPhone mini iPhone available ...      0.400000   \n2    Jeff Bezos net worth surged billion billion je...      0.050000   \n3      EXCITING NEWS Liv going continue holding baton       0.800000   \n4    airtel making compulsory purchase Amazon subsc...      0.900000   \n..                                                 ...           ...   \n113  Top Stock Market Moving Headlines From Last We...      0.355556   \n114  MyPOV fire sale What install base worth darlin...      0.700000   \n115  Do know people put investment capital Googles ...      0.650000   \n116  amazon stock shift frequently right listing go...      0.433929   \n117  I think incredibly thoughtful I test regularly...      0.288462   \n\n     Polarity Label  \n0    0.277083     1  \n1    0.400000     1  \n2    0.150000     1  \n3    0.300000     1  \n4   -0.500000     0  \n..        ...   ...  \n113  0.333333     1  \n114 -0.166667     0  \n115  0.350000     1  \n116  0.371429     1  \n117  0.200000     1  \n\n[118 rows x 6 columns]",
      "text/html": "<div>\n<style scoped>\n    .dataframe tbody tr th:only-of-type {\n        vertical-align: middle;\n    }\n\n    .dataframe tbody tr th {\n        vertical-align: top;\n    }\n\n    .dataframe thead th {\n        text-align: right;\n    }\n</style>\n<table border=\"1\" class=\"dataframe\">\n  <thead>\n    <tr style=\"text-align: right;\">\n      <th></th>\n      <th>Created_at</th>\n      <th>User_id</th>\n      <th>Tweets</th>\n      <th>Subjectivity</th>\n      <th>Polarity</th>\n      <th>Label</th>\n    </tr>\n  </thead>\n  <tbody>\n    <tr>\n      <th>0</th>\n      <td>2022-02-07 06:00:19</td>\n      <td>1354623932</td>\n      <td>Thank news article No matter talented someone ...</td>\n      <td>0.460417</td>\n      <td>0.277083</td>\n      <td>1</td>\n    </tr>\n    <tr>\n      <th>1</th>\n      <td>2022-02-07 05:53:37</td>\n      <td>1223569742364938240</td>\n      <td>Check deal Apple iPhone mini iPhone available ...</td>\n      <td>0.400000</td>\n      <td>0.400000</td>\n      <td>1</td>\n    </tr>\n    <tr>\n      <th>2</th>\n      <td>2022-02-07 05:53:31</td>\n      <td>2732529079</td>\n      <td>Jeff Bezos net worth surged billion billion je...</td>\n      <td>0.050000</td>\n      <td>0.150000</td>\n      <td>1</td>\n    </tr>\n    <tr>\n      <th>3</th>\n      <td>2022-02-07 05:49:40</td>\n      <td>1375679610344640517</td>\n      <td>EXCITING NEWS Liv going continue holding baton</td>\n      <td>0.800000</td>\n      <td>0.300000</td>\n      <td>1</td>\n    </tr>\n    <tr>\n      <th>4</th>\n      <td>2022-02-07 05:48:18</td>\n      <td>1330105258358530055</td>\n      <td>airtel making compulsory purchase Amazon subsc...</td>\n      <td>0.900000</td>\n      <td>-0.500000</td>\n      <td>0</td>\n    </tr>\n    <tr>\n      <th>...</th>\n      <td>...</td>\n      <td>...</td>\n      <td>...</td>\n      <td>...</td>\n      <td>...</td>\n      <td>...</td>\n    </tr>\n    <tr>\n      <th>113</th>\n      <td>2022-02-07 02:31:04</td>\n      <td>1006334607946649600</td>\n      <td>Top Stock Market Moving Headlines From Last We...</td>\n      <td>0.355556</td>\n      <td>0.333333</td>\n      <td>1</td>\n    </tr>\n    <tr>\n      <th>114</th>\n      <td>2022-02-07 02:22:43</td>\n      <td>14562685</td>\n      <td>MyPOV fire sale What install base worth darlin...</td>\n      <td>0.700000</td>\n      <td>-0.166667</td>\n      <td>0</td>\n    </tr>\n    <tr>\n      <th>115</th>\n      <td>2022-02-07 02:14:20</td>\n      <td>2761384656</td>\n      <td>Do know people put investment capital Googles ...</td>\n      <td>0.650000</td>\n      <td>0.350000</td>\n      <td>1</td>\n    </tr>\n    <tr>\n      <th>116</th>\n      <td>2022-02-07 01:52:43</td>\n      <td>20110439</td>\n      <td>amazon stock shift frequently right listing go...</td>\n      <td>0.433929</td>\n      <td>0.371429</td>\n      <td>1</td>\n    </tr>\n    <tr>\n      <th>117</th>\n      <td>2022-02-07 01:47:33</td>\n      <td>1142815161251782663</td>\n      <td>I think incredibly thoughtful I test regularly...</td>\n      <td>0.288462</td>\n      <td>0.200000</td>\n      <td>1</td>\n    </tr>\n  </tbody>\n</table>\n<p>118 rows × 6 columns</p>\n</div>"
     },
     "execution_count": 17,
     "metadata": {},
     "output_type": "execute_result"
    }
   ],
   "source": [
    "# Create function to get subjectivity\n",
    "def getSubjectivity(text):\n",
    "    return TextBlob(text).sentiment.subjectivity\n",
    "\n",
    "# Create function to get polarity\n",
    "def getPolarity(text):\n",
    "    return TextBlob(text).sentiment.polarity\n",
    "\n",
    "# Function compute negative, positive\n",
    "def getAnalysis(score):\n",
    "    if score < 0:\n",
    "        return np.int_(0)\n",
    "    elif score > 0:\n",
    "        return np.int_(1)\n",
    "    else:\n",
    "        return 'Neutral'\n",
    "\n",
    "df['Subjectivity'] = df['Tweets'].apply(getSubjectivity)\n",
    "df['Polarity'] = df['Tweets'].apply(getPolarity)\n",
    "df['Label'] = df['Polarity'].apply(getAnalysis)\n",
    "df.drop(df.loc[df['Label']=='Neutral'].index, inplace=True)\n",
    "df = df.reset_index(drop=True)\n",
    "df"
   ],
   "metadata": {
    "collapsed": false,
    "pycharm": {
     "name": "#%%\n"
    }
   }
  },
  {
   "cell_type": "code",
   "execution_count": null,
   "outputs": [],
   "source": [
    "class Tokenizer:\n",
    "\n",
    "    def clean(self, text):\n",
    "        no_html = BeautifulSoup(text).get_text()\n",
    "        clean = re.sub(\"[^a-z\\s]+\", \" \", no_html, flags=re.IGNORECASE)\n",
    "        return re.sub(\"(\\s+)\", \" \", clean)\n",
    "\n",
    "\n",
    "    def tokenize(self, text):\n",
    "        clean = self.clean(text).lower()\n",
    "        stopwords_en = stopwords.words(\"english\")\n",
    "        return [w for w in re.split(\"\\W+\", clean) if not w in stopwords_en]"
   ],
   "metadata": {
    "collapsed": false,
    "pycharm": {
     "name": "#%%\n"
    }
   }
  },
  {
   "cell_type": "code",
   "execution_count": 27,
   "outputs": [],
   "source": [
    "from sklearn.feature_extraction.text import TfidfVectorizer\n",
    "tfidf_vectorizer = TfidfVectorizer()\n",
    "\n",
    "tfidf = tfidf_vectorizer.fit_transform(df['Tweets'].values.astype('U'))"
   ],
   "metadata": {
    "collapsed": false,
    "pycharm": {
     "name": "#%%\n"
    }
   }
  },
  {
   "cell_type": "code",
   "execution_count": 28,
   "outputs": [],
   "source": [
    "from sklearn.model_selection import train_test_split\n",
    "\n",
    "X = df['Tweets'].values\n",
    "y = df['Label'].values.astype('float')\n",
    "\n",
    "X_train, X_test, y_train, y_test = train_test_split(tfidf, y, test_size=0.2, random_state=42)"
   ],
   "metadata": {
    "collapsed": false,
    "pycharm": {
     "name": "#%%\n"
    }
   }
  },
  {
   "cell_type": "code",
   "execution_count": 29,
   "outputs": [
    {
     "data": {
      "text/plain": "SVC()"
     },
     "execution_count": 29,
     "metadata": {},
     "output_type": "execute_result"
    }
   ],
   "source": [
    "from sklearn.svm import SVC\n",
    "svm = SVC()\n",
    "\n",
    "svm.fit(X_train, y_train)"
   ],
   "metadata": {
    "collapsed": false,
    "pycharm": {
     "name": "#%%\n"
    }
   }
  },
  {
   "cell_type": "code",
   "execution_count": 30,
   "outputs": [
    {
     "data": {
      "text/plain": "0.9468085106382979"
     },
     "execution_count": 30,
     "metadata": {},
     "output_type": "execute_result"
    }
   ],
   "source": [
    "svm.score(X_train, y_train)"
   ],
   "metadata": {
    "collapsed": false,
    "pycharm": {
     "name": "#%%\n"
    }
   }
  },
  {
   "cell_type": "code",
   "execution_count": 31,
   "outputs": [
    {
     "data": {
      "text/plain": "0.6666666666666666"
     },
     "execution_count": 31,
     "metadata": {},
     "output_type": "execute_result"
    }
   ],
   "source": [
    "svm.score(X_test, y_test)"
   ],
   "metadata": {
    "collapsed": false,
    "pycharm": {
     "name": "#%%\n"
    }
   }
  }
 ],
 "metadata": {
  "kernelspec": {
   "display_name": "Python 3",
   "language": "python",
   "name": "python3"
  },
  "language_info": {
   "codemirror_mode": {
    "name": "ipython",
    "version": 2
   },
   "file_extension": ".py",
   "mimetype": "text/x-python",
   "name": "python",
   "nbconvert_exporter": "python",
   "pygments_lexer": "ipython2",
   "version": "2.7.6"
  }
 },
 "nbformat": 4,
 "nbformat_minor": 0
}