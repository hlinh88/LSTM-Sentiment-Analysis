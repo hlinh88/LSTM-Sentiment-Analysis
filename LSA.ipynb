{
 "cells": [
  {
   "cell_type": "code",
   "execution_count": 1,
   "metadata": {
    "collapsed": true
   },
   "outputs": [],
   "source": [
    "from textblob import TextBlob\n",
    "import math\n",
    "from collections import Counter, defaultdict\n",
    "import tweepy as tw\n",
    "import json\n",
    "import pandas as pd\n",
    "import re\n",
    "import numpy as np\n",
    "import matplotlib.pyplot as plt\n",
    "import seaborn as sns\n",
    "from bs4 import BeautifulSoup\n",
    "\n",
    "import nltk\n",
    "from nltk.corpus import stopwords\n",
    "from nltk.stem import WordNetLemmatizer"
   ]
  },
  {
   "cell_type": "code",
   "execution_count": 2,
   "outputs": [],
   "source": [
    "api_key = \"HAcIeikl6eRheQP1oKYGDwPx0\"\n",
    "api_secret = \"gEWmqG7QVXzudnviUXDo98L2UKGYg9PNqy1bAR1geClkHjqBGk\"\n",
    "access_token = \"1481095074465579008-1pApYlU4HRJWpbAXcbdVEVGzdACuEz\"\n",
    "access_token_secret = \"htgD81H4mOxXw5MglAljFRHhcfGAuwsNomXVqvGw0Obwe\"\n",
    "auth = tw.OAuthHandler(api_key, api_secret)\n",
    "auth.set_access_token(access_token, access_token_secret)\n",
    "api = tw.API(auth,wait_on_rate_limit=True)"
   ],
   "metadata": {
    "collapsed": false,
    "pycharm": {
     "name": "#%%\n"
    }
   }
  },
  {
   "cell_type": "code",
   "execution_count": 3,
   "outputs": [
    {
     "name": "stdout",
     "output_type": "stream",
     "text": [
      "Amazon News\n",
      "Amazon Stock\n"
     ]
    }
   ],
   "source": [
    "number_of_tweets = 200\n",
    "tweets = []\n",
    "user_id =[]\n",
    "created_at = []\n",
    "keyword_list = ['News', 'Stock'] # , 'Customers', 'Employees', 'Company', 'Price', 'Shareholders', 'Market', 'Soaring', 'Trends'\n",
    "company = 'Amazon'\n",
    "final_kw_list = []\n",
    "\n",
    "# Crawl data from keywords\n",
    "for i in range (len(keyword_list)):\n",
    "    kw = str(company + ' ' + keyword_list[i])\n",
    "    print(kw)\n",
    "    final_kw_list.append(kw)\n",
    "    for i in tw.Cursor(api.search, q = kw , lang =\"en\", since = \"2022-01-14\",tweet_mode = \"extended\").items(number_of_tweets):\n",
    "        tweets.append(i.full_text)\n",
    "        user_id.append(i.user.id)\n",
    "        created_at.append(i.created_at)"
   ],
   "metadata": {
    "collapsed": false,
    "pycharm": {
     "name": "#%%\n"
    }
   }
  },
  {
   "cell_type": "code",
   "execution_count": 4,
   "outputs": [
    {
     "data": {
      "text/plain": "                                                Tweets\n0    RT @PATPmovie: We give you the news, just a ye...\n1    RT @phoenixrites: Amazon deforestation: Record...\n2    RT @writingben: I'm still reeling from the new...\n3    RT @SiobhanIsaac: Warm your day up with this s...\n4    RT @ProfMarkMaslin: Amazon deforestation: Reco...\n..                                                 ...\n395  (US)In Stock: GIGABYTE AORUS RX 6900 XT Xtreme...\n396  🛎️ IN STOCK ALERT 🛎️\\n\\nGeForce RTX 3080 Ti - ...\n397  RT @StockMKTNewz: The biggest single day marke...\n398  RT @StockMKTNewz: The biggest single day marke...\n399  (US)In Stock: Crucial RAM 16GB Kit (2x8GB) DDR...\n\n[400 rows x 1 columns]",
      "text/html": "<div>\n<style scoped>\n    .dataframe tbody tr th:only-of-type {\n        vertical-align: middle;\n    }\n\n    .dataframe tbody tr th {\n        vertical-align: top;\n    }\n\n    .dataframe thead th {\n        text-align: right;\n    }\n</style>\n<table border=\"1\" class=\"dataframe\">\n  <thead>\n    <tr style=\"text-align: right;\">\n      <th></th>\n      <th>Tweets</th>\n    </tr>\n  </thead>\n  <tbody>\n    <tr>\n      <th>0</th>\n      <td>RT @PATPmovie: We give you the news, just a ye...</td>\n    </tr>\n    <tr>\n      <th>1</th>\n      <td>RT @phoenixrites: Amazon deforestation: Record...</td>\n    </tr>\n    <tr>\n      <th>2</th>\n      <td>RT @writingben: I'm still reeling from the new...</td>\n    </tr>\n    <tr>\n      <th>3</th>\n      <td>RT @SiobhanIsaac: Warm your day up with this s...</td>\n    </tr>\n    <tr>\n      <th>4</th>\n      <td>RT @ProfMarkMaslin: Amazon deforestation: Reco...</td>\n    </tr>\n    <tr>\n      <th>...</th>\n      <td>...</td>\n    </tr>\n    <tr>\n      <th>395</th>\n      <td>(US)In Stock: GIGABYTE AORUS RX 6900 XT Xtreme...</td>\n    </tr>\n    <tr>\n      <th>396</th>\n      <td>🛎️ IN STOCK ALERT 🛎️\\n\\nGeForce RTX 3080 Ti - ...</td>\n    </tr>\n    <tr>\n      <th>397</th>\n      <td>RT @StockMKTNewz: The biggest single day marke...</td>\n    </tr>\n    <tr>\n      <th>398</th>\n      <td>RT @StockMKTNewz: The biggest single day marke...</td>\n    </tr>\n    <tr>\n      <th>399</th>\n      <td>(US)In Stock: Crucial RAM 16GB Kit (2x8GB) DDR...</td>\n    </tr>\n  </tbody>\n</table>\n<p>400 rows × 1 columns</p>\n</div>"
     },
     "execution_count": 4,
     "metadata": {},
     "output_type": "execute_result"
    }
   ],
   "source": [
    "df = pd.DataFrame({\"Tweets\":tweets})\n",
    "df"
   ],
   "metadata": {
    "collapsed": false,
    "pycharm": {
     "name": "#%%\n"
    }
   }
  },
  {
   "cell_type": "code",
   "execution_count": 6,
   "outputs": [],
   "source": [
    "df = df[~df.Tweets.str.contains(\"RT\")]\n",
    "df = df.reset_index(drop = True)"
   ],
   "metadata": {
    "collapsed": false,
    "pycharm": {
     "name": "#%%\n"
    }
   }
  },
  {
   "cell_type": "code",
   "execution_count": 7,
   "outputs": [
    {
     "name": "stderr",
     "output_type": "stream",
     "text": [
      "C:\\Users\\hlinh\\AppData\\Local\\Temp/ipykernel_16672/1530896253.py:1: FutureWarning: The default value of regex will change from True to False in a future version.\n",
      "  df['clean_documents'] = df['Tweets'].str.replace(\"[^a-zA-Z#]\", \" \")#remove words have letters less than 3\n"
     ]
    },
    {
     "data": {
      "text/plain": "                                                Tweets  \\\n0    AVAILABLE NOW!!!\\n\\n#News #Virgins #Billionair...   \n1    Warm your day up with this steamy, fast-paced ...   \n2    Xbox Series S|X restock updates for retailers ...   \n3    TAKE #AliElAli don't wanna #live in #technolog...   \n4    Although TikTok is fun and Amazon  employees h...   \n..                                                 ...   \n140  (US)In Stock: PowerColor Hellhound RX 6600 - 6...   \n141  Yes! Vinyl Back In Stock! https://t.co/njmguZN...   \n142  Mid-year stock up on much need supplies. #clea...   \n143  (US)In Stock: GIGABYTE AORUS RX 6900 XT Xtreme...   \n144  (US)In Stock: Crucial RAM 16GB Kit (2x8GB) DDR...   \n\n                                       clean_documents  \n0    available now #news #virgins #billionaires #sa...  \n1    warm your day with this steamy fast paced read...  \n2    xbox series restock updates for retailers incl...  \n3    take #alielali don wanna #live #technology #ai...  \n4    although tiktok fun and amazon employees have ...  \n..                                                 ...  \n140  stock powercolor hellhound atc https fwlcymy l...  \n141       yes vinyl back stock https njmguznpp #amazon  \n142  mid year stock much need supplies #clearthelis...  \n143  stock gigabyte aorus xtreme waterforce atc htt...  \n144  stock crucial ram kit ddr mhz atc https jmqrgp...  \n\n[145 rows x 2 columns]",
      "text/html": "<div>\n<style scoped>\n    .dataframe tbody tr th:only-of-type {\n        vertical-align: middle;\n    }\n\n    .dataframe tbody tr th {\n        vertical-align: top;\n    }\n\n    .dataframe thead th {\n        text-align: right;\n    }\n</style>\n<table border=\"1\" class=\"dataframe\">\n  <thead>\n    <tr style=\"text-align: right;\">\n      <th></th>\n      <th>Tweets</th>\n      <th>clean_documents</th>\n    </tr>\n  </thead>\n  <tbody>\n    <tr>\n      <th>0</th>\n      <td>AVAILABLE NOW!!!\\n\\n#News #Virgins #Billionair...</td>\n      <td>available now #news #virgins #billionaires #sa...</td>\n    </tr>\n    <tr>\n      <th>1</th>\n      <td>Warm your day up with this steamy, fast-paced ...</td>\n      <td>warm your day with this steamy fast paced read...</td>\n    </tr>\n    <tr>\n      <th>2</th>\n      <td>Xbox Series S|X restock updates for retailers ...</td>\n      <td>xbox series restock updates for retailers incl...</td>\n    </tr>\n    <tr>\n      <th>3</th>\n      <td>TAKE #AliElAli don't wanna #live in #technolog...</td>\n      <td>take #alielali don wanna #live #technology #ai...</td>\n    </tr>\n    <tr>\n      <th>4</th>\n      <td>Although TikTok is fun and Amazon  employees h...</td>\n      <td>although tiktok fun and amazon employees have ...</td>\n    </tr>\n    <tr>\n      <th>...</th>\n      <td>...</td>\n      <td>...</td>\n    </tr>\n    <tr>\n      <th>140</th>\n      <td>(US)In Stock: PowerColor Hellhound RX 6600 - 6...</td>\n      <td>stock powercolor hellhound atc https fwlcymy l...</td>\n    </tr>\n    <tr>\n      <th>141</th>\n      <td>Yes! Vinyl Back In Stock! https://t.co/njmguZN...</td>\n      <td>yes vinyl back stock https njmguznpp #amazon</td>\n    </tr>\n    <tr>\n      <th>142</th>\n      <td>Mid-year stock up on much need supplies. #clea...</td>\n      <td>mid year stock much need supplies #clearthelis...</td>\n    </tr>\n    <tr>\n      <th>143</th>\n      <td>(US)In Stock: GIGABYTE AORUS RX 6900 XT Xtreme...</td>\n      <td>stock gigabyte aorus xtreme waterforce atc htt...</td>\n    </tr>\n    <tr>\n      <th>144</th>\n      <td>(US)In Stock: Crucial RAM 16GB Kit (2x8GB) DDR...</td>\n      <td>stock crucial ram kit ddr mhz atc https jmqrgp...</td>\n    </tr>\n  </tbody>\n</table>\n<p>145 rows × 2 columns</p>\n</div>"
     },
     "execution_count": 7,
     "metadata": {},
     "output_type": "execute_result"
    }
   ],
   "source": [
    "df['clean_documents'] = df['Tweets'].str.replace(\"[^a-zA-Z#]\", \" \")#remove words have letters less than 3\n",
    "df['clean_documents'] = df['clean_documents'].fillna('').apply(lambda x: ' '.join([w for w in x.split() if len(w)>2]))#lowercase all characters\n",
    "df['clean_documents'] = df['clean_documents'].fillna('').apply(lambda x: x.lower())\n",
    "df"
   ],
   "metadata": {
    "collapsed": false,
    "pycharm": {
     "name": "#%%\n"
    }
   }
  },
  {
   "cell_type": "code",
   "execution_count": 8,
   "outputs": [
    {
     "name": "stderr",
     "output_type": "stream",
     "text": [
      "[nltk_data] Downloading package stopwords to\n",
      "[nltk_data]     C:\\Users\\hlinh\\AppData\\Roaming\\nltk_data...\n",
      "[nltk_data]   Package stopwords is already up-to-date!\n"
     ]
    },
    {
     "data": {
      "text/plain": "                                                Tweets  \\\n0    AVAILABLE NOW!!!\\n\\n#News #Virgins #Billionair...   \n1    Warm your day up with this steamy, fast-paced ...   \n2    Xbox Series S|X restock updates for retailers ...   \n3    TAKE #AliElAli don't wanna #live in #technolog...   \n4    Although TikTok is fun and Amazon  employees h...   \n..                                                 ...   \n140  (US)In Stock: PowerColor Hellhound RX 6600 - 6...   \n141  Yes! Vinyl Back In Stock! https://t.co/njmguZN...   \n142  Mid-year stock up on much need supplies. #clea...   \n143  (US)In Stock: GIGABYTE AORUS RX 6900 XT Xtreme...   \n144  (US)In Stock: Crucial RAM 16GB Kit (2x8GB) DDR...   \n\n                                       clean_documents  \n0    available #news #virgins #billionaires #safe #...  \n1    warm day steamy fast paced read #eroticromance...  \n2    xbox series restock updates retailers includin...  \n3    take #alielali wanna #live #technology #ai #ne...  \n4    although tiktok fun amazon employees great sen...  \n..                                                 ...  \n140  stock powercolor hellhound atc https fwlcymy l...  \n141       yes vinyl back stock https njmguznpp #amazon  \n142  mid year stock much need supplies #clearthelis...  \n143  stock gigabyte aorus xtreme waterforce atc htt...  \n144  stock crucial ram kit ddr mhz atc https jmqrgp...  \n\n[145 rows x 2 columns]",
      "text/html": "<div>\n<style scoped>\n    .dataframe tbody tr th:only-of-type {\n        vertical-align: middle;\n    }\n\n    .dataframe tbody tr th {\n        vertical-align: top;\n    }\n\n    .dataframe thead th {\n        text-align: right;\n    }\n</style>\n<table border=\"1\" class=\"dataframe\">\n  <thead>\n    <tr style=\"text-align: right;\">\n      <th></th>\n      <th>Tweets</th>\n      <th>clean_documents</th>\n    </tr>\n  </thead>\n  <tbody>\n    <tr>\n      <th>0</th>\n      <td>AVAILABLE NOW!!!\\n\\n#News #Virgins #Billionair...</td>\n      <td>available #news #virgins #billionaires #safe #...</td>\n    </tr>\n    <tr>\n      <th>1</th>\n      <td>Warm your day up with this steamy, fast-paced ...</td>\n      <td>warm day steamy fast paced read #eroticromance...</td>\n    </tr>\n    <tr>\n      <th>2</th>\n      <td>Xbox Series S|X restock updates for retailers ...</td>\n      <td>xbox series restock updates retailers includin...</td>\n    </tr>\n    <tr>\n      <th>3</th>\n      <td>TAKE #AliElAli don't wanna #live in #technolog...</td>\n      <td>take #alielali wanna #live #technology #ai #ne...</td>\n    </tr>\n    <tr>\n      <th>4</th>\n      <td>Although TikTok is fun and Amazon  employees h...</td>\n      <td>although tiktok fun amazon employees great sen...</td>\n    </tr>\n    <tr>\n      <th>...</th>\n      <td>...</td>\n      <td>...</td>\n    </tr>\n    <tr>\n      <th>140</th>\n      <td>(US)In Stock: PowerColor Hellhound RX 6600 - 6...</td>\n      <td>stock powercolor hellhound atc https fwlcymy l...</td>\n    </tr>\n    <tr>\n      <th>141</th>\n      <td>Yes! Vinyl Back In Stock! https://t.co/njmguZN...</td>\n      <td>yes vinyl back stock https njmguznpp #amazon</td>\n    </tr>\n    <tr>\n      <th>142</th>\n      <td>Mid-year stock up on much need supplies. #clea...</td>\n      <td>mid year stock much need supplies #clearthelis...</td>\n    </tr>\n    <tr>\n      <th>143</th>\n      <td>(US)In Stock: GIGABYTE AORUS RX 6900 XT Xtreme...</td>\n      <td>stock gigabyte aorus xtreme waterforce atc htt...</td>\n    </tr>\n    <tr>\n      <th>144</th>\n      <td>(US)In Stock: Crucial RAM 16GB Kit (2x8GB) DDR...</td>\n      <td>stock crucial ram kit ddr mhz atc https jmqrgp...</td>\n    </tr>\n  </tbody>\n</table>\n<p>145 rows × 2 columns</p>\n</div>"
     },
     "execution_count": 8,
     "metadata": {},
     "output_type": "execute_result"
    }
   ],
   "source": [
    "import nltk\n",
    "nltk.download('stopwords')\n",
    "from nltk.corpus import stopwords\n",
    "stop_words = stopwords.words('english')# tokenization\n",
    "tokenized_doc = df['clean_documents'].fillna('').apply(lambda x: x.split())# remove stop-words\n",
    "tokenized_doc = tokenized_doc.apply(lambda x: [item for item in x if item not in stop_words])# de-tokenization\n",
    "detokenized_doc = []\n",
    "for i in range(len(df)):\n",
    "    t = ' '.join(tokenized_doc[i])\n",
    "    detokenized_doc.append(t)\n",
    "df['clean_documents'] = detokenized_doc\n",
    "df"
   ],
   "metadata": {
    "collapsed": false,
    "pycharm": {
     "name": "#%%\n"
    }
   }
  },
  {
   "cell_type": "code",
   "execution_count": 11,
   "outputs": [
    {
     "data": {
      "text/plain": "                                                Tweets  \\\n0    Warm your day up with this steamy, fast-paced ...   \n1    Xbox Series S|X restock updates for retailers ...   \n2    Although TikTok is fun and Amazon  employees h...   \n3    Beyond your wildest dreams?  https://t.co/OWfI...   \n4    Galaxy S22 screen protectors are here to cover...   \n..                                                 ...   \n132  (US)In Stock: PowerColor Hellhound RX 6600 - 6...   \n133  Yes! Vinyl Back In Stock! https://t.co/njmguZN...   \n134  Mid-year stock up on much need supplies. #clea...   \n135  (US)In Stock: GIGABYTE AORUS RX 6900 XT Xtreme...   \n136  (US)In Stock: Crucial RAM 16GB Kit (2x8GB) DDR...   \n\n                                       clean_documents  Compound Sentiment  \n0    warm day steamy fast paced read #eroticromance...    0.2263         1  \n1    xbox series restock updates retailers includin...    0.7096         1  \n2    although tiktok fun amazon employees great sen...    0.9045         1  \n3    beyond wildest dreams https owfiu wiau #firetv...    0.4019         1  \n4    galaxy screen protectors cover new precious ph...    0.9559         1  \n..                                                 ...       ...       ...  \n132  stock powercolor hellhound atc https fwlcymy l...    0.1779         1  \n133       yes vinyl back stock https njmguznpp #amazon    0.4019         1  \n134  mid year stock much need supplies #clearthelis...    0.7579         1  \n135  stock gigabyte aorus xtreme waterforce atc htt...    0.1779         1  \n136  stock crucial ram kit ddr mhz atc https jmqrgp...    0.1779         1  \n\n[137 rows x 4 columns]",
      "text/html": "<div>\n<style scoped>\n    .dataframe tbody tr th:only-of-type {\n        vertical-align: middle;\n    }\n\n    .dataframe tbody tr th {\n        vertical-align: top;\n    }\n\n    .dataframe thead th {\n        text-align: right;\n    }\n</style>\n<table border=\"1\" class=\"dataframe\">\n  <thead>\n    <tr style=\"text-align: right;\">\n      <th></th>\n      <th>Tweets</th>\n      <th>clean_documents</th>\n      <th>Compound</th>\n      <th>Sentiment</th>\n    </tr>\n  </thead>\n  <tbody>\n    <tr>\n      <th>0</th>\n      <td>Warm your day up with this steamy, fast-paced ...</td>\n      <td>warm day steamy fast paced read #eroticromance...</td>\n      <td>0.2263</td>\n      <td>1</td>\n    </tr>\n    <tr>\n      <th>1</th>\n      <td>Xbox Series S|X restock updates for retailers ...</td>\n      <td>xbox series restock updates retailers includin...</td>\n      <td>0.7096</td>\n      <td>1</td>\n    </tr>\n    <tr>\n      <th>2</th>\n      <td>Although TikTok is fun and Amazon  employees h...</td>\n      <td>although tiktok fun amazon employees great sen...</td>\n      <td>0.9045</td>\n      <td>1</td>\n    </tr>\n    <tr>\n      <th>3</th>\n      <td>Beyond your wildest dreams?  https://t.co/OWfI...</td>\n      <td>beyond wildest dreams https owfiu wiau #firetv...</td>\n      <td>0.4019</td>\n      <td>1</td>\n    </tr>\n    <tr>\n      <th>4</th>\n      <td>Galaxy S22 screen protectors are here to cover...</td>\n      <td>galaxy screen protectors cover new precious ph...</td>\n      <td>0.9559</td>\n      <td>1</td>\n    </tr>\n    <tr>\n      <th>...</th>\n      <td>...</td>\n      <td>...</td>\n      <td>...</td>\n      <td>...</td>\n    </tr>\n    <tr>\n      <th>132</th>\n      <td>(US)In Stock: PowerColor Hellhound RX 6600 - 6...</td>\n      <td>stock powercolor hellhound atc https fwlcymy l...</td>\n      <td>0.1779</td>\n      <td>1</td>\n    </tr>\n    <tr>\n      <th>133</th>\n      <td>Yes! Vinyl Back In Stock! https://t.co/njmguZN...</td>\n      <td>yes vinyl back stock https njmguznpp #amazon</td>\n      <td>0.4019</td>\n      <td>1</td>\n    </tr>\n    <tr>\n      <th>134</th>\n      <td>Mid-year stock up on much need supplies. #clea...</td>\n      <td>mid year stock much need supplies #clearthelis...</td>\n      <td>0.7579</td>\n      <td>1</td>\n    </tr>\n    <tr>\n      <th>135</th>\n      <td>(US)In Stock: GIGABYTE AORUS RX 6900 XT Xtreme...</td>\n      <td>stock gigabyte aorus xtreme waterforce atc htt...</td>\n      <td>0.1779</td>\n      <td>1</td>\n    </tr>\n    <tr>\n      <th>136</th>\n      <td>(US)In Stock: Crucial RAM 16GB Kit (2x8GB) DDR...</td>\n      <td>stock crucial ram kit ddr mhz atc https jmqrgp...</td>\n      <td>0.1779</td>\n      <td>1</td>\n    </tr>\n  </tbody>\n</table>\n<p>137 rows × 4 columns</p>\n</div>"
     },
     "execution_count": 11,
     "metadata": {},
     "output_type": "execute_result"
    }
   ],
   "source": [
    "from nltk.sentiment import SentimentIntensityAnalyzer\n",
    "\n",
    "\n",
    "sentiments = SentimentIntensityAnalyzer()\n",
    "df['Compound'] = [sentiments.polarity_scores(i)[\"compound\"] for i in df[\"clean_documents\"]]\n",
    "score = df[\"Compound\"].values\n",
    "sentiment = []\n",
    "for i in score:\n",
    "    if i > 0 :\n",
    "        sentiment.append(1)\n",
    "    elif i < 0 :\n",
    "        sentiment.append(0)\n",
    "    else:\n",
    "        sentiment.append('Neutral')\n",
    "df[\"Sentiment\"] = sentiment\n",
    "df.drop(df.loc[df['Sentiment']=='Neutral'].index, inplace=True)\n",
    "df = df.reset_index(drop=True)\n",
    "df"
   ],
   "metadata": {
    "collapsed": false,
    "pycharm": {
     "name": "#%%\n"
    }
   }
  },
  {
   "cell_type": "code",
   "execution_count": 12,
   "outputs": [],
   "source": [
    "# tokenization\n",
    "tokenized_doc = df['clean_documents'].fillna('').apply(lambda x: x.split())\n",
    "\n",
    "# remove stop-words\n",
    "tokenized_doc = tokenized_doc.apply(lambda x: [item for item in x if item not in stopwords.words('english')])\n",
    "\n",
    "# de-tokenization\n",
    "detokenized_doc = []\n",
    "for i in range(len(df)):\n",
    "    t = ' '.join(tokenized_doc[i])\n",
    "    detokenized_doc.append(t)\n",
    "\n",
    "df['clean_tweets'] = detokenized_doc"
   ],
   "metadata": {
    "collapsed": false,
    "pycharm": {
     "name": "#%%\n"
    }
   }
  },
  {
   "cell_type": "code",
   "execution_count": 13,
   "outputs": [],
   "source": [
    "from sklearn.feature_extraction.text import TfidfVectorizer\n",
    "\n",
    "# TF-IDF vector\n",
    "vectorizer = TfidfVectorizer(stop_words='english', smooth_idf=True)\n",
    "X = vectorizer.fit_transform(df['clean_tweets'])"
   ],
   "metadata": {
    "collapsed": false,
    "pycharm": {
     "name": "#%%\n"
    }
   }
  },
  {
   "cell_type": "code",
   "execution_count": 14,
   "outputs": [],
   "source": [
    "from sklearn.decomposition import TruncatedSVD\n",
    "\n",
    "# SVD represent documents and terms in vectors\n",
    "svd_model = TruncatedSVD(n_components=2, algorithm='randomized', n_iter=100, random_state=42)\n",
    "lsa = svd_model.fit_transform(X)"
   ],
   "metadata": {
    "collapsed": false,
    "pycharm": {
     "name": "#%%\n"
    }
   }
  },
  {
   "cell_type": "code",
   "execution_count": 15,
   "outputs": [
    {
     "data": {
      "text/plain": "0.7142857142857143"
     },
     "execution_count": 15,
     "metadata": {},
     "output_type": "execute_result"
    }
   ],
   "source": [
    "from sklearn.linear_model import LogisticRegression\n",
    "from sklearn.model_selection import train_test_split\n",
    "from sklearn.metrics import f1_score, accuracy_score\n",
    "# X = df['clean_documents'].values\n",
    "y = df['Sentiment'].values.astype('float')\n",
    "\n",
    "X_train_bow, X_test_bow, y_train_bow, y_test_bow = train_test_split(lsa, y, random_state=42, test_size=0.2)\n",
    "lreg = LogisticRegression()\n",
    "lreg.fit(X_train_bow, y_train_bow) # training the model\n",
    "prediction = lreg.predict_proba(X_test_bow) # predicting on the validation set\n",
    "prediction_float = prediction[:,1] >= 0.3 # if prediction >= 0.2 then 1 or else 0\n",
    "prediction_float = prediction_float.astype('float')\n",
    "accuracy_score(y_test_bow, prediction_float)\n",
    "# print(X_train_bow)"
   ],
   "metadata": {
    "collapsed": false,
    "pycharm": {
     "name": "#%%\n"
    }
   }
  }
 ],
 "metadata": {
  "kernelspec": {
   "display_name": "Python 3",
   "language": "python",
   "name": "python3"
  },
  "language_info": {
   "codemirror_mode": {
    "name": "ipython",
    "version": 2
   },
   "file_extension": ".py",
   "mimetype": "text/x-python",
   "name": "python",
   "nbconvert_exporter": "python",
   "pygments_lexer": "ipython2",
   "version": "2.7.6"
  }
 },
 "nbformat": 4,
 "nbformat_minor": 0
}