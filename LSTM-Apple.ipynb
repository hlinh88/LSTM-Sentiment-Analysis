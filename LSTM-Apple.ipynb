{
 "cells": [
  {
   "cell_type": "markdown",
   "metadata": {
    "collapsed": true,
    "pycharm": {
     "name": "#%% md\n"
    }
   },
   "source": [
    "# IMPORT DATASETS AND LIBRARIES"
   ]
  },
  {
   "cell_type": "code",
   "execution_count": 1,
   "metadata": {
    "pycharm": {
     "name": "#%%\n"
    },
    "scrolled": false
   },
   "outputs": [],
   "source": [
    "import pandas as pd\n",
    "import matplotlib.pyplot as plt\n",
    "import numpy as np"
   ]
  },
  {
   "cell_type": "code",
   "execution_count": 2,
   "metadata": {
    "pycharm": {
     "name": "#%%\n"
    }
   },
   "outputs": [
    {
     "data": {
      "text/plain": "            Date Close/Last     Volume      Open       High       Low\n0     02/09/2022    $176.28   71285040   $176.05    $176.65    $174.9\n1     02/08/2022    $174.83   74829220   $171.73    $175.35   $171.43\n2     02/07/2022    $171.66   77251200   $172.86  $173.9458   $170.95\n3     02/04/2022    $172.39   82465400   $171.68     $174.1   $170.68\n4     02/03/2022     $172.9   89418070   $174.48  $176.2399   $172.12\n...          ...        ...        ...       ...        ...       ...\n1254  02/16/2017   $33.8363   90159440  $33.9175    $33.975  $33.7099\n1255  02/15/2017   $33.8775  142314560    $33.88   $34.0675   $33.655\n1256  02/14/2017    $33.755  132218000  $33.3675   $33.7725  $33.3125\n1257  02/13/2017   $33.3225   91959920    $33.27    $33.455  $33.1875\n1258  02/10/2017     $33.03   80185000   $33.115    $33.235  $33.0125\n\n[1259 rows x 6 columns]",
      "text/html": "<div>\n<style scoped>\n    .dataframe tbody tr th:only-of-type {\n        vertical-align: middle;\n    }\n\n    .dataframe tbody tr th {\n        vertical-align: top;\n    }\n\n    .dataframe thead th {\n        text-align: right;\n    }\n</style>\n<table border=\"1\" class=\"dataframe\">\n  <thead>\n    <tr style=\"text-align: right;\">\n      <th></th>\n      <th>Date</th>\n      <th>Close/Last</th>\n      <th>Volume</th>\n      <th>Open</th>\n      <th>High</th>\n      <th>Low</th>\n    </tr>\n  </thead>\n  <tbody>\n    <tr>\n      <th>0</th>\n      <td>02/09/2022</td>\n      <td>$176.28</td>\n      <td>71285040</td>\n      <td>$176.05</td>\n      <td>$176.65</td>\n      <td>$174.9</td>\n    </tr>\n    <tr>\n      <th>1</th>\n      <td>02/08/2022</td>\n      <td>$174.83</td>\n      <td>74829220</td>\n      <td>$171.73</td>\n      <td>$175.35</td>\n      <td>$171.43</td>\n    </tr>\n    <tr>\n      <th>2</th>\n      <td>02/07/2022</td>\n      <td>$171.66</td>\n      <td>77251200</td>\n      <td>$172.86</td>\n      <td>$173.9458</td>\n      <td>$170.95</td>\n    </tr>\n    <tr>\n      <th>3</th>\n      <td>02/04/2022</td>\n      <td>$172.39</td>\n      <td>82465400</td>\n      <td>$171.68</td>\n      <td>$174.1</td>\n      <td>$170.68</td>\n    </tr>\n    <tr>\n      <th>4</th>\n      <td>02/03/2022</td>\n      <td>$172.9</td>\n      <td>89418070</td>\n      <td>$174.48</td>\n      <td>$176.2399</td>\n      <td>$172.12</td>\n    </tr>\n    <tr>\n      <th>...</th>\n      <td>...</td>\n      <td>...</td>\n      <td>...</td>\n      <td>...</td>\n      <td>...</td>\n      <td>...</td>\n    </tr>\n    <tr>\n      <th>1254</th>\n      <td>02/16/2017</td>\n      <td>$33.8363</td>\n      <td>90159440</td>\n      <td>$33.9175</td>\n      <td>$33.975</td>\n      <td>$33.7099</td>\n    </tr>\n    <tr>\n      <th>1255</th>\n      <td>02/15/2017</td>\n      <td>$33.8775</td>\n      <td>142314560</td>\n      <td>$33.88</td>\n      <td>$34.0675</td>\n      <td>$33.655</td>\n    </tr>\n    <tr>\n      <th>1256</th>\n      <td>02/14/2017</td>\n      <td>$33.755</td>\n      <td>132218000</td>\n      <td>$33.3675</td>\n      <td>$33.7725</td>\n      <td>$33.3125</td>\n    </tr>\n    <tr>\n      <th>1257</th>\n      <td>02/13/2017</td>\n      <td>$33.3225</td>\n      <td>91959920</td>\n      <td>$33.27</td>\n      <td>$33.455</td>\n      <td>$33.1875</td>\n    </tr>\n    <tr>\n      <th>1258</th>\n      <td>02/10/2017</td>\n      <td>$33.03</td>\n      <td>80185000</td>\n      <td>$33.115</td>\n      <td>$33.235</td>\n      <td>$33.0125</td>\n    </tr>\n  </tbody>\n</table>\n<p>1259 rows × 6 columns</p>\n</div>"
     },
     "execution_count": 2,
     "metadata": {},
     "output_type": "execute_result"
    }
   ],
   "source": [
    "# Read stock prices data\n",
    "stock_price_df = pd.read_csv('Apple_Stock_5Y.csv')\n",
    "stock_price_df"
   ]
  },
  {
   "cell_type": "code",
   "execution_count": 3,
   "metadata": {
    "pycharm": {
     "name": "#%%\n"
    }
   },
   "outputs": [],
   "source": [
    "import re\n",
    "\n",
    "def clean_up_stock(text):\n",
    "    text = re.sub(r'[^\\w]', ' ', text)\n",
    "    return text"
   ]
  },
  {
   "cell_type": "code",
   "execution_count": 4,
   "metadata": {
    "pycharm": {
     "name": "#%%\n"
    }
   },
   "outputs": [
    {
     "data": {
      "text/plain": "            Date  Close/Last     Volume      Open      High       Low\n0     02/09/2022    176.2800   71285040  176.0500  176.6500  174.9000\n1     02/08/2022    174.8300   74829220  171.7300  175.3500  171.4300\n2     02/07/2022    171.6600   77251200  172.8600  173.9458  170.9500\n3     02/04/2022    172.3900   82465400  171.6800  174.1000  170.6800\n4     02/03/2022    172.9000   89418070  174.4800  176.2399  172.1200\n...          ...         ...        ...       ...       ...       ...\n1254  02/16/2017     33.8363   90159440   33.9175   33.9750   33.7099\n1255  02/15/2017     33.8775  142314560   33.8800   34.0675   33.6550\n1256  02/14/2017     33.7550  132218000   33.3675   33.7725   33.3125\n1257  02/13/2017     33.3225   91959920   33.2700   33.4550   33.1875\n1258  02/10/2017     33.0300   80185000   33.1150   33.2350   33.0125\n\n[1259 rows x 6 columns]",
      "text/html": "<div>\n<style scoped>\n    .dataframe tbody tr th:only-of-type {\n        vertical-align: middle;\n    }\n\n    .dataframe tbody tr th {\n        vertical-align: top;\n    }\n\n    .dataframe thead th {\n        text-align: right;\n    }\n</style>\n<table border=\"1\" class=\"dataframe\">\n  <thead>\n    <tr style=\"text-align: right;\">\n      <th></th>\n      <th>Date</th>\n      <th>Close/Last</th>\n      <th>Volume</th>\n      <th>Open</th>\n      <th>High</th>\n      <th>Low</th>\n    </tr>\n  </thead>\n  <tbody>\n    <tr>\n      <th>0</th>\n      <td>02/09/2022</td>\n      <td>176.2800</td>\n      <td>71285040</td>\n      <td>176.0500</td>\n      <td>176.6500</td>\n      <td>174.9000</td>\n    </tr>\n    <tr>\n      <th>1</th>\n      <td>02/08/2022</td>\n      <td>174.8300</td>\n      <td>74829220</td>\n      <td>171.7300</td>\n      <td>175.3500</td>\n      <td>171.4300</td>\n    </tr>\n    <tr>\n      <th>2</th>\n      <td>02/07/2022</td>\n      <td>171.6600</td>\n      <td>77251200</td>\n      <td>172.8600</td>\n      <td>173.9458</td>\n      <td>170.9500</td>\n    </tr>\n    <tr>\n      <th>3</th>\n      <td>02/04/2022</td>\n      <td>172.3900</td>\n      <td>82465400</td>\n      <td>171.6800</td>\n      <td>174.1000</td>\n      <td>170.6800</td>\n    </tr>\n    <tr>\n      <th>4</th>\n      <td>02/03/2022</td>\n      <td>172.9000</td>\n      <td>89418070</td>\n      <td>174.4800</td>\n      <td>176.2399</td>\n      <td>172.1200</td>\n    </tr>\n    <tr>\n      <th>...</th>\n      <td>...</td>\n      <td>...</td>\n      <td>...</td>\n      <td>...</td>\n      <td>...</td>\n      <td>...</td>\n    </tr>\n    <tr>\n      <th>1254</th>\n      <td>02/16/2017</td>\n      <td>33.8363</td>\n      <td>90159440</td>\n      <td>33.9175</td>\n      <td>33.9750</td>\n      <td>33.7099</td>\n    </tr>\n    <tr>\n      <th>1255</th>\n      <td>02/15/2017</td>\n      <td>33.8775</td>\n      <td>142314560</td>\n      <td>33.8800</td>\n      <td>34.0675</td>\n      <td>33.6550</td>\n    </tr>\n    <tr>\n      <th>1256</th>\n      <td>02/14/2017</td>\n      <td>33.7550</td>\n      <td>132218000</td>\n      <td>33.3675</td>\n      <td>33.7725</td>\n      <td>33.3125</td>\n    </tr>\n    <tr>\n      <th>1257</th>\n      <td>02/13/2017</td>\n      <td>33.3225</td>\n      <td>91959920</td>\n      <td>33.2700</td>\n      <td>33.4550</td>\n      <td>33.1875</td>\n    </tr>\n    <tr>\n      <th>1258</th>\n      <td>02/10/2017</td>\n      <td>33.0300</td>\n      <td>80185000</td>\n      <td>33.1150</td>\n      <td>33.2350</td>\n      <td>33.0125</td>\n    </tr>\n  </tbody>\n</table>\n<p>1259 rows × 6 columns</p>\n</div>"
     },
     "execution_count": 4,
     "metadata": {},
     "output_type": "execute_result"
    }
   ],
   "source": [
    "col = ['Close/Last', 'Open', 'High', 'Low']\n",
    "for i in col:\n",
    "    stock_price_df[i] = stock_price_df[i].replace({r'\\$':''}, regex = True)\n",
    "    stock_price_df[i] = stock_price_df[i].astype(float)\n",
    "\n",
    "stock_price_df"
   ]
  },
  {
   "cell_type": "code",
   "execution_count": 5,
   "metadata": {
    "pycharm": {
     "name": "#%%\n"
    }
   },
   "outputs": [
    {
     "data": {
      "text/plain": "0        33.0300\n1        33.3225\n2        33.7550\n3        33.8775\n4        33.8363\n          ...   \n1254    172.9000\n1255    172.3900\n1256    171.6600\n1257    174.8300\n1258    176.2800\nName: Close/Last, Length: 1259, dtype: float64"
     },
     "execution_count": 5,
     "metadata": {},
     "output_type": "execute_result"
    }
   ],
   "source": [
    "df = stock_price_df.reset_index()['Close/Last']\n",
    "df = df.iloc[::-1].reset_index()['Close/Last']\n",
    "df"
   ]
  },
  {
   "cell_type": "code",
   "execution_count": 6,
   "metadata": {
    "pycharm": {
     "name": "#%%\n"
    }
   },
   "outputs": [
    {
     "data": {
      "text/plain": "[<matplotlib.lines.Line2D at 0x1f8336335b0>]"
     },
     "execution_count": 6,
     "metadata": {},
     "output_type": "execute_result"
    },
    {
     "data": {
      "text/plain": "<Figure size 432x288 with 1 Axes>",
      "image/png": "[encoded data removed]"
     },
     "metadata": {
      "needs_background": "light"
     },
     "output_type": "display_data"
    }
   ],
   "source": [
    "plt.plot(df)"
   ]
  },
  {
   "cell_type": "markdown",
   "metadata": {
    "pycharm": {
     "name": "#%% md\n"
    }
   },
   "source": [
    "# MinMax Scaler"
   ]
  },
  {
   "cell_type": "code",
   "execution_count": 7,
   "metadata": {
    "pycharm": {
     "name": "#%%\n"
    }
   },
   "outputs": [
    {
     "name": "stdout",
     "output_type": "stream",
     "text": [
      "[[0.        ]\n",
      " [0.00196335]\n",
      " [0.00486643]\n",
      " ...\n",
      " [0.93052759]\n",
      " [0.95180561]\n",
      " [0.96153846]]\n"
     ]
    }
   ],
   "source": [
    "from sklearn.preprocessing import MinMaxScaler\n",
    "scaler = MinMaxScaler(feature_range=(0,1))\n",
    "df = scaler.fit_transform(np.array(df).reshape(-1,1))\n",
    "print(df)"
   ]
  },
  {
   "cell_type": "markdown",
   "metadata": {
    "pycharm": {
     "name": "#%% md\n"
    }
   },
   "source": [
    "# Splitting Data to train test"
   ]
  },
  {
   "cell_type": "code",
   "execution_count": 8,
   "metadata": {
    "pycharm": {
     "name": "#%%\n"
    }
   },
   "outputs": [],
   "source": [
    "training_size = int(len(df) * 0.7)\n",
    "test_size = len(df) - training_size\n",
    "train_data, test_data = df[0:training_size,:], df[training_size:len(df),:1]"
   ]
  },
  {
   "cell_type": "code",
   "execution_count": 9,
   "metadata": {
    "pycharm": {
     "name": "#%%\n"
    }
   },
   "outputs": [],
   "source": [
    "# Convert an array of values into a dataset matrix\n",
    "def create_dataset(dataset, time_step=1):\n",
    "    dataX, dataY = [], []\n",
    "    for i in range(len(dataset)-time_step-1):\n",
    "        a = dataset[i:(i+time_step), 0]   ###i=0, 0,1,2,3-----99   100\n",
    "        dataX.append(a)\n",
    "        dataY.append(dataset[i + time_step, 0])\n",
    "    return np.array(dataX), np.array(dataY)"
   ]
  },
  {
   "cell_type": "code",
   "execution_count": 10,
   "metadata": {
    "pycharm": {
     "name": "#%%\n"
    }
   },
   "outputs": [],
   "source": [
    "time_step = 100\n",
    "feature = 1\n",
    "X_train, y_train = create_dataset(train_data, time_step)\n",
    "X_test, y_test = create_dataset(test_data, time_step)"
   ]
  },
  {
   "cell_type": "code",
   "execution_count": 11,
   "metadata": {
    "pycharm": {
     "name": "#%%\n"
    }
   },
   "outputs": [],
   "source": [
    "# Reshape input to be [samples, time steps, features] which is required for LSTM\n",
    "X_train =X_train.reshape(X_train.shape[0],X_train.shape[1] , feature)\n",
    "X_test = X_test.reshape(X_test.shape[0],X_test.shape[1] , feature)"
   ]
  },
  {
   "cell_type": "code",
   "execution_count": 12,
   "metadata": {
    "pycharm": {
     "name": "#%%\n"
    },
    "scrolled": false
   },
   "outputs": [
    {
     "name": "stderr",
     "output_type": "stream",
     "text": [
      "Using TensorFlow backend.\n"
     ]
    }
   ],
   "source": [
    "### Create the Stacked LSTM model\n",
    "\n",
    "from tensorflow.python.keras.layers import Dense, LSTM\n",
    "from tensorflow.python.keras.models import Sequential"
   ]
  },
  {
   "cell_type": "code",
   "execution_count": 13,
   "metadata": {
    "pycharm": {
     "name": "#%%\n"
    }
   },
   "outputs": [],
   "source": [
    "model= Sequential()\n",
    "model.add(LSTM(50,return_sequences=True,input_shape=(time_step, feature)))\n",
    "model.add(LSTM(50,return_sequences=True))\n",
    "model.add(LSTM(50))\n",
    "model.add(Dense(1))\n",
    "model.compile(loss='mean_squared_error',optimizer='adam')"
   ]
  },
  {
   "cell_type": "code",
   "execution_count": 14,
   "metadata": {
    "pycharm": {
     "name": "#%%\n"
    }
   },
   "outputs": [
    {
     "name": "stdout",
     "output_type": "stream",
     "text": [
      "Model: \"sequential\"\n",
      "_________________________________________________________________\n",
      "Layer (type)                 Output Shape              Param #   \n",
      "=================================================================\n",
      "lstm (LSTM)                  (None, 100, 50)           10400     \n",
      "_________________________________________________________________\n",
      "lstm_1 (LSTM)                (None, 100, 50)           20200     \n",
      "_________________________________________________________________\n",
      "lstm_2 (LSTM)                (None, 50)                20200     \n",
      "_________________________________________________________________\n",
      "dense (Dense)                (None, 1)                 51        \n",
      "=================================================================\n",
      "Total params: 50,851\n",
      "Trainable params: 50,851\n",
      "Non-trainable params: 0\n",
      "_________________________________________________________________\n"
     ]
    }
   ],
   "source": [
    "model.summary()"
   ]
  },
  {
   "cell_type": "code",
   "execution_count": 15,
   "metadata": {
    "pycharm": {
     "name": "#%%\n"
    }
   },
   "outputs": [
    {
     "name": "stdout",
     "output_type": "stream",
     "text": [
      "Epoch 1/100\n",
      "13/13 [==============================] - 7s 172ms/step - loss: 0.0091 - val_loss: 0.0983\n",
      "Epoch 2/100\n",
      "13/13 [==============================] - 2s 129ms/step - loss: 0.0022 - val_loss: 0.0123\n",
      "Epoch 3/100\n",
      "13/13 [==============================] - 2s 122ms/step - loss: 7.1060e-04 - val_loss: 0.0346\n",
      "Epoch 4/100\n",
      "13/13 [==============================] - 2s 122ms/step - loss: 5.0482e-04 - val_loss: 0.0149\n",
      "Epoch 5/100\n",
      "13/13 [==============================] - 2s 125ms/step - loss: 4.6212e-04 - val_loss: 0.0176\n",
      "Epoch 6/100\n",
      "13/13 [==============================] - 2s 119ms/step - loss: 4.1474e-04 - val_loss: 0.0092\n",
      "Epoch 7/100\n",
      "13/13 [==============================] - 2s 118ms/step - loss: 3.9634e-04 - val_loss: 0.0094\n",
      "Epoch 8/100\n",
      "13/13 [==============================] - 1s 116ms/step - loss: 3.8292e-04 - val_loss: 0.0061\n",
      "Epoch 9/100\n",
      "13/13 [==============================] - 2s 122ms/step - loss: 3.9101e-04 - val_loss: 0.0031\n",
      "Epoch 10/100\n",
      "13/13 [==============================] - 1s 115ms/step - loss: 4.1893e-04 - val_loss: 0.0089\n",
      "Epoch 11/100\n",
      "13/13 [==============================] - 2s 117ms/step - loss: 3.6882e-04 - val_loss: 0.0143\n",
      "Epoch 12/100\n",
      "13/13 [==============================] - 2s 126ms/step - loss: 3.2917e-04 - val_loss: 0.0189\n",
      "Epoch 13/100\n",
      "13/13 [==============================] - 2s 121ms/step - loss: 3.4625e-04 - val_loss: 0.0047\n",
      "Epoch 14/100\n",
      "13/13 [==============================] - 2s 117ms/step - loss: 4.1368e-04 - val_loss: 0.0085\n",
      "Epoch 15/100\n",
      "13/13 [==============================] - 2s 118ms/step - loss: 3.0903e-04 - val_loss: 0.0117\n",
      "Epoch 16/100\n",
      "13/13 [==============================] - 2s 123ms/step - loss: 2.9653e-04 - val_loss: 0.0073\n",
      "Epoch 17/100\n",
      "13/13 [==============================] - 2s 130ms/step - loss: 2.8207e-04 - val_loss: 0.0086\n",
      "Epoch 18/100\n",
      "13/13 [==============================] - 2s 124ms/step - loss: 2.7272e-04 - val_loss: 0.0073\n",
      "Epoch 19/100\n",
      "13/13 [==============================] - 2s 129ms/step - loss: 2.9055e-04 - val_loss: 0.0013\n",
      "Epoch 20/100\n",
      "13/13 [==============================] - 2s 125ms/step - loss: 2.7783e-04 - val_loss: 0.0145\n",
      "Epoch 21/100\n",
      "13/13 [==============================] - 2s 134ms/step - loss: 3.0653e-04 - val_loss: 0.0037\n",
      "Epoch 22/100\n",
      "13/13 [==============================] - 2s 128ms/step - loss: 2.5806e-04 - val_loss: 0.0036\n",
      "Epoch 23/100\n",
      "13/13 [==============================] - 2s 125ms/step - loss: 2.8615e-04 - val_loss: 0.0176\n",
      "Epoch 24/100\n",
      "13/13 [==============================] - 2s 121ms/step - loss: 3.1602e-04 - val_loss: 0.0012\n",
      "Epoch 25/100\n",
      "13/13 [==============================] - 2s 124ms/step - loss: 3.4385e-04 - val_loss: 0.0079\n",
      "Epoch 26/100\n",
      "13/13 [==============================] - 2s 127ms/step - loss: 2.6319e-04 - val_loss: 0.0109\n",
      "Epoch 27/100\n",
      "13/13 [==============================] - 2s 126ms/step - loss: 2.5085e-04 - val_loss: 0.0047\n",
      "Epoch 28/100\n",
      "13/13 [==============================] - 2s 122ms/step - loss: 2.3622e-04 - val_loss: 0.0038\n",
      "Epoch 29/100\n",
      "13/13 [==============================] - 2s 125ms/step - loss: 2.5751e-04 - val_loss: 0.0070\n",
      "Epoch 30/100\n",
      "13/13 [==============================] - 2s 118ms/step - loss: 2.3347e-04 - val_loss: 0.0021\n",
      "Epoch 31/100\n",
      "13/13 [==============================] - 2s 122ms/step - loss: 2.3673e-04 - val_loss: 0.0062\n",
      "Epoch 32/100\n",
      "13/13 [==============================] - 2s 124ms/step - loss: 2.4420e-04 - val_loss: 0.0011\n",
      "Epoch 33/100\n",
      "13/13 [==============================] - 2s 121ms/step - loss: 2.6653e-04 - val_loss: 0.0085\n",
      "Epoch 34/100\n",
      "13/13 [==============================] - 2s 118ms/step - loss: 2.7030e-04 - val_loss: 0.0011\n",
      "Epoch 35/100\n",
      "13/13 [==============================] - 2s 117ms/step - loss: 2.7637e-04 - val_loss: 0.0091\n",
      "Epoch 36/100\n",
      "13/13 [==============================] - 2s 132ms/step - loss: 2.4404e-04 - val_loss: 0.0015\n",
      "Epoch 37/100\n",
      "13/13 [==============================] - 2s 137ms/step - loss: 2.3858e-04 - val_loss: 0.0039\n",
      "Epoch 38/100\n",
      "13/13 [==============================] - 2s 122ms/step - loss: 2.1312e-04 - val_loss: 0.0021\n",
      "Epoch 39/100\n",
      "13/13 [==============================] - 2s 121ms/step - loss: 2.4179e-04 - val_loss: 0.0103\n",
      "Epoch 40/100\n",
      "13/13 [==============================] - 2s 125ms/step - loss: 2.3201e-04 - val_loss: 0.0055\n",
      "Epoch 41/100\n",
      "13/13 [==============================] - 2s 122ms/step - loss: 2.1569e-04 - val_loss: 0.0020\n",
      "Epoch 42/100\n",
      "13/13 [==============================] - 2s 120ms/step - loss: 2.2282e-04 - val_loss: 0.0110\n",
      "Epoch 43/100\n",
      "13/13 [==============================] - 2s 118ms/step - loss: 2.0555e-04 - val_loss: 0.0066\n",
      "Epoch 44/100\n",
      "13/13 [==============================] - 2s 124ms/step - loss: 2.0600e-04 - val_loss: 0.0027\n",
      "Epoch 45/100\n",
      "13/13 [==============================] - 2s 127ms/step - loss: 2.1255e-04 - val_loss: 0.0060\n",
      "Epoch 46/100\n",
      "13/13 [==============================] - 2s 126ms/step - loss: 2.0226e-04 - val_loss: 0.0047\n",
      "Epoch 47/100\n",
      "13/13 [==============================] - 2s 122ms/step - loss: 2.0425e-04 - val_loss: 0.0089\n",
      "Epoch 48/100\n",
      "13/13 [==============================] - 2s 128ms/step - loss: 2.0837e-04 - val_loss: 0.0037\n",
      "Epoch 49/100\n",
      "13/13 [==============================] - 2s 120ms/step - loss: 1.9553e-04 - val_loss: 0.0071\n",
      "Epoch 50/100\n",
      "13/13 [==============================] - 1s 116ms/step - loss: 1.9070e-04 - val_loss: 0.0127\n",
      "Epoch 51/100\n",
      "13/13 [==============================] - 2s 117ms/step - loss: 2.1278e-04 - val_loss: 0.0031\n",
      "Epoch 52/100\n",
      "13/13 [==============================] - 2s 124ms/step - loss: 2.1037e-04 - val_loss: 0.0127\n",
      "Epoch 53/100\n",
      "13/13 [==============================] - 2s 121ms/step - loss: 2.2390e-04 - val_loss: 0.0022\n",
      "Epoch 54/100\n",
      "13/13 [==============================] - 2s 123ms/step - loss: 1.8778e-04 - val_loss: 0.0024\n",
      "Epoch 55/100\n",
      "13/13 [==============================] - 2s 131ms/step - loss: 1.9172e-04 - val_loss: 0.0058\n",
      "Epoch 56/100\n",
      "13/13 [==============================] - 2s 154ms/step - loss: 1.9119e-04 - val_loss: 0.0085\n",
      "Epoch 57/100\n",
      "13/13 [==============================] - 2s 141ms/step - loss: 1.8064e-04 - val_loss: 0.0032\n",
      "Epoch 58/100\n",
      "13/13 [==============================] - 2s 140ms/step - loss: 1.8648e-04 - val_loss: 0.0038\n",
      "Epoch 59/100\n",
      "13/13 [==============================] - 2s 139ms/step - loss: 1.8752e-04 - val_loss: 0.0044\n",
      "Epoch 60/100\n",
      "13/13 [==============================] - 2s 142ms/step - loss: 1.7337e-04 - val_loss: 0.0106\n",
      "Epoch 61/100\n",
      "13/13 [==============================] - 2s 139ms/step - loss: 2.0428e-04 - val_loss: 0.0044\n",
      "Epoch 62/100\n",
      "13/13 [==============================] - 2s 141ms/step - loss: 2.0032e-04 - val_loss: 0.0013\n",
      "Epoch 63/100\n",
      "13/13 [==============================] - 2s 139ms/step - loss: 2.8335e-04 - val_loss: 0.0034\n",
      "Epoch 64/100\n",
      "13/13 [==============================] - 2s 135ms/step - loss: 1.9246e-04 - val_loss: 0.0095\n",
      "Epoch 65/100\n",
      "13/13 [==============================] - 2s 129ms/step - loss: 1.8867e-04 - val_loss: 0.0035\n",
      "Epoch 66/100\n",
      "13/13 [==============================] - 2s 126ms/step - loss: 1.8233e-04 - val_loss: 0.0032\n",
      "Epoch 67/100\n",
      "13/13 [==============================] - 2s 122ms/step - loss: 1.7268e-04 - val_loss: 0.0064\n",
      "Epoch 68/100\n",
      "13/13 [==============================] - 2s 123ms/step - loss: 1.6493e-04 - val_loss: 0.0055\n",
      "Epoch 69/100\n",
      "13/13 [==============================] - 2s 128ms/step - loss: 1.5975e-04 - val_loss: 0.0021\n",
      "Epoch 70/100\n",
      "13/13 [==============================] - 2s 126ms/step - loss: 1.8160e-04 - val_loss: 0.0049\n",
      "Epoch 71/100\n",
      "13/13 [==============================] - 2s 121ms/step - loss: 1.6961e-04 - val_loss: 0.0043\n",
      "Epoch 72/100\n",
      "13/13 [==============================] - 2s 119ms/step - loss: 1.6247e-04 - val_loss: 0.0041\n",
      "Epoch 73/100\n",
      "13/13 [==============================] - 2s 121ms/step - loss: 1.5896e-04 - val_loss: 0.0055\n",
      "Epoch 74/100\n",
      "13/13 [==============================] - 2s 119ms/step - loss: 1.5476e-04 - val_loss: 0.0019\n",
      "Epoch 75/100\n",
      "13/13 [==============================] - 2s 123ms/step - loss: 1.5900e-04 - val_loss: 0.0094\n",
      "Epoch 76/100\n",
      "13/13 [==============================] - 2s 127ms/step - loss: 1.5170e-04 - val_loss: 0.0037\n",
      "Epoch 77/100\n",
      "13/13 [==============================] - 2s 119ms/step - loss: 1.6241e-04 - val_loss: 0.0057\n",
      "Epoch 78/100\n",
      "13/13 [==============================] - 2s 122ms/step - loss: 1.5619e-04 - val_loss: 0.0014\n",
      "Epoch 79/100\n",
      "13/13 [==============================] - 2s 122ms/step - loss: 1.6822e-04 - val_loss: 0.0040\n",
      "Epoch 80/100\n",
      "13/13 [==============================] - 2s 118ms/step - loss: 1.5890e-04 - val_loss: 0.0047\n",
      "Epoch 81/100\n",
      "13/13 [==============================] - 2s 118ms/step - loss: 1.5874e-04 - val_loss: 0.0034\n",
      "Epoch 82/100\n",
      "13/13 [==============================] - 2s 117ms/step - loss: 1.6115e-04 - val_loss: 0.0030\n",
      "Epoch 83/100\n",
      "13/13 [==============================] - 2s 123ms/step - loss: 1.5736e-04 - val_loss: 6.0348e-04\n",
      "Epoch 84/100\n",
      "13/13 [==============================] - 2s 129ms/step - loss: 1.8919e-04 - val_loss: 0.0025\n",
      "Epoch 85/100\n",
      "13/13 [==============================] - 2s 124ms/step - loss: 1.4836e-04 - val_loss: 0.0091\n",
      "Epoch 86/100\n",
      "13/13 [==============================] - 2s 128ms/step - loss: 1.6512e-04 - val_loss: 5.5992e-04\n",
      "Epoch 87/100\n",
      "13/13 [==============================] - 2s 123ms/step - loss: 1.6825e-04 - val_loss: 0.0012\n",
      "Epoch 88/100\n",
      "13/13 [==============================] - 2s 122ms/step - loss: 1.5165e-04 - val_loss: 0.0038\n",
      "Epoch 89/100\n",
      "13/13 [==============================] - 2s 124ms/step - loss: 1.3938e-04 - val_loss: 0.0034\n",
      "Epoch 90/100\n",
      "13/13 [==============================] - 2s 124ms/step - loss: 1.4662e-04 - val_loss: 0.0023\n",
      "Epoch 91/100\n",
      "13/13 [==============================] - 2s 131ms/step - loss: 1.5238e-04 - val_loss: 0.0011\n",
      "Epoch 92/100\n",
      "13/13 [==============================] - 2s 130ms/step - loss: 1.3719e-04 - val_loss: 0.0024\n",
      "Epoch 93/100\n",
      "13/13 [==============================] - 2s 129ms/step - loss: 1.3056e-04 - val_loss: 0.0043\n",
      "Epoch 94/100\n",
      "13/13 [==============================] - 2s 132ms/step - loss: 1.2804e-04 - val_loss: 0.0012\n",
      "Epoch 95/100\n",
      "13/13 [==============================] - 2s 132ms/step - loss: 1.2491e-04 - val_loss: 0.0022\n",
      "Epoch 96/100\n",
      "13/13 [==============================] - 2s 129ms/step - loss: 1.3968e-04 - val_loss: 4.9987e-04\n",
      "Epoch 97/100\n",
      "13/13 [==============================] - 2s 121ms/step - loss: 1.6579e-04 - val_loss: 0.0032\n",
      "Epoch 98/100\n",
      "13/13 [==============================] - 2s 125ms/step - loss: 1.2174e-04 - val_loss: 0.0010\n",
      "Epoch 99/100\n",
      "13/13 [==============================] - 2s 125ms/step - loss: 1.2598e-04 - val_loss: 0.0031\n",
      "Epoch 100/100\n",
      "13/13 [==============================] - 2s 121ms/step - loss: 1.1861e-04 - val_loss: 8.8042e-04\n"
     ]
    },
    {
     "data": {
      "text/plain": "<tensorflow.python.keras.callbacks.History at 0x1f843b32f40>"
     },
     "execution_count": 15,
     "metadata": {},
     "output_type": "execute_result"
    }
   ],
   "source": [
    "model.fit(X_train,y_train,validation_data=(X_test,y_test),epochs=100,batch_size=64,verbose=1)"
   ]
  },
  {
   "cell_type": "code",
   "execution_count": 16,
   "outputs": [],
   "source": [
    "# Prediction and check performances\n",
    "train_predict=model.predict(X_train)\n",
    "test_predict=model.predict(X_test)"
   ],
   "metadata": {
    "collapsed": false,
    "pycharm": {
     "name": "#%%\n"
    }
   }
  },
  {
   "cell_type": "code",
   "execution_count": 17,
   "outputs": [],
   "source": [
    "# Inverse transform to original close price\n",
    "train_predict=scaler.inverse_transform(train_predict)\n",
    "test_predict=scaler.inverse_transform(test_predict)"
   ],
   "metadata": {
    "collapsed": false,
    "pycharm": {
     "name": "#%%\n"
    }
   }
  },
  {
   "cell_type": "code",
   "execution_count": 18,
   "outputs": [
    {
     "data": {
      "text/plain": "55.7742000629887"
     },
     "execution_count": 18,
     "metadata": {},
     "output_type": "execute_result"
    }
   ],
   "source": [
    "# Calculate RMSE performance metrics\n",
    "import math\n",
    "from sklearn.metrics import mean_squared_error\n",
    "math.sqrt(mean_squared_error(y_train,train_predict))"
   ],
   "metadata": {
    "collapsed": false,
    "pycharm": {
     "name": "#%%\n"
    }
   }
  },
  {
   "cell_type": "code",
   "execution_count": 19,
   "outputs": [
    {
     "data": {
      "text/plain": "147.03022731160263"
     },
     "execution_count": 19,
     "metadata": {},
     "output_type": "execute_result"
    }
   ],
   "source": [
    "# Test Data RMSE\n",
    "math.sqrt(mean_squared_error(y_test,test_predict))"
   ],
   "metadata": {
    "collapsed": false,
    "pycharm": {
     "name": "#%%\n"
    }
   }
  },
  {
   "cell_type": "code",
   "execution_count": 20,
   "outputs": [
    {
     "data": {
      "text/plain": "<Figure size 432x288 with 1 Axes>",
      "image/png": "[encoded data removed]"
     },
     "metadata": {
      "needs_background": "light"
     },
     "output_type": "display_data"
    }
   ],
   "source": [
    "### Plotting\n",
    "# shift train predictions for plotting\n",
    "look_back=100\n",
    "trainPredictPlot = np.empty_like(df)\n",
    "trainPredictPlot[:, :] = np.nan\n",
    "trainPredictPlot[look_back:len(train_predict)+look_back, :] = train_predict\n",
    "# shift test predictions for plotting\n",
    "testPredictPlot = np.empty_like(df)\n",
    "testPredictPlot[:, :] = np.nan\n",
    "testPredictPlot[len(train_predict)+(look_back*2)+1:len(df)-1, :] = test_predict\n",
    "# plot baseline and predictions\n",
    "plt.plot(scaler.inverse_transform(df))\n",
    "plt.plot(trainPredictPlot)\n",
    "plt.plot(testPredictPlot)\n",
    "plt.show()"
   ],
   "metadata": {
    "collapsed": false,
    "pycharm": {
     "name": "#%%\n"
    }
   }
  },
  {
   "cell_type": "code",
   "execution_count": 21,
   "outputs": [
    {
     "data": {
      "text/plain": "378"
     },
     "execution_count": 21,
     "metadata": {},
     "output_type": "execute_result"
    }
   ],
   "source": [
    "len(test_data)"
   ],
   "metadata": {
    "collapsed": false,
    "pycharm": {
     "name": "#%%\n"
    }
   }
  },
  {
   "cell_type": "code",
   "execution_count": 22,
   "outputs": [
    {
     "data": {
      "text/plain": "array([[0.73775003, 0.74103907, 0.75728286, 0.76386092, 0.76446503,\n        0.75406095, 0.73083635, 0.73701168, 0.72808431, 0.73580346,\n        0.71224325, 0.72546651, 0.73144046, 0.74009934, 0.73748154,\n        0.73687743, 0.72815143, 0.72412404, 0.74325413, 0.75050342,\n        0.76198147, 0.77681568, 0.78017184, 0.78164854, 0.77634582,\n        0.7760102 , 0.78057457, 0.77741979, 0.80238958, 0.78379648,\n        0.77815814, 0.78527319, 0.79514029, 0.79158276, 0.7937307 ,\n        0.78809236, 0.79057592, 0.77117734, 0.77084172, 0.78507182,\n        0.78513894, 0.79185126, 0.80856491, 0.83796483, 0.85595382,\n        0.85910861, 0.86172641, 0.86528393, 0.83084978, 0.853873  ,\n        0.88783729, 0.88427977, 0.87750034, 0.8646127 , 0.88797154,\n        0.92730568, 0.95348369, 0.94999329, 0.98281649, 0.95791381,\n        0.94844946, 0.98180964, 0.93455497, 0.92703719, 0.91770707,\n        0.93945496, 0.95724258, 0.96153846, 0.98872332, 0.98174252,\n        0.98234662, 0.9744261 , 0.97019734, 1.        , 0.98449456,\n        0.95240972, 0.93280977, 0.93395087, 0.93408511, 0.95348369,\n        0.95650423, 0.93408511, 0.93999195, 0.91804269, 0.89407974,\n        0.88253457, 0.86843872, 0.86313599, 0.85078534, 0.85018123,\n        0.84702645, 0.92160021, 0.95147   , 0.9503289 , 0.95858504,\n        0.93885085, 0.93542757, 0.93052759, 0.95180561, 0.96153846]])"
     },
     "execution_count": 22,
     "metadata": {},
     "output_type": "execute_result"
    }
   ],
   "source": [
    "x_input=test_data[278:].reshape(1,-1)\n",
    "x_input.shape\n",
    "x_input"
   ],
   "metadata": {
    "collapsed": false,
    "pycharm": {
     "name": "#%%\n"
    }
   }
  },
  {
   "cell_type": "code",
   "execution_count": 23,
   "outputs": [
    {
     "data": {
      "text/plain": "[0.737750033561552,\n 0.7410390656463957,\n 0.7572828567592966,\n 0.7638609209289839,\n 0.7644650288629347,\n 0.7540609477782254,\n 0.7308363538730032,\n 0.7370116794200565,\n 0.7280843066183381,\n 0.7358034635521548,\n 0.7122432541280709,\n 0.7254665055712178,\n 0.731440461806954,\n 0.7400993421935831,\n 0.7374815411464627,\n 0.7368774332125119,\n 0.7281514297221103,\n 0.7241240434957713,\n 0.743254128070882,\n 0.7505034232782924,\n 0.761981474023359,\n 0.7768156799570413,\n 0.7801718351456571,\n 0.7816485434286481,\n 0.7763458182306351,\n 0.7760102027117733,\n 0.7805745737682911,\n 0.7774197878909921,\n 0.8023895824942945,\n 0.7837964827493625,\n 0.7781581420324877,\n 0.7852731910323535,\n 0.7951402872868844,\n 0.7915827627869515,\n 0.7937307021076655,\n 0.7880923613907908,\n 0.7905759162303666,\n 0.7711773392401665,\n 0.770841723721305,\n 0.7850718217210365,\n 0.7851389448248088,\n 0.7918512552020406,\n 0.8085649080413481,\n 0.8379648274936234,\n 0.8559538193046049,\n 0.8591086051819038,\n 0.8617264062290241,\n 0.8652839307289569,\n 0.8308497784937577,\n 0.853873003087663,\n 0.8878372935964561,\n 0.8842797690965233,\n 0.877500335615519,\n 0.8646126996912339,\n 0.8879715398040006,\n 0.9273056786145794,\n 0.9534836890857835,\n 0.949993287689623,\n 0.9828164854342866,\n 0.9579138139347566,\n 0.9484494563028597,\n 0.9818096388777019,\n 0.9345549738219895,\n 0.9270371861994898,\n 0.9177070747751378,\n 0.9394549603973689,\n 0.9572425828970331,\n 0.9615384615384616,\n 0.9887233185662506,\n 0.9817425157739293,\n 0.9823466237078803,\n 0.9744260974627467,\n 0.9701973419250908,\n 1.0,\n 0.9844945630285945,\n 0.9524097194254263,\n 0.9328097731239094,\n 0.9339508658880388,\n 0.9340851120955834,\n 0.9534836890857835,\n 0.9565042287555378,\n 0.9340851120955834,\n 0.9399919452275475,\n 0.9180426902939994,\n 0.8940797422472816,\n 0.8825345683984428,\n 0.868438716606256,\n 0.8631359914082429,\n 0.8507853403141362,\n 0.8501812323801853,\n 0.8470264465028864,\n 0.9216002147939323,\n 0.951469995972614,\n 0.9503289032084846,\n 0.9585850449724796,\n 0.9388508524634182,\n 0.9354275741710297,\n 0.9305275875956506,\n 0.9518056114914756,\n 0.9615384615384616]"
     },
     "execution_count": 23,
     "metadata": {},
     "output_type": "execute_result"
    }
   ],
   "source": [
    "temp_input=list(x_input)\n",
    "temp_input=temp_input[0].tolist()\n",
    "temp_input"
   ],
   "metadata": {
    "collapsed": false,
    "pycharm": {
     "name": "#%%\n"
    }
   }
  },
  {
   "cell_type": "code",
   "execution_count": 24,
   "outputs": [
    {
     "name": "stdout",
     "output_type": "stream",
     "text": [
      "[0.9823384]\n",
      "101\n",
      "1 day input [0.74103907 0.75728286 0.76386092 0.76446503 0.75406095 0.73083635\n",
      " 0.73701168 0.72808431 0.73580346 0.71224325 0.72546651 0.73144046\n",
      " 0.74009934 0.73748154 0.73687743 0.72815143 0.72412404 0.74325413\n",
      " 0.75050342 0.76198147 0.77681568 0.78017184 0.78164854 0.77634582\n",
      " 0.7760102  0.78057457 0.77741979 0.80238958 0.78379648 0.77815814\n",
      " 0.78527319 0.79514029 0.79158276 0.7937307  0.78809236 0.79057592\n",
      " 0.77117734 0.77084172 0.78507182 0.78513894 0.79185126 0.80856491\n",
      " 0.83796483 0.85595382 0.85910861 0.86172641 0.86528393 0.83084978\n",
      " 0.853873   0.88783729 0.88427977 0.87750034 0.8646127  0.88797154\n",
      " 0.92730568 0.95348369 0.94999329 0.98281649 0.95791381 0.94844946\n",
      " 0.98180964 0.93455497 0.92703719 0.91770707 0.93945496 0.95724258\n",
      " 0.96153846 0.98872332 0.98174252 0.98234662 0.9744261  0.97019734\n",
      " 1.         0.98449456 0.95240972 0.93280977 0.93395087 0.93408511\n",
      " 0.95348369 0.95650423 0.93408511 0.93999195 0.91804269 0.89407974\n",
      " 0.88253457 0.86843872 0.86313599 0.85078534 0.85018123 0.84702645\n",
      " 0.92160021 0.95147    0.9503289  0.95858504 0.93885085 0.93542757\n",
      " 0.93052759 0.95180561 0.96153846 0.98233843]\n",
      "1 day output [[0.99823743]]\n",
      "2 day input [0.75728286 0.76386092 0.76446503 0.75406095 0.73083635 0.73701168\n",
      " 0.72808431 0.73580346 0.71224325 0.72546651 0.73144046 0.74009934\n",
      " 0.73748154 0.73687743 0.72815143 0.72412404 0.74325413 0.75050342\n",
      " 0.76198147 0.77681568 0.78017184 0.78164854 0.77634582 0.7760102\n",
      " 0.78057457 0.77741979 0.80238958 0.78379648 0.77815814 0.78527319\n",
      " 0.79514029 0.79158276 0.7937307  0.78809236 0.79057592 0.77117734\n",
      " 0.77084172 0.78507182 0.78513894 0.79185126 0.80856491 0.83796483\n",
      " 0.85595382 0.85910861 0.86172641 0.86528393 0.83084978 0.853873\n",
      " 0.88783729 0.88427977 0.87750034 0.8646127  0.88797154 0.92730568\n",
      " 0.95348369 0.94999329 0.98281649 0.95791381 0.94844946 0.98180964\n",
      " 0.93455497 0.92703719 0.91770707 0.93945496 0.95724258 0.96153846\n",
      " 0.98872332 0.98174252 0.98234662 0.9744261  0.97019734 1.\n",
      " 0.98449456 0.95240972 0.93280977 0.93395087 0.93408511 0.95348369\n",
      " 0.95650423 0.93408511 0.93999195 0.91804269 0.89407974 0.88253457\n",
      " 0.86843872 0.86313599 0.85078534 0.85018123 0.84702645 0.92160021\n",
      " 0.95147    0.9503289  0.95858504 0.93885085 0.93542757 0.93052759\n",
      " 0.95180561 0.96153846 0.98233843 0.99823743]\n",
      "2 day output [[1.0185112]]\n",
      "3 day input [0.76386092 0.76446503 0.75406095 0.73083635 0.73701168 0.72808431\n",
      " 0.73580346 0.71224325 0.72546651 0.73144046 0.74009934 0.73748154\n",
      " 0.73687743 0.72815143 0.72412404 0.74325413 0.75050342 0.76198147\n",
      " 0.77681568 0.78017184 0.78164854 0.77634582 0.7760102  0.78057457\n",
      " 0.77741979 0.80238958 0.78379648 0.77815814 0.78527319 0.79514029\n",
      " 0.79158276 0.7937307  0.78809236 0.79057592 0.77117734 0.77084172\n",
      " 0.78507182 0.78513894 0.79185126 0.80856491 0.83796483 0.85595382\n",
      " 0.85910861 0.86172641 0.86528393 0.83084978 0.853873   0.88783729\n",
      " 0.88427977 0.87750034 0.8646127  0.88797154 0.92730568 0.95348369\n",
      " 0.94999329 0.98281649 0.95791381 0.94844946 0.98180964 0.93455497\n",
      " 0.92703719 0.91770707 0.93945496 0.95724258 0.96153846 0.98872332\n",
      " 0.98174252 0.98234662 0.9744261  0.97019734 1.         0.98449456\n",
      " 0.95240972 0.93280977 0.93395087 0.93408511 0.95348369 0.95650423\n",
      " 0.93408511 0.93999195 0.91804269 0.89407974 0.88253457 0.86843872\n",
      " 0.86313599 0.85078534 0.85018123 0.84702645 0.92160021 0.95147\n",
      " 0.9503289  0.95858504 0.93885085 0.93542757 0.93052759 0.95180561\n",
      " 0.96153846 0.98233843 0.99823743 1.01851118]\n",
      "3 day output [[1.0412059]]\n",
      "4 day input [0.76446503 0.75406095 0.73083635 0.73701168 0.72808431 0.73580346\n",
      " 0.71224325 0.72546651 0.73144046 0.74009934 0.73748154 0.73687743\n",
      " 0.72815143 0.72412404 0.74325413 0.75050342 0.76198147 0.77681568\n",
      " 0.78017184 0.78164854 0.77634582 0.7760102  0.78057457 0.77741979\n",
      " 0.80238958 0.78379648 0.77815814 0.78527319 0.79514029 0.79158276\n",
      " 0.7937307  0.78809236 0.79057592 0.77117734 0.77084172 0.78507182\n",
      " 0.78513894 0.79185126 0.80856491 0.83796483 0.85595382 0.85910861\n",
      " 0.86172641 0.86528393 0.83084978 0.853873   0.88783729 0.88427977\n",
      " 0.87750034 0.8646127  0.88797154 0.92730568 0.95348369 0.94999329\n",
      " 0.98281649 0.95791381 0.94844946 0.98180964 0.93455497 0.92703719\n",
      " 0.91770707 0.93945496 0.95724258 0.96153846 0.98872332 0.98174252\n",
      " 0.98234662 0.9744261  0.97019734 1.         0.98449456 0.95240972\n",
      " 0.93280977 0.93395087 0.93408511 0.95348369 0.95650423 0.93408511\n",
      " 0.93999195 0.91804269 0.89407974 0.88253457 0.86843872 0.86313599\n",
      " 0.85078534 0.85018123 0.84702645 0.92160021 0.95147    0.9503289\n",
      " 0.95858504 0.93885085 0.93542757 0.93052759 0.95180561 0.96153846\n",
      " 0.98233843 0.99823743 1.01851118 1.04120588]\n",
      "4 day output [[1.0656278]]\n",
      "5 day input [0.75406095 0.73083635 0.73701168 0.72808431 0.73580346 0.71224325\n",
      " 0.72546651 0.73144046 0.74009934 0.73748154 0.73687743 0.72815143\n",
      " 0.72412404 0.74325413 0.75050342 0.76198147 0.77681568 0.78017184\n",
      " 0.78164854 0.77634582 0.7760102  0.78057457 0.77741979 0.80238958\n",
      " 0.78379648 0.77815814 0.78527319 0.79514029 0.79158276 0.7937307\n",
      " 0.78809236 0.79057592 0.77117734 0.77084172 0.78507182 0.78513894\n",
      " 0.79185126 0.80856491 0.83796483 0.85595382 0.85910861 0.86172641\n",
      " 0.86528393 0.83084978 0.853873   0.88783729 0.88427977 0.87750034\n",
      " 0.8646127  0.88797154 0.92730568 0.95348369 0.94999329 0.98281649\n",
      " 0.95791381 0.94844946 0.98180964 0.93455497 0.92703719 0.91770707\n",
      " 0.93945496 0.95724258 0.96153846 0.98872332 0.98174252 0.98234662\n",
      " 0.9744261  0.97019734 1.         0.98449456 0.95240972 0.93280977\n",
      " 0.93395087 0.93408511 0.95348369 0.95650423 0.93408511 0.93999195\n",
      " 0.91804269 0.89407974 0.88253457 0.86843872 0.86313599 0.85078534\n",
      " 0.85018123 0.84702645 0.92160021 0.95147    0.9503289  0.95858504\n",
      " 0.93885085 0.93542757 0.93052759 0.95180561 0.96153846 0.98233843\n",
      " 0.99823743 1.01851118 1.04120588 1.06562781]\n",
      "5 day output [[1.0914451]]\n",
      "6 day input [0.73083635 0.73701168 0.72808431 0.73580346 0.71224325 0.72546651\n",
      " 0.73144046 0.74009934 0.73748154 0.73687743 0.72815143 0.72412404\n",
      " 0.74325413 0.75050342 0.76198147 0.77681568 0.78017184 0.78164854\n",
      " 0.77634582 0.7760102  0.78057457 0.77741979 0.80238958 0.78379648\n",
      " 0.77815814 0.78527319 0.79514029 0.79158276 0.7937307  0.78809236\n",
      " 0.79057592 0.77117734 0.77084172 0.78507182 0.78513894 0.79185126\n",
      " 0.80856491 0.83796483 0.85595382 0.85910861 0.86172641 0.86528393\n",
      " 0.83084978 0.853873   0.88783729 0.88427977 0.87750034 0.8646127\n",
      " 0.88797154 0.92730568 0.95348369 0.94999329 0.98281649 0.95791381\n",
      " 0.94844946 0.98180964 0.93455497 0.92703719 0.91770707 0.93945496\n",
      " 0.95724258 0.96153846 0.98872332 0.98174252 0.98234662 0.9744261\n",
      " 0.97019734 1.         0.98449456 0.95240972 0.93280977 0.93395087\n",
      " 0.93408511 0.95348369 0.95650423 0.93408511 0.93999195 0.91804269\n",
      " 0.89407974 0.88253457 0.86843872 0.86313599 0.85078534 0.85018123\n",
      " 0.84702645 0.92160021 0.95147    0.9503289  0.95858504 0.93885085\n",
      " 0.93542757 0.93052759 0.95180561 0.96153846 0.98233843 0.99823743\n",
      " 1.01851118 1.04120588 1.06562781 1.09144509]\n",
      "6 day output [[1.1184195]]\n",
      "7 day input [0.73701168 0.72808431 0.73580346 0.71224325 0.72546651 0.73144046\n",
      " 0.74009934 0.73748154 0.73687743 0.72815143 0.72412404 0.74325413\n",
      " 0.75050342 0.76198147 0.77681568 0.78017184 0.78164854 0.77634582\n",
      " 0.7760102  0.78057457 0.77741979 0.80238958 0.78379648 0.77815814\n",
      " 0.78527319 0.79514029 0.79158276 0.7937307  0.78809236 0.79057592\n",
      " 0.77117734 0.77084172 0.78507182 0.78513894 0.79185126 0.80856491\n",
      " 0.83796483 0.85595382 0.85910861 0.86172641 0.86528393 0.83084978\n",
      " 0.853873   0.88783729 0.88427977 0.87750034 0.8646127  0.88797154\n",
      " 0.92730568 0.95348369 0.94999329 0.98281649 0.95791381 0.94844946\n",
      " 0.98180964 0.93455497 0.92703719 0.91770707 0.93945496 0.95724258\n",
      " 0.96153846 0.98872332 0.98174252 0.98234662 0.9744261  0.97019734\n",
      " 1.         0.98449456 0.95240972 0.93280977 0.93395087 0.93408511\n",
      " 0.95348369 0.95650423 0.93408511 0.93999195 0.91804269 0.89407974\n",
      " 0.88253457 0.86843872 0.86313599 0.85078534 0.85018123 0.84702645\n",
      " 0.92160021 0.95147    0.9503289  0.95858504 0.93885085 0.93542757\n",
      " 0.93052759 0.95180561 0.96153846 0.98233843 0.99823743 1.01851118\n",
      " 1.04120588 1.06562781 1.09144509 1.11841953]\n",
      "7 day output [[1.1463562]]\n",
      "8 day input [0.72808431 0.73580346 0.71224325 0.72546651 0.73144046 0.74009934\n",
      " 0.73748154 0.73687743 0.72815143 0.72412404 0.74325413 0.75050342\n",
      " 0.76198147 0.77681568 0.78017184 0.78164854 0.77634582 0.7760102\n",
      " 0.78057457 0.77741979 0.80238958 0.78379648 0.77815814 0.78527319\n",
      " 0.79514029 0.79158276 0.7937307  0.78809236 0.79057592 0.77117734\n",
      " 0.77084172 0.78507182 0.78513894 0.79185126 0.80856491 0.83796483\n",
      " 0.85595382 0.85910861 0.86172641 0.86528393 0.83084978 0.853873\n",
      " 0.88783729 0.88427977 0.87750034 0.8646127  0.88797154 0.92730568\n",
      " 0.95348369 0.94999329 0.98281649 0.95791381 0.94844946 0.98180964\n",
      " 0.93455497 0.92703719 0.91770707 0.93945496 0.95724258 0.96153846\n",
      " 0.98872332 0.98174252 0.98234662 0.9744261  0.97019734 1.\n",
      " 0.98449456 0.95240972 0.93280977 0.93395087 0.93408511 0.95348369\n",
      " 0.95650423 0.93408511 0.93999195 0.91804269 0.89407974 0.88253457\n",
      " 0.86843872 0.86313599 0.85078534 0.85018123 0.84702645 0.92160021\n",
      " 0.95147    0.9503289  0.95858504 0.93885085 0.93542757 0.93052759\n",
      " 0.95180561 0.96153846 0.98233843 0.99823743 1.01851118 1.04120588\n",
      " 1.06562781 1.09144509 1.11841953 1.14635623]\n",
      "8 day output [[1.1751041]]\n",
      "9 day input [0.73580346 0.71224325 0.72546651 0.73144046 0.74009934 0.73748154\n",
      " 0.73687743 0.72815143 0.72412404 0.74325413 0.75050342 0.76198147\n",
      " 0.77681568 0.78017184 0.78164854 0.77634582 0.7760102  0.78057457\n",
      " 0.77741979 0.80238958 0.78379648 0.77815814 0.78527319 0.79514029\n",
      " 0.79158276 0.7937307  0.78809236 0.79057592 0.77117734 0.77084172\n",
      " 0.78507182 0.78513894 0.79185126 0.80856491 0.83796483 0.85595382\n",
      " 0.85910861 0.86172641 0.86528393 0.83084978 0.853873   0.88783729\n",
      " 0.88427977 0.87750034 0.8646127  0.88797154 0.92730568 0.95348369\n",
      " 0.94999329 0.98281649 0.95791381 0.94844946 0.98180964 0.93455497\n",
      " 0.92703719 0.91770707 0.93945496 0.95724258 0.96153846 0.98872332\n",
      " 0.98174252 0.98234662 0.9744261  0.97019734 1.         0.98449456\n",
      " 0.95240972 0.93280977 0.93395087 0.93408511 0.95348369 0.95650423\n",
      " 0.93408511 0.93999195 0.91804269 0.89407974 0.88253457 0.86843872\n",
      " 0.86313599 0.85078534 0.85018123 0.84702645 0.92160021 0.95147\n",
      " 0.9503289  0.95858504 0.93885085 0.93542757 0.93052759 0.95180561\n",
      " 0.96153846 0.98233843 0.99823743 1.01851118 1.04120588 1.06562781\n",
      " 1.09144509 1.11841953 1.14635623 1.17510414]\n",
      "9 day output [[1.2045537]]\n",
      "10 day input [0.71224325 0.72546651 0.73144046 0.74009934 0.73748154 0.73687743\n",
      " 0.72815143 0.72412404 0.74325413 0.75050342 0.76198147 0.77681568\n",
      " 0.78017184 0.78164854 0.77634582 0.7760102  0.78057457 0.77741979\n",
      " 0.80238958 0.78379648 0.77815814 0.78527319 0.79514029 0.79158276\n",
      " 0.7937307  0.78809236 0.79057592 0.77117734 0.77084172 0.78507182\n",
      " 0.78513894 0.79185126 0.80856491 0.83796483 0.85595382 0.85910861\n",
      " 0.86172641 0.86528393 0.83084978 0.853873   0.88783729 0.88427977\n",
      " 0.87750034 0.8646127  0.88797154 0.92730568 0.95348369 0.94999329\n",
      " 0.98281649 0.95791381 0.94844946 0.98180964 0.93455497 0.92703719\n",
      " 0.91770707 0.93945496 0.95724258 0.96153846 0.98872332 0.98174252\n",
      " 0.98234662 0.9744261  0.97019734 1.         0.98449456 0.95240972\n",
      " 0.93280977 0.93395087 0.93408511 0.95348369 0.95650423 0.93408511\n",
      " 0.93999195 0.91804269 0.89407974 0.88253457 0.86843872 0.86313599\n",
      " 0.85078534 0.85018123 0.84702645 0.92160021 0.95147    0.9503289\n",
      " 0.95858504 0.93885085 0.93542757 0.93052759 0.95180561 0.96153846\n",
      " 0.98233843 0.99823743 1.01851118 1.04120588 1.06562781 1.09144509\n",
      " 1.11841953 1.14635623 1.17510414 1.20455372]\n",
      "10 day output [[1.2346339]]\n",
      "11 day input [0.72546651 0.73144046 0.74009934 0.73748154 0.73687743 0.72815143\n",
      " 0.72412404 0.74325413 0.75050342 0.76198147 0.77681568 0.78017184\n",
      " 0.78164854 0.77634582 0.7760102  0.78057457 0.77741979 0.80238958\n",
      " 0.78379648 0.77815814 0.78527319 0.79514029 0.79158276 0.7937307\n",
      " 0.78809236 0.79057592 0.77117734 0.77084172 0.78507182 0.78513894\n",
      " 0.79185126 0.80856491 0.83796483 0.85595382 0.85910861 0.86172641\n",
      " 0.86528393 0.83084978 0.853873   0.88783729 0.88427977 0.87750034\n",
      " 0.8646127  0.88797154 0.92730568 0.95348369 0.94999329 0.98281649\n",
      " 0.95791381 0.94844946 0.98180964 0.93455497 0.92703719 0.91770707\n",
      " 0.93945496 0.95724258 0.96153846 0.98872332 0.98174252 0.98234662\n",
      " 0.9744261  0.97019734 1.         0.98449456 0.95240972 0.93280977\n",
      " 0.93395087 0.93408511 0.95348369 0.95650423 0.93408511 0.93999195\n",
      " 0.91804269 0.89407974 0.88253457 0.86843872 0.86313599 0.85078534\n",
      " 0.85018123 0.84702645 0.92160021 0.95147    0.9503289  0.95858504\n",
      " 0.93885085 0.93542757 0.93052759 0.95180561 0.96153846 0.98233843\n",
      " 0.99823743 1.01851118 1.04120588 1.06562781 1.09144509 1.11841953\n",
      " 1.14635623 1.17510414 1.20455372 1.23463392]\n",
      "11 day output [[1.2653012]]\n",
      "12 day input [0.73144046 0.74009934 0.73748154 0.73687743 0.72815143 0.72412404\n",
      " 0.74325413 0.75050342 0.76198147 0.77681568 0.78017184 0.78164854\n",
      " 0.77634582 0.7760102  0.78057457 0.77741979 0.80238958 0.78379648\n",
      " 0.77815814 0.78527319 0.79514029 0.79158276 0.7937307  0.78809236\n",
      " 0.79057592 0.77117734 0.77084172 0.78507182 0.78513894 0.79185126\n",
      " 0.80856491 0.83796483 0.85595382 0.85910861 0.86172641 0.86528393\n",
      " 0.83084978 0.853873   0.88783729 0.88427977 0.87750034 0.8646127\n",
      " 0.88797154 0.92730568 0.95348369 0.94999329 0.98281649 0.95791381\n",
      " 0.94844946 0.98180964 0.93455497 0.92703719 0.91770707 0.93945496\n",
      " 0.95724258 0.96153846 0.98872332 0.98174252 0.98234662 0.9744261\n",
      " 0.97019734 1.         0.98449456 0.95240972 0.93280977 0.93395087\n",
      " 0.93408511 0.95348369 0.95650423 0.93408511 0.93999195 0.91804269\n",
      " 0.89407974 0.88253457 0.86843872 0.86313599 0.85078534 0.85018123\n",
      " 0.84702645 0.92160021 0.95147    0.9503289  0.95858504 0.93885085\n",
      " 0.93542757 0.93052759 0.95180561 0.96153846 0.98233843 0.99823743\n",
      " 1.01851118 1.04120588 1.06562781 1.09144509 1.11841953 1.14635623\n",
      " 1.17510414 1.20455372 1.23463392 1.26530123]\n",
      "12 day output [[1.2965307]]\n",
      "13 day input [0.74009934 0.73748154 0.73687743 0.72815143 0.72412404 0.74325413\n",
      " 0.75050342 0.76198147 0.77681568 0.78017184 0.78164854 0.77634582\n",
      " 0.7760102  0.78057457 0.77741979 0.80238958 0.78379648 0.77815814\n",
      " 0.78527319 0.79514029 0.79158276 0.7937307  0.78809236 0.79057592\n",
      " 0.77117734 0.77084172 0.78507182 0.78513894 0.79185126 0.80856491\n",
      " 0.83796483 0.85595382 0.85910861 0.86172641 0.86528393 0.83084978\n",
      " 0.853873   0.88783729 0.88427977 0.87750034 0.8646127  0.88797154\n",
      " 0.92730568 0.95348369 0.94999329 0.98281649 0.95791381 0.94844946\n",
      " 0.98180964 0.93455497 0.92703719 0.91770707 0.93945496 0.95724258\n",
      " 0.96153846 0.98872332 0.98174252 0.98234662 0.9744261  0.97019734\n",
      " 1.         0.98449456 0.95240972 0.93280977 0.93395087 0.93408511\n",
      " 0.95348369 0.95650423 0.93408511 0.93999195 0.91804269 0.89407974\n",
      " 0.88253457 0.86843872 0.86313599 0.85078534 0.85018123 0.84702645\n",
      " 0.92160021 0.95147    0.9503289  0.95858504 0.93885085 0.93542757\n",
      " 0.93052759 0.95180561 0.96153846 0.98233843 0.99823743 1.01851118\n",
      " 1.04120588 1.06562781 1.09144509 1.11841953 1.14635623 1.17510414\n",
      " 1.20455372 1.23463392 1.26530123 1.29653072]\n",
      "13 day output [[1.3283067]]\n",
      "14 day input [0.73748154 0.73687743 0.72815143 0.72412404 0.74325413 0.75050342\n",
      " 0.76198147 0.77681568 0.78017184 0.78164854 0.77634582 0.7760102\n",
      " 0.78057457 0.77741979 0.80238958 0.78379648 0.77815814 0.78527319\n",
      " 0.79514029 0.79158276 0.7937307  0.78809236 0.79057592 0.77117734\n",
      " 0.77084172 0.78507182 0.78513894 0.79185126 0.80856491 0.83796483\n",
      " 0.85595382 0.85910861 0.86172641 0.86528393 0.83084978 0.853873\n",
      " 0.88783729 0.88427977 0.87750034 0.8646127  0.88797154 0.92730568\n",
      " 0.95348369 0.94999329 0.98281649 0.95791381 0.94844946 0.98180964\n",
      " 0.93455497 0.92703719 0.91770707 0.93945496 0.95724258 0.96153846\n",
      " 0.98872332 0.98174252 0.98234662 0.9744261  0.97019734 1.\n",
      " 0.98449456 0.95240972 0.93280977 0.93395087 0.93408511 0.95348369\n",
      " 0.95650423 0.93408511 0.93999195 0.91804269 0.89407974 0.88253457\n",
      " 0.86843872 0.86313599 0.85078534 0.85018123 0.84702645 0.92160021\n",
      " 0.95147    0.9503289  0.95858504 0.93885085 0.93542757 0.93052759\n",
      " 0.95180561 0.96153846 0.98233843 0.99823743 1.01851118 1.04120588\n",
      " 1.06562781 1.09144509 1.11841953 1.14635623 1.17510414 1.20455372\n",
      " 1.23463392 1.26530123 1.29653072 1.32830667]\n",
      "14 day output [[1.360612]]\n",
      "15 day input [0.73687743 0.72815143 0.72412404 0.74325413 0.75050342 0.76198147\n",
      " 0.77681568 0.78017184 0.78164854 0.77634582 0.7760102  0.78057457\n",
      " 0.77741979 0.80238958 0.78379648 0.77815814 0.78527319 0.79514029\n",
      " 0.79158276 0.7937307  0.78809236 0.79057592 0.77117734 0.77084172\n",
      " 0.78507182 0.78513894 0.79185126 0.80856491 0.83796483 0.85595382\n",
      " 0.85910861 0.86172641 0.86528393 0.83084978 0.853873   0.88783729\n",
      " 0.88427977 0.87750034 0.8646127  0.88797154 0.92730568 0.95348369\n",
      " 0.94999329 0.98281649 0.95791381 0.94844946 0.98180964 0.93455497\n",
      " 0.92703719 0.91770707 0.93945496 0.95724258 0.96153846 0.98872332\n",
      " 0.98174252 0.98234662 0.9744261  0.97019734 1.         0.98449456\n",
      " 0.95240972 0.93280977 0.93395087 0.93408511 0.95348369 0.95650423\n",
      " 0.93408511 0.93999195 0.91804269 0.89407974 0.88253457 0.86843872\n",
      " 0.86313599 0.85078534 0.85018123 0.84702645 0.92160021 0.95147\n",
      " 0.9503289  0.95858504 0.93885085 0.93542757 0.93052759 0.95180561\n",
      " 0.96153846 0.98233843 0.99823743 1.01851118 1.04120588 1.06562781\n",
      " 1.09144509 1.11841953 1.14635623 1.17510414 1.20455372 1.23463392\n",
      " 1.26530123 1.29653072 1.32830667 1.36061203]\n",
      "15 day output [[1.3934202]]\n",
      "16 day input [0.72815143 0.72412404 0.74325413 0.75050342 0.76198147 0.77681568\n",
      " 0.78017184 0.78164854 0.77634582 0.7760102  0.78057457 0.77741979\n",
      " 0.80238958 0.78379648 0.77815814 0.78527319 0.79514029 0.79158276\n",
      " 0.7937307  0.78809236 0.79057592 0.77117734 0.77084172 0.78507182\n",
      " 0.78513894 0.79185126 0.80856491 0.83796483 0.85595382 0.85910861\n",
      " 0.86172641 0.86528393 0.83084978 0.853873   0.88783729 0.88427977\n",
      " 0.87750034 0.8646127  0.88797154 0.92730568 0.95348369 0.94999329\n",
      " 0.98281649 0.95791381 0.94844946 0.98180964 0.93455497 0.92703719\n",
      " 0.91770707 0.93945496 0.95724258 0.96153846 0.98872332 0.98174252\n",
      " 0.98234662 0.9744261  0.97019734 1.         0.98449456 0.95240972\n",
      " 0.93280977 0.93395087 0.93408511 0.95348369 0.95650423 0.93408511\n",
      " 0.93999195 0.91804269 0.89407974 0.88253457 0.86843872 0.86313599\n",
      " 0.85078534 0.85018123 0.84702645 0.92160021 0.95147    0.9503289\n",
      " 0.95858504 0.93885085 0.93542757 0.93052759 0.95180561 0.96153846\n",
      " 0.98233843 0.99823743 1.01851118 1.04120588 1.06562781 1.09144509\n",
      " 1.11841953 1.14635623 1.17510414 1.20455372 1.23463392 1.26530123\n",
      " 1.29653072 1.32830667 1.36061203 1.39342022]\n",
      "16 day output [[1.4266907]]\n",
      "17 day input [0.72412404 0.74325413 0.75050342 0.76198147 0.77681568 0.78017184\n",
      " 0.78164854 0.77634582 0.7760102  0.78057457 0.77741979 0.80238958\n",
      " 0.78379648 0.77815814 0.78527319 0.79514029 0.79158276 0.7937307\n",
      " 0.78809236 0.79057592 0.77117734 0.77084172 0.78507182 0.78513894\n",
      " 0.79185126 0.80856491 0.83796483 0.85595382 0.85910861 0.86172641\n",
      " 0.86528393 0.83084978 0.853873   0.88783729 0.88427977 0.87750034\n",
      " 0.8646127  0.88797154 0.92730568 0.95348369 0.94999329 0.98281649\n",
      " 0.95791381 0.94844946 0.98180964 0.93455497 0.92703719 0.91770707\n",
      " 0.93945496 0.95724258 0.96153846 0.98872332 0.98174252 0.98234662\n",
      " 0.9744261  0.97019734 1.         0.98449456 0.95240972 0.93280977\n",
      " 0.93395087 0.93408511 0.95348369 0.95650423 0.93408511 0.93999195\n",
      " 0.91804269 0.89407974 0.88253457 0.86843872 0.86313599 0.85078534\n",
      " 0.85018123 0.84702645 0.92160021 0.95147    0.9503289  0.95858504\n",
      " 0.93885085 0.93542757 0.93052759 0.95180561 0.96153846 0.98233843\n",
      " 0.99823743 1.01851118 1.04120588 1.06562781 1.09144509 1.11841953\n",
      " 1.14635623 1.17510414 1.20455372 1.23463392 1.26530123 1.29653072\n",
      " 1.32830667 1.36061203 1.39342022 1.4266907 ]\n",
      "17 day output [[1.4603626]]\n",
      "18 day input [0.74325413 0.75050342 0.76198147 0.77681568 0.78017184 0.78164854\n",
      " 0.77634582 0.7760102  0.78057457 0.77741979 0.80238958 0.78379648\n",
      " 0.77815814 0.78527319 0.79514029 0.79158276 0.7937307  0.78809236\n",
      " 0.79057592 0.77117734 0.77084172 0.78507182 0.78513894 0.79185126\n",
      " 0.80856491 0.83796483 0.85595382 0.85910861 0.86172641 0.86528393\n",
      " 0.83084978 0.853873   0.88783729 0.88427977 0.87750034 0.8646127\n",
      " 0.88797154 0.92730568 0.95348369 0.94999329 0.98281649 0.95791381\n",
      " 0.94844946 0.98180964 0.93455497 0.92703719 0.91770707 0.93945496\n",
      " 0.95724258 0.96153846 0.98872332 0.98174252 0.98234662 0.9744261\n",
      " 0.97019734 1.         0.98449456 0.95240972 0.93280977 0.93395087\n",
      " 0.93408511 0.95348369 0.95650423 0.93408511 0.93999195 0.91804269\n",
      " 0.89407974 0.88253457 0.86843872 0.86313599 0.85078534 0.85018123\n",
      " 0.84702645 0.92160021 0.95147    0.9503289  0.95858504 0.93885085\n",
      " 0.93542757 0.93052759 0.95180561 0.96153846 0.98233843 0.99823743\n",
      " 1.01851118 1.04120588 1.06562781 1.09144509 1.11841953 1.14635623\n",
      " 1.17510414 1.20455372 1.23463392 1.26530123 1.29653072 1.32830667\n",
      " 1.36061203 1.39342022 1.4266907  1.46036255]\n",
      "18 day output [[1.4943526]]\n",
      "19 day input [0.75050342 0.76198147 0.77681568 0.78017184 0.78164854 0.77634582\n",
      " 0.7760102  0.78057457 0.77741979 0.80238958 0.78379648 0.77815814\n",
      " 0.78527319 0.79514029 0.79158276 0.7937307  0.78809236 0.79057592\n",
      " 0.77117734 0.77084172 0.78507182 0.78513894 0.79185126 0.80856491\n",
      " 0.83796483 0.85595382 0.85910861 0.86172641 0.86528393 0.83084978\n",
      " 0.853873   0.88783729 0.88427977 0.87750034 0.8646127  0.88797154\n",
      " 0.92730568 0.95348369 0.94999329 0.98281649 0.95791381 0.94844946\n",
      " 0.98180964 0.93455497 0.92703719 0.91770707 0.93945496 0.95724258\n",
      " 0.96153846 0.98872332 0.98174252 0.98234662 0.9744261  0.97019734\n",
      " 1.         0.98449456 0.95240972 0.93280977 0.93395087 0.93408511\n",
      " 0.95348369 0.95650423 0.93408511 0.93999195 0.91804269 0.89407974\n",
      " 0.88253457 0.86843872 0.86313599 0.85078534 0.85018123 0.84702645\n",
      " 0.92160021 0.95147    0.9503289  0.95858504 0.93885085 0.93542757\n",
      " 0.93052759 0.95180561 0.96153846 0.98233843 0.99823743 1.01851118\n",
      " 1.04120588 1.06562781 1.09144509 1.11841953 1.14635623 1.17510414\n",
      " 1.20455372 1.23463392 1.26530123 1.29653072 1.32830667 1.36061203\n",
      " 1.39342022 1.4266907  1.46036255 1.49435258]\n",
      "19 day output [[1.5285568]]\n",
      "20 day input [0.76198147 0.77681568 0.78017184 0.78164854 0.77634582 0.7760102\n",
      " 0.78057457 0.77741979 0.80238958 0.78379648 0.77815814 0.78527319\n",
      " 0.79514029 0.79158276 0.7937307  0.78809236 0.79057592 0.77117734\n",
      " 0.77084172 0.78507182 0.78513894 0.79185126 0.80856491 0.83796483\n",
      " 0.85595382 0.85910861 0.86172641 0.86528393 0.83084978 0.853873\n",
      " 0.88783729 0.88427977 0.87750034 0.8646127  0.88797154 0.92730568\n",
      " 0.95348369 0.94999329 0.98281649 0.95791381 0.94844946 0.98180964\n",
      " 0.93455497 0.92703719 0.91770707 0.93945496 0.95724258 0.96153846\n",
      " 0.98872332 0.98174252 0.98234662 0.9744261  0.97019734 1.\n",
      " 0.98449456 0.95240972 0.93280977 0.93395087 0.93408511 0.95348369\n",
      " 0.95650423 0.93408511 0.93999195 0.91804269 0.89407974 0.88253457\n",
      " 0.86843872 0.86313599 0.85078534 0.85018123 0.84702645 0.92160021\n",
      " 0.95147    0.9503289  0.95858504 0.93885085 0.93542757 0.93052759\n",
      " 0.95180561 0.96153846 0.98233843 0.99823743 1.01851118 1.04120588\n",
      " 1.06562781 1.09144509 1.11841953 1.14635623 1.17510414 1.20455372\n",
      " 1.23463392 1.26530123 1.29653072 1.32830667 1.36061203 1.39342022\n",
      " 1.4266907  1.46036255 1.49435258 1.52855682]\n",
      "20 day output [[1.5628493]]\n",
      "21 day input [0.77681568 0.78017184 0.78164854 0.77634582 0.7760102  0.78057457\n",
      " 0.77741979 0.80238958 0.78379648 0.77815814 0.78527319 0.79514029\n",
      " 0.79158276 0.7937307  0.78809236 0.79057592 0.77117734 0.77084172\n",
      " 0.78507182 0.78513894 0.79185126 0.80856491 0.83796483 0.85595382\n",
      " 0.85910861 0.86172641 0.86528393 0.83084978 0.853873   0.88783729\n",
      " 0.88427977 0.87750034 0.8646127  0.88797154 0.92730568 0.95348369\n",
      " 0.94999329 0.98281649 0.95791381 0.94844946 0.98180964 0.93455497\n",
      " 0.92703719 0.91770707 0.93945496 0.95724258 0.96153846 0.98872332\n",
      " 0.98174252 0.98234662 0.9744261  0.97019734 1.         0.98449456\n",
      " 0.95240972 0.93280977 0.93395087 0.93408511 0.95348369 0.95650423\n",
      " 0.93408511 0.93999195 0.91804269 0.89407974 0.88253457 0.86843872\n",
      " 0.86313599 0.85078534 0.85018123 0.84702645 0.92160021 0.95147\n",
      " 0.9503289  0.95858504 0.93885085 0.93542757 0.93052759 0.95180561\n",
      " 0.96153846 0.98233843 0.99823743 1.01851118 1.04120588 1.06562781\n",
      " 1.09144509 1.11841953 1.14635623 1.17510414 1.20455372 1.23463392\n",
      " 1.26530123 1.29653072 1.32830667 1.36061203 1.39342022 1.4266907\n",
      " 1.46036255 1.49435258 1.52855682 1.56284928]\n",
      "21 day output [[1.5970871]]\n",
      "22 day input [0.78017184 0.78164854 0.77634582 0.7760102  0.78057457 0.77741979\n",
      " 0.80238958 0.78379648 0.77815814 0.78527319 0.79514029 0.79158276\n",
      " 0.7937307  0.78809236 0.79057592 0.77117734 0.77084172 0.78507182\n",
      " 0.78513894 0.79185126 0.80856491 0.83796483 0.85595382 0.85910861\n",
      " 0.86172641 0.86528393 0.83084978 0.853873   0.88783729 0.88427977\n",
      " 0.87750034 0.8646127  0.88797154 0.92730568 0.95348369 0.94999329\n",
      " 0.98281649 0.95791381 0.94844946 0.98180964 0.93455497 0.92703719\n",
      " 0.91770707 0.93945496 0.95724258 0.96153846 0.98872332 0.98174252\n",
      " 0.98234662 0.9744261  0.97019734 1.         0.98449456 0.95240972\n",
      " 0.93280977 0.93395087 0.93408511 0.95348369 0.95650423 0.93408511\n",
      " 0.93999195 0.91804269 0.89407974 0.88253457 0.86843872 0.86313599\n",
      " 0.85078534 0.85018123 0.84702645 0.92160021 0.95147    0.9503289\n",
      " 0.95858504 0.93885085 0.93542757 0.93052759 0.95180561 0.96153846\n",
      " 0.98233843 0.99823743 1.01851118 1.04120588 1.06562781 1.09144509\n",
      " 1.11841953 1.14635623 1.17510414 1.20455372 1.23463392 1.26530123\n",
      " 1.29653072 1.32830667 1.36061203 1.39342022 1.4266907  1.46036255\n",
      " 1.49435258 1.52855682 1.56284928 1.59708714]\n",
      "22 day output [[1.6311151]]\n",
      "23 day input [0.78164854 0.77634582 0.7760102  0.78057457 0.77741979 0.80238958\n",
      " 0.78379648 0.77815814 0.78527319 0.79514029 0.79158276 0.7937307\n",
      " 0.78809236 0.79057592 0.77117734 0.77084172 0.78507182 0.78513894\n",
      " 0.79185126 0.80856491 0.83796483 0.85595382 0.85910861 0.86172641\n",
      " 0.86528393 0.83084978 0.853873   0.88783729 0.88427977 0.87750034\n",
      " 0.8646127  0.88797154 0.92730568 0.95348369 0.94999329 0.98281649\n",
      " 0.95791381 0.94844946 0.98180964 0.93455497 0.92703719 0.91770707\n",
      " 0.93945496 0.95724258 0.96153846 0.98872332 0.98174252 0.98234662\n",
      " 0.9744261  0.97019734 1.         0.98449456 0.95240972 0.93280977\n",
      " 0.93395087 0.93408511 0.95348369 0.95650423 0.93408511 0.93999195\n",
      " 0.91804269 0.89407974 0.88253457 0.86843872 0.86313599 0.85078534\n",
      " 0.85018123 0.84702645 0.92160021 0.95147    0.9503289  0.95858504\n",
      " 0.93885085 0.93542757 0.93052759 0.95180561 0.96153846 0.98233843\n",
      " 0.99823743 1.01851118 1.04120588 1.06562781 1.09144509 1.11841953\n",
      " 1.14635623 1.17510414 1.20455372 1.23463392 1.26530123 1.29653072\n",
      " 1.32830667 1.36061203 1.39342022 1.4266907  1.46036255 1.49435258\n",
      " 1.52855682 1.56284928 1.59708714 1.63111508]\n",
      "23 day output [[1.6647696]]\n",
      "24 day input [0.77634582 0.7760102  0.78057457 0.77741979 0.80238958 0.78379648\n",
      " 0.77815814 0.78527319 0.79514029 0.79158276 0.7937307  0.78809236\n",
      " 0.79057592 0.77117734 0.77084172 0.78507182 0.78513894 0.79185126\n",
      " 0.80856491 0.83796483 0.85595382 0.85910861 0.86172641 0.86528393\n",
      " 0.83084978 0.853873   0.88783729 0.88427977 0.87750034 0.8646127\n",
      " 0.88797154 0.92730568 0.95348369 0.94999329 0.98281649 0.95791381\n",
      " 0.94844946 0.98180964 0.93455497 0.92703719 0.91770707 0.93945496\n",
      " 0.95724258 0.96153846 0.98872332 0.98174252 0.98234662 0.9744261\n",
      " 0.97019734 1.         0.98449456 0.95240972 0.93280977 0.93395087\n",
      " 0.93408511 0.95348369 0.95650423 0.93408511 0.93999195 0.91804269\n",
      " 0.89407974 0.88253457 0.86843872 0.86313599 0.85078534 0.85018123\n",
      " 0.84702645 0.92160021 0.95147    0.9503289  0.95858504 0.93885085\n",
      " 0.93542757 0.93052759 0.95180561 0.96153846 0.98233843 0.99823743\n",
      " 1.01851118 1.04120588 1.06562781 1.09144509 1.11841953 1.14635623\n",
      " 1.17510414 1.20455372 1.23463392 1.26530123 1.29653072 1.32830667\n",
      " 1.36061203 1.39342022 1.4266907  1.46036255 1.49435258 1.52855682\n",
      " 1.56284928 1.59708714 1.63111508 1.66476965]\n",
      "24 day output [[1.697379]]\n",
      "25 day input [0.7760102  0.78057457 0.77741979 0.80238958 0.78379648 0.77815814\n",
      " 0.78527319 0.79514029 0.79158276 0.7937307  0.78809236 0.79057592\n",
      " 0.77117734 0.77084172 0.78507182 0.78513894 0.79185126 0.80856491\n",
      " 0.83796483 0.85595382 0.85910861 0.86172641 0.86528393 0.83084978\n",
      " 0.853873   0.88783729 0.88427977 0.87750034 0.8646127  0.88797154\n",
      " 0.92730568 0.95348369 0.94999329 0.98281649 0.95791381 0.94844946\n",
      " 0.98180964 0.93455497 0.92703719 0.91770707 0.93945496 0.95724258\n",
      " 0.96153846 0.98872332 0.98174252 0.98234662 0.9744261  0.97019734\n",
      " 1.         0.98449456 0.95240972 0.93280977 0.93395087 0.93408511\n",
      " 0.95348369 0.95650423 0.93408511 0.93999195 0.91804269 0.89407974\n",
      " 0.88253457 0.86843872 0.86313599 0.85078534 0.85018123 0.84702645\n",
      " 0.92160021 0.95147    0.9503289  0.95858504 0.93885085 0.93542757\n",
      " 0.93052759 0.95180561 0.96153846 0.98233843 0.99823743 1.01851118\n",
      " 1.04120588 1.06562781 1.09144509 1.11841953 1.14635623 1.17510414\n",
      " 1.20455372 1.23463392 1.26530123 1.29653072 1.32830667 1.36061203\n",
      " 1.39342022 1.4266907  1.46036255 1.49435258 1.52855682 1.56284928\n",
      " 1.59708714 1.63111508 1.66476965 1.69737899]\n",
      "25 day output [[1.727136]]\n",
      "26 day input [0.78057457 0.77741979 0.80238958 0.78379648 0.77815814 0.78527319\n",
      " 0.79514029 0.79158276 0.7937307  0.78809236 0.79057592 0.77117734\n",
      " 0.77084172 0.78507182 0.78513894 0.79185126 0.80856491 0.83796483\n",
      " 0.85595382 0.85910861 0.86172641 0.86528393 0.83084978 0.853873\n",
      " 0.88783729 0.88427977 0.87750034 0.8646127  0.88797154 0.92730568\n",
      " 0.95348369 0.94999329 0.98281649 0.95791381 0.94844946 0.98180964\n",
      " 0.93455497 0.92703719 0.91770707 0.93945496 0.95724258 0.96153846\n",
      " 0.98872332 0.98174252 0.98234662 0.9744261  0.97019734 1.\n",
      " 0.98449456 0.95240972 0.93280977 0.93395087 0.93408511 0.95348369\n",
      " 0.95650423 0.93408511 0.93999195 0.91804269 0.89407974 0.88253457\n",
      " 0.86843872 0.86313599 0.85078534 0.85018123 0.84702645 0.92160021\n",
      " 0.95147    0.9503289  0.95858504 0.93885085 0.93542757 0.93052759\n",
      " 0.95180561 0.96153846 0.98233843 0.99823743 1.01851118 1.04120588\n",
      " 1.06562781 1.09144509 1.11841953 1.14635623 1.17510414 1.20455372\n",
      " 1.23463392 1.26530123 1.29653072 1.32830667 1.36061203 1.39342022\n",
      " 1.4266907  1.46036255 1.49435258 1.52855682 1.56284928 1.59708714\n",
      " 1.63111508 1.66476965 1.69737899 1.72713602]\n",
      "26 day output [[1.7558861]]\n",
      "27 day input [0.77741979 0.80238958 0.78379648 0.77815814 0.78527319 0.79514029\n",
      " 0.79158276 0.7937307  0.78809236 0.79057592 0.77117734 0.77084172\n",
      " 0.78507182 0.78513894 0.79185126 0.80856491 0.83796483 0.85595382\n",
      " 0.85910861 0.86172641 0.86528393 0.83084978 0.853873   0.88783729\n",
      " 0.88427977 0.87750034 0.8646127  0.88797154 0.92730568 0.95348369\n",
      " 0.94999329 0.98281649 0.95791381 0.94844946 0.98180964 0.93455497\n",
      " 0.92703719 0.91770707 0.93945496 0.95724258 0.96153846 0.98872332\n",
      " 0.98174252 0.98234662 0.9744261  0.97019734 1.         0.98449456\n",
      " 0.95240972 0.93280977 0.93395087 0.93408511 0.95348369 0.95650423\n",
      " 0.93408511 0.93999195 0.91804269 0.89407974 0.88253457 0.86843872\n",
      " 0.86313599 0.85078534 0.85018123 0.84702645 0.92160021 0.95147\n",
      " 0.9503289  0.95858504 0.93885085 0.93542757 0.93052759 0.95180561\n",
      " 0.96153846 0.98233843 0.99823743 1.01851118 1.04120588 1.06562781\n",
      " 1.09144509 1.11841953 1.14635623 1.17510414 1.20455372 1.23463392\n",
      " 1.26530123 1.29653072 1.32830667 1.36061203 1.39342022 1.4266907\n",
      " 1.46036255 1.49435258 1.52855682 1.56284928 1.59708714 1.63111508\n",
      " 1.66476965 1.69737899 1.72713602 1.75588608]\n",
      "27 day output [[1.7839619]]\n",
      "28 day input [0.80238958 0.78379648 0.77815814 0.78527319 0.79514029 0.79158276\n",
      " 0.7937307  0.78809236 0.79057592 0.77117734 0.77084172 0.78507182\n",
      " 0.78513894 0.79185126 0.80856491 0.83796483 0.85595382 0.85910861\n",
      " 0.86172641 0.86528393 0.83084978 0.853873   0.88783729 0.88427977\n",
      " 0.87750034 0.8646127  0.88797154 0.92730568 0.95348369 0.94999329\n",
      " 0.98281649 0.95791381 0.94844946 0.98180964 0.93455497 0.92703719\n",
      " 0.91770707 0.93945496 0.95724258 0.96153846 0.98872332 0.98174252\n",
      " 0.98234662 0.9744261  0.97019734 1.         0.98449456 0.95240972\n",
      " 0.93280977 0.93395087 0.93408511 0.95348369 0.95650423 0.93408511\n",
      " 0.93999195 0.91804269 0.89407974 0.88253457 0.86843872 0.86313599\n",
      " 0.85078534 0.85018123 0.84702645 0.92160021 0.95147    0.9503289\n",
      " 0.95858504 0.93885085 0.93542757 0.93052759 0.95180561 0.96153846\n",
      " 0.98233843 0.99823743 1.01851118 1.04120588 1.06562781 1.09144509\n",
      " 1.11841953 1.14635623 1.17510414 1.20455372 1.23463392 1.26530123\n",
      " 1.29653072 1.32830667 1.36061203 1.39342022 1.4266907  1.46036255\n",
      " 1.49435258 1.52855682 1.56284928 1.59708714 1.63111508 1.66476965\n",
      " 1.69737899 1.72713602 1.75588608 1.78396189]\n",
      "28 day output [[1.8113467]]\n",
      "29 day input [0.78379648 0.77815814 0.78527319 0.79514029 0.79158276 0.7937307\n",
      " 0.78809236 0.79057592 0.77117734 0.77084172 0.78507182 0.78513894\n",
      " 0.79185126 0.80856491 0.83796483 0.85595382 0.85910861 0.86172641\n",
      " 0.86528393 0.83084978 0.853873   0.88783729 0.88427977 0.87750034\n",
      " 0.8646127  0.88797154 0.92730568 0.95348369 0.94999329 0.98281649\n",
      " 0.95791381 0.94844946 0.98180964 0.93455497 0.92703719 0.91770707\n",
      " 0.93945496 0.95724258 0.96153846 0.98872332 0.98174252 0.98234662\n",
      " 0.9744261  0.97019734 1.         0.98449456 0.95240972 0.93280977\n",
      " 0.93395087 0.93408511 0.95348369 0.95650423 0.93408511 0.93999195\n",
      " 0.91804269 0.89407974 0.88253457 0.86843872 0.86313599 0.85078534\n",
      " 0.85018123 0.84702645 0.92160021 0.95147    0.9503289  0.95858504\n",
      " 0.93885085 0.93542757 0.93052759 0.95180561 0.96153846 0.98233843\n",
      " 0.99823743 1.01851118 1.04120588 1.06562781 1.09144509 1.11841953\n",
      " 1.14635623 1.17510414 1.20455372 1.23463392 1.26530123 1.29653072\n",
      " 1.32830667 1.36061203 1.39342022 1.4266907  1.46036255 1.49435258\n",
      " 1.52855682 1.56284928 1.59708714 1.63111508 1.66476965 1.69737899\n",
      " 1.72713602 1.75588608 1.78396189 1.81134665]\n",
      "29 day output [[1.8376677]]\n"
     ]
    }
   ],
   "source": [
    "# Prediction for next 10 days\n",
    "\n",
    "lst_output=[]\n",
    "n_steps=100\n",
    "i=0\n",
    "while(i<30):\n",
    "\n",
    "    if len(temp_input)>100:\n",
    "        # Shifting x_input to next day\n",
    "        x_input=np.array(temp_input[1:])\n",
    "        print(\"{} day input {}\".format(i,x_input))\n",
    "        x_input=x_input.reshape(1,-1)\n",
    "        x_input = x_input.reshape((1, n_steps, 1))\n",
    "        #print(x_input)\n",
    "        yhat = model.predict(x_input, verbose=0)\n",
    "        print(\"{} day output {}\".format(i,yhat))\n",
    "        temp_input.extend(yhat[0].tolist())\n",
    "        temp_input=temp_input[1:]\n",
    "        #print(temp_input)\n",
    "        lst_output.extend(yhat.tolist())\n",
    "        i=i+1\n",
    "    else:\n",
    "        x_input = x_input.reshape((1, n_steps,1))\n",
    "        # Predict next day\n",
    "        yhat = model.predict(x_input, verbose=0)\n",
    "        print(yhat[0])\n",
    "        temp_input.extend(yhat[0].tolist())\n",
    "        print(len(temp_input))\n",
    "        lst_output.extend(yhat.tolist())\n",
    "        i=i+1\n"
   ],
   "metadata": {
    "collapsed": false,
    "pycharm": {
     "name": "#%%\n"
    }
   }
  },
  {
   "cell_type": "code",
   "execution_count": 25,
   "outputs": [
    {
     "name": "stdout",
     "output_type": "stream",
     "text": [
      "[[0.9823384284973145], [0.9982374310493469], [1.018511176109314], [1.041205883026123], [1.0656278133392334], [1.0914450883865356], [1.1184195280075073], [1.146356225013733], [1.1751041412353516], [1.2045537233352661], [1.2346339225769043], [1.26530122756958], [1.2965307235717773], [1.3283066749572754], [1.3606120347976685], [1.3934202194213867], [1.426690697669983], [1.4603625535964966], [1.4943525791168213], [1.5285568237304688], [1.5628492832183838], [1.5970871448516846], [1.6311150789260864], [1.6647696495056152], [1.6973789930343628], [1.7271360158920288], [1.7558860778808594], [1.7839618921279907], [1.8113466501235962], [1.83766770362854]]\n"
     ]
    }
   ],
   "source": [
    "print(lst_output)"
   ],
   "metadata": {
    "collapsed": false,
    "pycharm": {
     "name": "#%%\n"
    }
   }
  },
  {
   "cell_type": "code",
   "execution_count": 26,
   "outputs": [],
   "source": [
    "day_new=np.arange(1,101)\n",
    "day_pred=np.arange(101,131)"
   ],
   "metadata": {
    "collapsed": false,
    "pycharm": {
     "name": "#%%\n"
    }
   }
  },
  {
   "cell_type": "code",
   "execution_count": 27,
   "outputs": [
    {
     "data": {
      "text/plain": "1259"
     },
     "execution_count": 27,
     "metadata": {},
     "output_type": "execute_result"
    }
   ],
   "source": [
    "len(df)"
   ],
   "metadata": {
    "collapsed": false,
    "pycharm": {
     "name": "#%%\n"
    }
   }
  },
  {
   "cell_type": "code",
   "execution_count": 28,
   "outputs": [
    {
     "data": {
      "text/plain": "[<matplotlib.lines.Line2D at 0x1f855c72f40>]"
     },
     "execution_count": 28,
     "metadata": {},
     "output_type": "execute_result"
    },
    {
     "data": {
      "text/plain": "<Figure size 432x288 with 1 Axes>",
      "image/png": "[encoded data removed]"
     },
     "metadata": {
      "needs_background": "light"
     },
     "output_type": "display_data"
    }
   ],
   "source": [
    "# Plot real 100 close value\n",
    "plt.plot(day_new,scaler.inverse_transform(df[1159:]))\n",
    "plt.plot(day_pred,scaler.inverse_transform(lst_output))"
   ],
   "metadata": {
    "collapsed": false,
    "pycharm": {
     "name": "#%%\n"
    }
   }
  },
  {
   "cell_type": "code",
   "execution_count": 29,
   "outputs": [],
   "source": [
    "df_new=df.tolist()\n",
    "df_new.extend(lst_output)"
   ],
   "metadata": {
    "collapsed": false,
    "pycharm": {
     "name": "#%%\n"
    }
   }
  },
  {
   "cell_type": "code",
   "execution_count": 30,
   "outputs": [
    {
     "data": {
      "text/plain": "1289"
     },
     "execution_count": 30,
     "metadata": {},
     "output_type": "execute_result"
    }
   ],
   "source": [
    "len(df_new)"
   ],
   "metadata": {
    "collapsed": false,
    "pycharm": {
     "name": "#%%\n"
    }
   }
  },
  {
   "cell_type": "code",
   "execution_count": 31,
   "outputs": [
    {
     "data": {
      "text/plain": "[<matplotlib.lines.Line2D at 0x1f855ca5160>]"
     },
     "execution_count": 31,
     "metadata": {},
     "output_type": "execute_result"
    },
    {
     "data": {
      "text/plain": "<Figure size 432x288 with 1 Axes>",
      "image/png": "[encoded data removed]"
     },
     "metadata": {
      "needs_background": "light"
     },
     "output_type": "display_data"
    }
   ],
   "source": [
    "plt.plot(df)"
   ],
   "metadata": {
    "collapsed": false,
    "pycharm": {
     "name": "#%%\n"
    }
   }
  },
  {
   "cell_type": "code",
   "execution_count": 32,
   "outputs": [
    {
     "data": {
      "text/plain": "[<matplotlib.lines.Line2D at 0x1f856d60e80>]"
     },
     "execution_count": 32,
     "metadata": {},
     "output_type": "execute_result"
    },
    {
     "data": {
      "text/plain": "<Figure size 432x288 with 1 Axes>",
      "image/png": "[encoded data removed]"
     },
     "metadata": {
      "needs_background": "light"
     },
     "output_type": "display_data"
    }
   ],
   "source": [
    "df_new=scaler.inverse_transform(df_new).tolist()\n",
    "plt.plot(df_new)"
   ],
   "metadata": {
    "collapsed": false,
    "pycharm": {
     "name": "#%%\n"
    }
   }
  }
 ],
 "metadata": {
  "kernelspec": {
   "display_name": "Python 3 (ipykernel)",
   "language": "python",
   "name": "python3"
  },
  "language_info": {
   "codemirror_mode": {
    "name": "ipython",
    "version": 3
   },
   "file_extension": ".py",
   "mimetype": "text/x-python",
   "name": "python",
   "nbconvert_exporter": "python",
   "pygments_lexer": "ipython3",
   "version": "3.9.7"
  }
 },
 "nbformat": 4,
 "nbformat_minor": 1
}