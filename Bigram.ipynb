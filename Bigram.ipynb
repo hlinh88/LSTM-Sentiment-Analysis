{
 "cells": [
  {
   "cell_type": "code",
   "execution_count": 2,
   "metadata": {
    "collapsed": true
   },
   "outputs": [],
   "source": [
    "from textblob import TextBlob\n",
    "import math\n",
    "from collections import Counter, defaultdict\n",
    "import tweepy as tw\n",
    "import json\n",
    "import pandas as pd\n",
    "import re\n",
    "import numpy as np\n",
    "import matplotlib.pyplot as plt\n",
    "import seaborn as sns\n",
    "from bs4 import BeautifulSoup\n",
    "%matplotlib inline\n",
    "import nltk\n",
    "from nltk.corpus import stopwords\n",
    "from nltk.stem import WordNetLemmatizer"
   ]
  },
  {
   "cell_type": "code",
   "execution_count": 3,
   "outputs": [],
   "source": [
    "api_key = \"HAcIeikl6eRheQP1oKYGDwPx0\"\n",
    "api_secret = \"gEWmqG7QVXzudnviUXDo98L2UKGYg9PNqy1bAR1geClkHjqBGk\"\n",
    "access_token = \"1481095074465579008-1pApYlU4HRJWpbAXcbdVEVGzdACuEz\"\n",
    "access_token_secret = \"htgD81H4mOxXw5MglAljFRHhcfGAuwsNomXVqvGw0Obwe\"\n",
    "auth = tw.OAuthHandler(api_key, api_secret)\n",
    "auth.set_access_token(access_token, access_token_secret)\n",
    "api = tw.API(auth,wait_on_rate_limit=True)"
   ],
   "metadata": {
    "collapsed": false,
    "pycharm": {
     "name": "#%%\n"
    }
   }
  },
  {
   "cell_type": "code",
   "execution_count": 4,
   "outputs": [
    {
     "name": "stdout",
     "output_type": "stream",
     "text": [
      "Amazon News\n",
      "Amazon Stock\n"
     ]
    }
   ],
   "source": [
    "number_of_tweets = 500\n",
    "tweets = []\n",
    "user_id =[]\n",
    "created_at = []\n",
    "keyword_list = ['News', 'Stock'] # , 'Customers', 'Employees', 'Company', 'Price', 'Shareholders', 'Market', 'Soaring', 'Trends'\n",
    "company = 'Amazon'\n",
    "final_kw_list = []\n",
    "\n",
    "# Crawl data from keywords\n",
    "for i in range (len(keyword_list)):\n",
    "    kw = str(company + ' ' + keyword_list[i])\n",
    "    print(kw)\n",
    "    final_kw_list.append(kw)\n",
    "    for i in tw.Cursor(api.search, q = kw , lang =\"en\", since = \"2022-01-14\",tweet_mode = \"extended\").items(number_of_tweets):\n",
    "        tweets.append(i.full_text)\n",
    "        user_id.append(i.user.id)\n",
    "        created_at.append(i.created_at)"
   ],
   "metadata": {
    "collapsed": false,
    "pycharm": {
     "name": "#%%\n"
    }
   }
  },
  {
   "cell_type": "code",
   "execution_count": 5,
   "outputs": [
    {
     "data": {
      "text/plain": "             Created_at              User_id  \\\n0   2022-02-07 08:44:37            210955835   \n1   2022-02-07 08:44:18           4419993470   \n2   2022-02-07 08:43:49  1299877337148936192   \n3   2022-02-07 08:42:50             15482079   \n4   2022-02-07 08:42:50  1267197215635726336   \n..                  ...                  ...   \n995 2022-02-07 01:23:14  1377519267143376898   \n996 2022-02-07 01:22:43            499672969   \n997 2022-02-07 01:21:46  1377519267143376898   \n998 2022-02-07 01:20:59  1418587410384908293   \n999 2022-02-07 01:20:35            499672969   \n\n                                                Tweets  \n0    RT @Fridays4future: “The oil spill has reached...  \n1    Stock Market Today: Amazon's Historic Day Push...  \n2    WOW: Priyanka Chopra Jonas to be seen in Holly...  \n3    Net sales at Amazon were up by 9% year on year...  \n4    &lt;Ethereum Price&gt;\\nETH/USDT(Binance): 306...  \n..                                                 ...  \n995  PowerColor Red Dragon AMD Radeon™ RX 6800 Gami...  \n996  (US)In Stock: GIGABYTE AORUS 3070 Ti Master - ...  \n997  Xbox Series S is now in stock. \\nProduct Page:...  \n998  (US) In Stock: GIGABYTE AORUS GeForce RTX 3080...  \n999  (US)In Stock: XFX Speedster QICK210 Radeon RX ...  \n\n[1000 rows x 3 columns]",
      "text/html": "<div>\n<style scoped>\n    .dataframe tbody tr th:only-of-type {\n        vertical-align: middle;\n    }\n\n    .dataframe tbody tr th {\n        vertical-align: top;\n    }\n\n    .dataframe thead th {\n        text-align: right;\n    }\n</style>\n<table border=\"1\" class=\"dataframe\">\n  <thead>\n    <tr style=\"text-align: right;\">\n      <th></th>\n      <th>Created_at</th>\n      <th>User_id</th>\n      <th>Tweets</th>\n    </tr>\n  </thead>\n  <tbody>\n    <tr>\n      <th>0</th>\n      <td>2022-02-07 08:44:37</td>\n      <td>210955835</td>\n      <td>RT @Fridays4future: “The oil spill has reached...</td>\n    </tr>\n    <tr>\n      <th>1</th>\n      <td>2022-02-07 08:44:18</td>\n      <td>4419993470</td>\n      <td>Stock Market Today: Amazon's Historic Day Push...</td>\n    </tr>\n    <tr>\n      <th>2</th>\n      <td>2022-02-07 08:43:49</td>\n      <td>1299877337148936192</td>\n      <td>WOW: Priyanka Chopra Jonas to be seen in Holly...</td>\n    </tr>\n    <tr>\n      <th>3</th>\n      <td>2022-02-07 08:42:50</td>\n      <td>15482079</td>\n      <td>Net sales at Amazon were up by 9% year on year...</td>\n    </tr>\n    <tr>\n      <th>4</th>\n      <td>2022-02-07 08:42:50</td>\n      <td>1267197215635726336</td>\n      <td>&amp;lt;Ethereum Price&amp;gt;\\nETH/USDT(Binance): 306...</td>\n    </tr>\n    <tr>\n      <th>...</th>\n      <td>...</td>\n      <td>...</td>\n      <td>...</td>\n    </tr>\n    <tr>\n      <th>995</th>\n      <td>2022-02-07 01:23:14</td>\n      <td>1377519267143376898</td>\n      <td>PowerColor Red Dragon AMD Radeon™ RX 6800 Gami...</td>\n    </tr>\n    <tr>\n      <th>996</th>\n      <td>2022-02-07 01:22:43</td>\n      <td>499672969</td>\n      <td>(US)In Stock: GIGABYTE AORUS 3070 Ti Master - ...</td>\n    </tr>\n    <tr>\n      <th>997</th>\n      <td>2022-02-07 01:21:46</td>\n      <td>1377519267143376898</td>\n      <td>Xbox Series S is now in stock. \\nProduct Page:...</td>\n    </tr>\n    <tr>\n      <th>998</th>\n      <td>2022-02-07 01:20:59</td>\n      <td>1418587410384908293</td>\n      <td>(US) In Stock: GIGABYTE AORUS GeForce RTX 3080...</td>\n    </tr>\n    <tr>\n      <th>999</th>\n      <td>2022-02-07 01:20:35</td>\n      <td>499672969</td>\n      <td>(US)In Stock: XFX Speedster QICK210 Radeon RX ...</td>\n    </tr>\n  </tbody>\n</table>\n<p>1000 rows × 3 columns</p>\n</div>"
     },
     "execution_count": 5,
     "metadata": {},
     "output_type": "execute_result"
    }
   ],
   "source": [
    "df = pd.DataFrame({\"Created_at\": created_at,\"User_id\": user_id,\"Tweets\":tweets})\n",
    "df"
   ],
   "metadata": {
    "collapsed": false,
    "pycharm": {
     "name": "#%%\n"
    }
   }
  },
  {
   "cell_type": "code",
   "execution_count": 6,
   "outputs": [],
   "source": [
    "df = df[~df.Tweets.str.contains(\"RT\")]\n",
    "df = df.reset_index(drop = True)"
   ],
   "metadata": {
    "collapsed": false,
    "pycharm": {
     "name": "#%%\n"
    }
   }
  },
  {
   "cell_type": "code",
   "execution_count": 7,
   "outputs": [],
   "source": [
    "def clean_up_tweet(text):\n",
    "    text = re.sub(r'@[A-Za-z0-9_]+','',text) # Remove mentions @\n",
    "    text = re.sub(r'#', '', text) # Remove hastag symbol\n",
    "    text = re.sub(r'https?:\\/\\/[A-Za-z0-9\\.\\/]+', '', text) # Remove hyper link\n",
    "    text = re.sub('[^A-Za-z0-9]+', ' ', text) # Remove special characters\n",
    "    text = re.sub(r'[0-9]+', '', text)\n",
    "    #Remove stop words\n",
    "    res = ''\n",
    "    for word in text.split():\n",
    "        if word not in stopwords.words('english'):\n",
    "            res += WordNetLemmatizer().lemmatize(word) + ' '\n",
    "\n",
    "    return res"
   ],
   "metadata": {
    "collapsed": false,
    "pycharm": {
     "name": "#%%\n"
    }
   }
  },
  {
   "cell_type": "code",
   "execution_count": 8,
   "outputs": [
    {
     "data": {
      "text/plain": "             Created_at              User_id  \\\n0   2022-02-07 08:44:18           4419993470   \n1   2022-02-07 08:43:49  1299877337148936192   \n2   2022-02-07 08:42:50             15482079   \n3   2022-02-07 08:42:50  1267197215635726336   \n4   2022-02-07 08:41:32  1483083938151428096   \n..                  ...                  ...   \n317 2022-02-07 01:35:45  1306463816226660352   \n318 2022-02-07 01:30:44   780460754910732288   \n319 2022-02-07 01:27:53             52126417   \n320 2022-02-07 01:23:24  1309851202511831041   \n321 2022-02-07 01:22:43            499672969   \n\n                                                Tweets  \n0    Stock Market Today Amazon Historic Day Pushes ...  \n1    WOW Priyanka Chopra Jonas seen Hollywood actio...  \n2    Net sale Amazon year year bn bn three month De...  \n3    lt Ethereum Price gt ETH USDT Binance Check Pr...  \n4    Do like Amazon Gift Card Great news This Amazo...  \n..                                                 ...  \n317  Amazon ASUS ROG Strix Z A Gaming WiFi D LGA AT...  \n318           The Art Soul Dune back stock sale Order   \n319  Amazon Stock Saves Stock Market Stock Market A...  \n320  ad MSI Radeon RX XT Gaming X Trio Carte Graph ...  \n321  US In Stock GIGABYTE AORUS Ti Master ATC Link ...  \n\n[322 rows x 3 columns]",
      "text/html": "<div>\n<style scoped>\n    .dataframe tbody tr th:only-of-type {\n        vertical-align: middle;\n    }\n\n    .dataframe tbody tr th {\n        vertical-align: top;\n    }\n\n    .dataframe thead th {\n        text-align: right;\n    }\n</style>\n<table border=\"1\" class=\"dataframe\">\n  <thead>\n    <tr style=\"text-align: right;\">\n      <th></th>\n      <th>Created_at</th>\n      <th>User_id</th>\n      <th>Tweets</th>\n    </tr>\n  </thead>\n  <tbody>\n    <tr>\n      <th>0</th>\n      <td>2022-02-07 08:44:18</td>\n      <td>4419993470</td>\n      <td>Stock Market Today Amazon Historic Day Pushes ...</td>\n    </tr>\n    <tr>\n      <th>1</th>\n      <td>2022-02-07 08:43:49</td>\n      <td>1299877337148936192</td>\n      <td>WOW Priyanka Chopra Jonas seen Hollywood actio...</td>\n    </tr>\n    <tr>\n      <th>2</th>\n      <td>2022-02-07 08:42:50</td>\n      <td>15482079</td>\n      <td>Net sale Amazon year year bn bn three month De...</td>\n    </tr>\n    <tr>\n      <th>3</th>\n      <td>2022-02-07 08:42:50</td>\n      <td>1267197215635726336</td>\n      <td>lt Ethereum Price gt ETH USDT Binance Check Pr...</td>\n    </tr>\n    <tr>\n      <th>4</th>\n      <td>2022-02-07 08:41:32</td>\n      <td>1483083938151428096</td>\n      <td>Do like Amazon Gift Card Great news This Amazo...</td>\n    </tr>\n    <tr>\n      <th>...</th>\n      <td>...</td>\n      <td>...</td>\n      <td>...</td>\n    </tr>\n    <tr>\n      <th>317</th>\n      <td>2022-02-07 01:35:45</td>\n      <td>1306463816226660352</td>\n      <td>Amazon ASUS ROG Strix Z A Gaming WiFi D LGA AT...</td>\n    </tr>\n    <tr>\n      <th>318</th>\n      <td>2022-02-07 01:30:44</td>\n      <td>780460754910732288</td>\n      <td>The Art Soul Dune back stock sale Order</td>\n    </tr>\n    <tr>\n      <th>319</th>\n      <td>2022-02-07 01:27:53</td>\n      <td>52126417</td>\n      <td>Amazon Stock Saves Stock Market Stock Market A...</td>\n    </tr>\n    <tr>\n      <th>320</th>\n      <td>2022-02-07 01:23:24</td>\n      <td>1309851202511831041</td>\n      <td>ad MSI Radeon RX XT Gaming X Trio Carte Graph ...</td>\n    </tr>\n    <tr>\n      <th>321</th>\n      <td>2022-02-07 01:22:43</td>\n      <td>499672969</td>\n      <td>US In Stock GIGABYTE AORUS Ti Master ATC Link ...</td>\n    </tr>\n  </tbody>\n</table>\n<p>322 rows × 3 columns</p>\n</div>"
     },
     "execution_count": 8,
     "metadata": {},
     "output_type": "execute_result"
    }
   ],
   "source": [
    "df['Tweets'] = df['Tweets'].apply(clean_up_tweet)\n",
    "df = df.drop_duplicates(subset='Tweets')\n",
    "df = df.reset_index(drop=True)\n",
    "df"
   ],
   "metadata": {
    "collapsed": false,
    "pycharm": {
     "name": "#%%\n"
    }
   }
  },
  {
   "cell_type": "code",
   "execution_count": 13,
   "outputs": [
    {
     "data": {
      "text/plain": "             Created_at              User_id  \\\n0   2022-02-07 08:44:18           4419993470   \n1   2022-02-07 08:43:49  1299877337148936192   \n2   2022-02-07 08:41:32  1483083938151428096   \n3   2022-02-07 08:37:31  1352234446402048003   \n4   2022-02-07 08:36:34  1156926992119488513   \n..                  ...                  ...   \n170 2022-02-07 02:31:04  1006334607946649600   \n171 2022-02-07 02:22:43             14562685   \n172 2022-02-07 02:14:20           2761384656   \n173 2022-02-07 01:52:43             20110439   \n174 2022-02-07 01:47:33  1142815161251782663   \n\n                                                Tweets  Subjectivity  Polarity  \n0    Stock Market Today Amazon Historic Day Pushes ...      0.250000  0.125000  \n1    WOW Priyanka Chopra Jonas seen Hollywood actio...      0.366667  0.066667  \n2    Do like Amazon Gift Card Great news This Amazo...      0.583333  0.566667  \n3    Businesshala News Exclusive Amazon Other Poten...      0.687500 -0.062500  \n4    S amp P rise end best week year far Amazon pus...      0.600000  0.450000  \n..                                                 ...           ...       ...  \n170  Top Stock Market Moving Headlines From Last We...      0.355556  0.333333  \n171  MyPOV fire sale What install base worth darlin...      0.700000 -0.166667  \n172  Do know people put investment capital Googles ...      0.650000  0.350000  \n173  amazon stock shift frequently right listing go...      0.433929  0.371429  \n174  I think incredibly thoughtful I test regularly...      0.288462  0.200000  \n\n[175 rows x 5 columns]",
      "text/html": "<div>\n<style scoped>\n    .dataframe tbody tr th:only-of-type {\n        vertical-align: middle;\n    }\n\n    .dataframe tbody tr th {\n        vertical-align: top;\n    }\n\n    .dataframe thead th {\n        text-align: right;\n    }\n</style>\n<table border=\"1\" class=\"dataframe\">\n  <thead>\n    <tr style=\"text-align: right;\">\n      <th></th>\n      <th>Created_at</th>\n      <th>User_id</th>\n      <th>Tweets</th>\n      <th>Subjectivity</th>\n      <th>Polarity</th>\n    </tr>\n  </thead>\n  <tbody>\n    <tr>\n      <th>0</th>\n      <td>2022-02-07 08:44:18</td>\n      <td>4419993470</td>\n      <td>Stock Market Today Amazon Historic Day Pushes ...</td>\n      <td>0.250000</td>\n      <td>0.125000</td>\n    </tr>\n    <tr>\n      <th>1</th>\n      <td>2022-02-07 08:43:49</td>\n      <td>1299877337148936192</td>\n      <td>WOW Priyanka Chopra Jonas seen Hollywood actio...</td>\n      <td>0.366667</td>\n      <td>0.066667</td>\n    </tr>\n    <tr>\n      <th>2</th>\n      <td>2022-02-07 08:41:32</td>\n      <td>1483083938151428096</td>\n      <td>Do like Amazon Gift Card Great news This Amazo...</td>\n      <td>0.583333</td>\n      <td>0.566667</td>\n    </tr>\n    <tr>\n      <th>3</th>\n      <td>2022-02-07 08:37:31</td>\n      <td>1352234446402048003</td>\n      <td>Businesshala News Exclusive Amazon Other Poten...</td>\n      <td>0.687500</td>\n      <td>-0.062500</td>\n    </tr>\n    <tr>\n      <th>4</th>\n      <td>2022-02-07 08:36:34</td>\n      <td>1156926992119488513</td>\n      <td>S amp P rise end best week year far Amazon pus...</td>\n      <td>0.600000</td>\n      <td>0.450000</td>\n    </tr>\n    <tr>\n      <th>...</th>\n      <td>...</td>\n      <td>...</td>\n      <td>...</td>\n      <td>...</td>\n      <td>...</td>\n    </tr>\n    <tr>\n      <th>170</th>\n      <td>2022-02-07 02:31:04</td>\n      <td>1006334607946649600</td>\n      <td>Top Stock Market Moving Headlines From Last We...</td>\n      <td>0.355556</td>\n      <td>0.333333</td>\n    </tr>\n    <tr>\n      <th>171</th>\n      <td>2022-02-07 02:22:43</td>\n      <td>14562685</td>\n      <td>MyPOV fire sale What install base worth darlin...</td>\n      <td>0.700000</td>\n      <td>-0.166667</td>\n    </tr>\n    <tr>\n      <th>172</th>\n      <td>2022-02-07 02:14:20</td>\n      <td>2761384656</td>\n      <td>Do know people put investment capital Googles ...</td>\n      <td>0.650000</td>\n      <td>0.350000</td>\n    </tr>\n    <tr>\n      <th>173</th>\n      <td>2022-02-07 01:52:43</td>\n      <td>20110439</td>\n      <td>amazon stock shift frequently right listing go...</td>\n      <td>0.433929</td>\n      <td>0.371429</td>\n    </tr>\n    <tr>\n      <th>174</th>\n      <td>2022-02-07 01:47:33</td>\n      <td>1142815161251782663</td>\n      <td>I think incredibly thoughtful I test regularly...</td>\n      <td>0.288462</td>\n      <td>0.200000</td>\n    </tr>\n  </tbody>\n</table>\n<p>175 rows × 5 columns</p>\n</div>"
     },
     "execution_count": 13,
     "metadata": {},
     "output_type": "execute_result"
    }
   ],
   "source": [
    "# Create function to get subjectivity\n",
    "def getSubjectivity(text):\n",
    "    return TextBlob(text).sentiment.subjectivity\n",
    "\n",
    "# Create function to get polarity\n",
    "def getPolarity(text):\n",
    "    return TextBlob(text).sentiment.polarity\n",
    "\n",
    "# Function compute negative, positive\n",
    "df['Subjectivity'] = df['Tweets'].apply(getSubjectivity)\n",
    "df['Polarity'] = df['Tweets'].apply(getPolarity)\n",
    "\n",
    "df = df.reset_index(drop=True)\n",
    "df"
   ],
   "metadata": {
    "collapsed": false,
    "pycharm": {
     "name": "#%%\n"
    }
   }
  },
  {
   "cell_type": "code",
   "execution_count": 14,
   "outputs": [],
   "source": [
    "from nltk.corpus import stopwords\n",
    "stoplist = stopwords.words('english')"
   ],
   "metadata": {
    "collapsed": false,
    "pycharm": {
     "name": "#%%\n"
    }
   }
  },
  {
   "cell_type": "code",
   "execution_count": 23,
   "outputs": [
    {
     "data": {
      "text/plain": "      Frequency                    n-gram  Polarity  Subjective\n0             6  top company exaggerating       0.5       0.500\n1             6               top company       0.5       0.500\n2             5                 good news       0.7       0.600\n3             5        climate change top       0.5       0.500\n4             5        change top company       0.5       0.500\n...         ...                       ...       ...         ...\n1089          1       account kindly give       0.6       0.900\n1090          1            account kindly       0.6       0.900\n1091          1            able spend buy       0.5       0.625\n1092          1                able spend       0.5       0.625\n1093          1         ability make good       0.7       0.600\n\n[1094 rows x 4 columns]",
      "text/html": "<div>\n<style scoped>\n    .dataframe tbody tr th:only-of-type {\n        vertical-align: middle;\n    }\n\n    .dataframe tbody tr th {\n        vertical-align: top;\n    }\n\n    .dataframe thead th {\n        text-align: right;\n    }\n</style>\n<table border=\"1\" class=\"dataframe\">\n  <thead>\n    <tr style=\"text-align: right;\">\n      <th></th>\n      <th>Frequency</th>\n      <th>n-gram</th>\n      <th>Polarity</th>\n      <th>Subjective</th>\n    </tr>\n  </thead>\n  <tbody>\n    <tr>\n      <th>0</th>\n      <td>6</td>\n      <td>top company exaggerating</td>\n      <td>0.5</td>\n      <td>0.500</td>\n    </tr>\n    <tr>\n      <th>1</th>\n      <td>6</td>\n      <td>top company</td>\n      <td>0.5</td>\n      <td>0.500</td>\n    </tr>\n    <tr>\n      <th>2</th>\n      <td>5</td>\n      <td>good news</td>\n      <td>0.7</td>\n      <td>0.600</td>\n    </tr>\n    <tr>\n      <th>3</th>\n      <td>5</td>\n      <td>climate change top</td>\n      <td>0.5</td>\n      <td>0.500</td>\n    </tr>\n    <tr>\n      <th>4</th>\n      <td>5</td>\n      <td>change top company</td>\n      <td>0.5</td>\n      <td>0.500</td>\n    </tr>\n    <tr>\n      <th>...</th>\n      <td>...</td>\n      <td>...</td>\n      <td>...</td>\n      <td>...</td>\n    </tr>\n    <tr>\n      <th>1089</th>\n      <td>1</td>\n      <td>account kindly give</td>\n      <td>0.6</td>\n      <td>0.900</td>\n    </tr>\n    <tr>\n      <th>1090</th>\n      <td>1</td>\n      <td>account kindly</td>\n      <td>0.6</td>\n      <td>0.900</td>\n    </tr>\n    <tr>\n      <th>1091</th>\n      <td>1</td>\n      <td>able spend buy</td>\n      <td>0.5</td>\n      <td>0.625</td>\n    </tr>\n    <tr>\n      <th>1092</th>\n      <td>1</td>\n      <td>able spend</td>\n      <td>0.5</td>\n      <td>0.625</td>\n    </tr>\n    <tr>\n      <th>1093</th>\n      <td>1</td>\n      <td>ability make good</td>\n      <td>0.7</td>\n      <td>0.600</td>\n    </tr>\n  </tbody>\n</table>\n<p>1094 rows × 4 columns</p>\n</div>"
     },
     "execution_count": 23,
     "metadata": {},
     "output_type": "execute_result"
    }
   ],
   "source": [
    "from sklearn.feature_extraction.text import CountVectorizer\n",
    "c_vec = CountVectorizer(stop_words=stoplist, ngram_range=(2,3))\n",
    "# matrix of n_grams\n",
    "ngrams = c_vec.fit_transform(df['Tweets'])\n",
    "# count frequency of ngrams\n",
    "count_values = ngrams.toarray().sum(axis=0)\n",
    "# list of ngrams\n",
    "vocab = c_vec.vocabulary_\n",
    "df_ngram = pd.DataFrame(sorted([(count_values[i],k) for k,i in vocab.items()], reverse=True)\n",
    "            ).rename(columns={0: 'Frequency', 1:'n-gram'})\n",
    "\n",
    "df_ngram = df_ngram.drop_duplicates(subset='n-gram')\n",
    "df_ngram = df_ngram.reset_index(drop=True)\n",
    "df_ngram['Polarity'] = df_ngram['n-gram'].apply(lambda x: TextBlob(x).polarity)\n",
    "df_ngram['Subjective'] = df_ngram['n-gram'].apply(lambda x: TextBlob(x).subjectivity)\n",
    "df_ngram.drop(df_ngram.loc[df_ngram['Polarity'] == 0.0].index, inplace=True)\n",
    "df_ngram = df_ngram.reset_index(drop=True)\n",
    "df_ngram"
   ],
   "metadata": {
    "collapsed": false,
    "pycharm": {
     "name": "#%%\n"
    }
   }
  },
  {
   "cell_type": "code",
   "execution_count": 47,
   "outputs": [],
   "source": [
    "from sklearn.feature_extraction.text import CountVectorizer\n",
    "cv_vect = CountVectorizer(ngram_range=(2,3))\n",
    "cv = cv_vect.fit_transform(df['Tweets'])\n"
   ],
   "metadata": {
    "collapsed": false,
    "pycharm": {
     "name": "#%%\n"
    }
   }
  },
  {
   "cell_type": "code",
   "execution_count": 61,
   "outputs": [
    {
     "data": {
      "text/plain": "array([ 0.5       ,  0.375     ,  0.18333333,  0.2       ,  0.15      ,\n        0.2       , -0.125     , -0.25      ,  0.16666667,  0.46666667,\n        0.8       ,  0.15      ,  0.06818182,  1.        ,  0.06666667,\n        0.2       ,  0.23928571,  0.65      ,  0.2       , -0.26666667,\n        0.1       , -0.25      ,  0.56666667,  0.11818182,  0.65      ,\n        0.5       ,  0.8       ,  0.25      ,  0.27878788, -0.175     ,\n        0.125     ,  0.075     ,  0.1       ,  0.5       ,  0.13636364])"
     },
     "execution_count": 61,
     "metadata": {},
     "output_type": "execute_result"
    }
   ],
   "source": [
    "from sklearn.linear_model import LogisticRegression\n",
    "from sklearn.model_selection import train_test_split\n",
    "from sklearn.metrics import f1_score, accuracy_score\n",
    "\n",
    "y = df['Polarity'].values.astype('float')\n",
    "\n",
    "X_train, X_test, y_train, y_test = train_test_split(cv, y, random_state=42, test_size=0.2)\n",
    "y_test\n"
   ],
   "metadata": {
    "collapsed": false,
    "pycharm": {
     "name": "#%%\n"
    }
   }
  },
  {
   "cell_type": "code",
   "execution_count": 71,
   "outputs": [
    {
     "name": "stdout",
     "output_type": "stream",
     "text": [
      "SVR()\n",
      "[ 0.5         0.375       0.18333333  0.2         0.15        0.2\n",
      " -0.125      -0.25        0.16666667  0.46666667  0.8         0.15\n",
      "  0.06818182  1.          0.06666667  0.2         0.23928571  0.65\n",
      "  0.2        -0.26666667  0.1        -0.25        0.56666667  0.11818182\n",
      "  0.65        0.5         0.8         0.25        0.27878788 -0.175\n",
      "  0.125       0.075       0.1         0.5         0.13636364]\n",
      "[0.16220426 0.16261809 0.16269859 0.15999916 0.1624147  0.16237755\n",
      " 0.16244308 0.15775864 0.14608475 0.16282895 0.32423854 0.19167314\n",
      " 0.16354009 0.29105801 0.16303811 0.16249208 0.16259408 0.23675246\n",
      " 0.16320363 0.16264345 0.16308071 0.19003952 0.1624309  0.16290576\n",
      " 0.19645291 0.18122498 0.16418044 0.16286629 0.16905635 0.16893559\n",
      " 0.16331382 0.16261809 0.20911678 0.1633787  0.20734425] \n",
      "\n",
      "SGDRegressor()\n",
      "[ 0.5         0.375       0.18333333  0.2         0.15        0.2\n",
      " -0.125      -0.25        0.16666667  0.46666667  0.8         0.15\n",
      "  0.06818182  1.          0.06666667  0.2         0.23928571  0.65\n",
      "  0.2        -0.26666667  0.1        -0.25        0.56666667  0.11818182\n",
      "  0.65        0.5         0.8         0.25        0.27878788 -0.175\n",
      "  0.125       0.075       0.1         0.5         0.13636364]\n",
      "[0.01409035 0.00401503 0.00401503 0.02056745 0.00401503 0.00401503\n",
      " 0.015963   0.00254472 0.01475765 0.00777626 0.48816087 0.15369289\n",
      " 0.07222558 0.17547997 0.00401503 0.00401503 0.00401503 0.20841912\n",
      " 0.02082568 0.00401503 0.01856593 0.03576215 0.00401815 0.00401503\n",
      " 0.16722048 0.06599306 0.00948884 0.00757554 0.02832105 0.04107688\n",
      " 0.00401503 0.00752415 0.16279085 0.00401503 0.15233569] \n",
      "\n",
      "LinearRegression()\n",
      "[ 0.5         0.375       0.18333333  0.2         0.15        0.2\n",
      " -0.125      -0.25        0.16666667  0.46666667  0.8         0.15\n",
      "  0.06818182  1.          0.06666667  0.2         0.23928571  0.65\n",
      "  0.2        -0.26666667  0.1        -0.25        0.56666667  0.11818182\n",
      "  0.65        0.5         0.8         0.25        0.27878788 -0.175\n",
      "  0.125       0.075       0.1         0.5         0.13636364]\n",
      "[0.15461676 0.15504165 0.15504165 0.14697484 0.15504165 0.15504165\n",
      " 0.15558825 0.13926921 0.13635767 0.15674143 0.64154532 0.16527426\n",
      " 0.09082457 0.36908377 0.15504165 0.15504165 0.15504165 0.23087781\n",
      " 0.16058962 0.15504165 0.15249315 0.20345515 0.15226754 0.15504165\n",
      " 0.22449146 0.20599147 0.1596903  0.15531788 0.18906735 0.19785093\n",
      " 0.15504165 0.15638137 0.14188652 0.15504165 0.13701372] \n",
      "\n"
     ]
    }
   ],
   "source": [
    "from sklearn.metrics import classification_report\n",
    "import numpy as np\n",
    "from sklearn import linear_model\n",
    "from sklearn import svm\n",
    "\n",
    "classifiers = [\n",
    "    svm.SVR(),\n",
    "    linear_model.SGDRegressor(),\n",
    "    linear_model.LinearRegression()]\n",
    "\n",
    "trainingData    = X_train\n",
    "trainingScores  = y_train\n",
    "predictionData  = X_test\n",
    "\n",
    "for item in classifiers:\n",
    "    print(item)\n",
    "    clf = item\n",
    "    clf.fit(trainingData, trainingScores)\n",
    "    print(y_test)\n",
    "    print(clf.predict(predictionData),'\\n')"
   ],
   "metadata": {
    "collapsed": false,
    "pycharm": {
     "name": "#%%\n"
    }
   }
  }
 ],
 "metadata": {
  "kernelspec": {
   "display_name": "Python 3",
   "language": "python",
   "name": "python3"
  },
  "language_info": {
   "codemirror_mode": {
    "name": "ipython",
    "version": 2
   },
   "file_extension": ".py",
   "mimetype": "text/x-python",
   "name": "python",
   "nbconvert_exporter": "python",
   "pygments_lexer": "ipython2",
   "version": "2.7.6"
  }
 },
 "nbformat": 4,
 "nbformat_minor": 0
}