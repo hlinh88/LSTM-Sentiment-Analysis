{
 "cells": [
  {
   "cell_type": "code",
   "execution_count": 1,
   "metadata": {
    "collapsed": true
   },
   "outputs": [],
   "source": [
    "from textblob import TextBlob\n",
    "import math\n",
    "from collections import Counter, defaultdict\n",
    "import tweepy as tw\n",
    "import json\n",
    "import pandas as pd\n",
    "import re\n",
    "import numpy as np\n",
    "import matplotlib.pyplot as plt\n",
    "import seaborn as sns\n",
    "from bs4 import BeautifulSoup\n",
    "\n",
    "import nltk\n",
    "from nltk.corpus import stopwords\n",
    "from nltk.stem import WordNetLemmatizer"
   ]
  },
  {
   "cell_type": "code",
   "execution_count": 2,
   "outputs": [],
   "source": [
    "api_key = \"HAcIeikl6eRheQP1oKYGDwPx0\"\n",
    "api_secret = \"gEWmqG7QVXzudnviUXDo98L2UKGYg9PNqy1bAR1geClkHjqBGk\"\n",
    "access_token = \"1481095074465579008-1pApYlU4HRJWpbAXcbdVEVGzdACuEz\"\n",
    "access_token_secret = \"htgD81H4mOxXw5MglAljFRHhcfGAuwsNomXVqvGw0Obwe\"\n",
    "auth = tw.OAuthHandler(api_key, api_secret)\n",
    "auth.set_access_token(access_token, access_token_secret)\n",
    "api = tw.API(auth,wait_on_rate_limit=True)"
   ],
   "metadata": {
    "collapsed": false,
    "pycharm": {
     "name": "#%%\n"
    }
   }
  },
  {
   "cell_type": "code",
   "execution_count": 3,
   "outputs": [
    {
     "name": "stdout",
     "output_type": "stream",
     "text": [
      "Amazon News\n",
      "Amazon Stock\n"
     ]
    }
   ],
   "source": [
    "number_of_tweets = 200\n",
    "tweets = []\n",
    "user_id =[]\n",
    "created_at = []\n",
    "keyword_list = ['News', 'Stock'] # , 'Customers', 'Employees', 'Company', 'Price', 'Shareholders', 'Market', 'Soaring', 'Trends'\n",
    "company = 'Amazon'\n",
    "final_kw_list = []\n",
    "\n",
    "# Crawl data from keywords\n",
    "for i in range (len(keyword_list)):\n",
    "    kw = str(company + ' ' + keyword_list[i])\n",
    "    print(kw)\n",
    "    final_kw_list.append(kw)\n",
    "    for i in tw.Cursor(api.search, q = kw , lang =\"en\", since = \"2022-01-14\",tweet_mode = \"extended\").items(number_of_tweets):\n",
    "        tweets.append(i.full_text)\n",
    "        user_id.append(i.user.id)\n",
    "        created_at.append(i.created_at)"
   ],
   "metadata": {
    "collapsed": false,
    "pycharm": {
     "name": "#%%\n"
    }
   }
  },
  {
   "cell_type": "code",
   "execution_count": 4,
   "outputs": [
    {
     "data": {
      "text/plain": "                                                tweets\n0    RT @CAPEUSA: DRAMAWORLD season 2 launches THIS...\n1    @AllThingTravel @BarcaExplore @BarcelonaInfoES...\n2    @toddbarry Do you like #Amazon Gift Card! Grea...\n3    Amazon deforestation: Record high destruction ...\n4    @TheAcademicWino Do you like #Amazon Gift Card...\n..                                                 ...\n395  Does MacKenzie Scott Still Own Any Amazon (AMZ...\n396  (US)In Stock: Asus TUF RX 6500 XT Gaming - 349...\n397  (US)In Stock: XFX Speedster QICK210 Radeon RX ...\n398  RT @TheVivekSinghal: Amazon stock was at $106 ...\n399  @ps_mode_alpha @legopelaverga @AEGRO_84 @kidsm...\n\n[400 rows x 1 columns]",
      "text/html": "<div>\n<style scoped>\n    .dataframe tbody tr th:only-of-type {\n        vertical-align: middle;\n    }\n\n    .dataframe tbody tr th {\n        vertical-align: top;\n    }\n\n    .dataframe thead th {\n        text-align: right;\n    }\n</style>\n<table border=\"1\" class=\"dataframe\">\n  <thead>\n    <tr style=\"text-align: right;\">\n      <th></th>\n      <th>tweets</th>\n    </tr>\n  </thead>\n  <tbody>\n    <tr>\n      <th>0</th>\n      <td>RT @CAPEUSA: DRAMAWORLD season 2 launches THIS...</td>\n    </tr>\n    <tr>\n      <th>1</th>\n      <td>@AllThingTravel @BarcaExplore @BarcelonaInfoES...</td>\n    </tr>\n    <tr>\n      <th>2</th>\n      <td>@toddbarry Do you like #Amazon Gift Card! Grea...</td>\n    </tr>\n    <tr>\n      <th>3</th>\n      <td>Amazon deforestation: Record high destruction ...</td>\n    </tr>\n    <tr>\n      <th>4</th>\n      <td>@TheAcademicWino Do you like #Amazon Gift Card...</td>\n    </tr>\n    <tr>\n      <th>...</th>\n      <td>...</td>\n    </tr>\n    <tr>\n      <th>395</th>\n      <td>Does MacKenzie Scott Still Own Any Amazon (AMZ...</td>\n    </tr>\n    <tr>\n      <th>396</th>\n      <td>(US)In Stock: Asus TUF RX 6500 XT Gaming - 349...</td>\n    </tr>\n    <tr>\n      <th>397</th>\n      <td>(US)In Stock: XFX Speedster QICK210 Radeon RX ...</td>\n    </tr>\n    <tr>\n      <th>398</th>\n      <td>RT @TheVivekSinghal: Amazon stock was at $106 ...</td>\n    </tr>\n    <tr>\n      <th>399</th>\n      <td>@ps_mode_alpha @legopelaverga @AEGRO_84 @kidsm...</td>\n    </tr>\n  </tbody>\n</table>\n<p>400 rows × 1 columns</p>\n</div>"
     },
     "execution_count": 4,
     "metadata": {},
     "output_type": "execute_result"
    }
   ],
   "source": [
    "df = pd.DataFrame({\"tweets\":tweets})\n",
    "df"
   ],
   "metadata": {
    "collapsed": false,
    "pycharm": {
     "name": "#%%\n"
    }
   }
  },
  {
   "cell_type": "code",
   "execution_count": 6,
   "outputs": [],
   "source": [
    "df = df[~df.tweets.str.contains(\"RT\")]\n",
    "df = df.reset_index(drop = True)"
   ],
   "metadata": {
    "collapsed": false,
    "pycharm": {
     "name": "#%%\n"
    }
   }
  },
  {
   "cell_type": "code",
   "execution_count": 9,
   "outputs": [],
   "source": [
    "def clean_up_tweet(text):\n",
    "    text = re.sub(r'@[A-Za-z0-9_]+','',text) # Remove mentions @\n",
    "    text = re.sub(r'#', '', text) # Remove hastag symbol\n",
    "    text = re.sub(r'https?:\\/\\/[A-Za-z0-9\\.\\/]+', '', text) # Remove hyper link\n",
    "    text = re.sub('[^A-Za-z0-9]+', ' ', text) # Remove special characters\n",
    "    text = re.sub(r'[0-9]+', '', text)\n",
    "    #Remove stop words\n",
    "    res = ''\n",
    "    for word in text.split():\n",
    "        if word not in stopwords.words('english'):\n",
    "            res += WordNetLemmatizer().lemmatize(word) + ' '\n",
    "\n",
    "    return res"
   ],
   "metadata": {
    "collapsed": false,
    "pycharm": {
     "name": "#%%\n"
    }
   }
  },
  {
   "cell_type": "code",
   "execution_count": 10,
   "outputs": [
    {
     "data": {
      "text/plain": "                                                tweets  \\\n0    @AllThingTravel @BarcaExplore @BarcelonaInfoES...   \n1    @toddbarry Do you like #Amazon Gift Card! Grea...   \n2    Amazon deforestation: Record high destruction ...   \n3    @TheAcademicWino Do you like #Amazon Gift Card...   \n4    Corporate titans like Amazon are raising the s...   \n..                                                 ...   \n221  @MadamMiaow Ah well, the US has been printing ...   \n222  Does MacKenzie Scott Still Own Any Amazon (AMZ...   \n223  (US)In Stock: Asus TUF RX 6500 XT Gaming - 349...   \n224  (US)In Stock: XFX Speedster QICK210 Radeon RX ...   \n225  @ps_mode_alpha @legopelaverga @AEGRO_84 @kidsm...   \n\n                                          clean_tweets  \n0    Do like Amazon Gift Card Great News This Amazo...  \n1    Do like Amazon Gift Card Great News This Amazo...  \n2    Amazon deforestation Record high destruction t...  \n3    Do like Amazon Gift Card Great News This Amazo...  \n4    Corporate titan like Amazon raising salary sta...  \n..                                                 ...  \n221  Ah well US printing money like tomorrow gone o...  \n222  Does MacKenzie Scott Still Own Any Amazon AMZN...  \n223  US In Stock Asus TUF RX XT Gaming ATC Link As ...  \n224  US In Stock XFX Speedster QICK Radeon RX XT AT...  \n225  Their gaming war PlayStation Xbox need PlaySta...  \n\n[226 rows x 2 columns]",
      "text/html": "<div>\n<style scoped>\n    .dataframe tbody tr th:only-of-type {\n        vertical-align: middle;\n    }\n\n    .dataframe tbody tr th {\n        vertical-align: top;\n    }\n\n    .dataframe thead th {\n        text-align: right;\n    }\n</style>\n<table border=\"1\" class=\"dataframe\">\n  <thead>\n    <tr style=\"text-align: right;\">\n      <th></th>\n      <th>tweets</th>\n      <th>clean_tweets</th>\n    </tr>\n  </thead>\n  <tbody>\n    <tr>\n      <th>0</th>\n      <td>@AllThingTravel @BarcaExplore @BarcelonaInfoES...</td>\n      <td>Do like Amazon Gift Card Great News This Amazo...</td>\n    </tr>\n    <tr>\n      <th>1</th>\n      <td>@toddbarry Do you like #Amazon Gift Card! Grea...</td>\n      <td>Do like Amazon Gift Card Great News This Amazo...</td>\n    </tr>\n    <tr>\n      <th>2</th>\n      <td>Amazon deforestation: Record high destruction ...</td>\n      <td>Amazon deforestation Record high destruction t...</td>\n    </tr>\n    <tr>\n      <th>3</th>\n      <td>@TheAcademicWino Do you like #Amazon Gift Card...</td>\n      <td>Do like Amazon Gift Card Great News This Amazo...</td>\n    </tr>\n    <tr>\n      <th>4</th>\n      <td>Corporate titans like Amazon are raising the s...</td>\n      <td>Corporate titan like Amazon raising salary sta...</td>\n    </tr>\n    <tr>\n      <th>...</th>\n      <td>...</td>\n      <td>...</td>\n    </tr>\n    <tr>\n      <th>221</th>\n      <td>@MadamMiaow Ah well, the US has been printing ...</td>\n      <td>Ah well US printing money like tomorrow gone o...</td>\n    </tr>\n    <tr>\n      <th>222</th>\n      <td>Does MacKenzie Scott Still Own Any Amazon (AMZ...</td>\n      <td>Does MacKenzie Scott Still Own Any Amazon AMZN...</td>\n    </tr>\n    <tr>\n      <th>223</th>\n      <td>(US)In Stock: Asus TUF RX 6500 XT Gaming - 349...</td>\n      <td>US In Stock Asus TUF RX XT Gaming ATC Link As ...</td>\n    </tr>\n    <tr>\n      <th>224</th>\n      <td>(US)In Stock: XFX Speedster QICK210 Radeon RX ...</td>\n      <td>US In Stock XFX Speedster QICK Radeon RX XT AT...</td>\n    </tr>\n    <tr>\n      <th>225</th>\n      <td>@ps_mode_alpha @legopelaverga @AEGRO_84 @kidsm...</td>\n      <td>Their gaming war PlayStation Xbox need PlaySta...</td>\n    </tr>\n  </tbody>\n</table>\n<p>226 rows × 2 columns</p>\n</div>"
     },
     "execution_count": 10,
     "metadata": {},
     "output_type": "execute_result"
    }
   ],
   "source": [
    "df['clean_tweets'] = df['tweets'].apply(clean_up_tweet)\n",
    "df = df.drop_duplicates(subset='tweets')\n",
    "df = df.reset_index(drop=True)\n",
    "df"
   ],
   "metadata": {
    "collapsed": false,
    "pycharm": {
     "name": "#%%\n"
    }
   }
  },
  {
   "cell_type": "code",
   "execution_count": 13,
   "outputs": [],
   "source": [
    "# tokenization\n",
    "tokenized_doc = df['clean_tweets'].fillna('').apply(lambda x: x.split())\n",
    "\n",
    "# remove stop-words\n",
    "tokenized_doc = tokenized_doc.apply(lambda x: [item for item in x if item not in stopwords.words('english')])\n",
    "\n",
    "# de-tokenization\n",
    "detokenized_doc = []\n",
    "for i in range(len(df)):\n",
    "    t = ' '.join(tokenized_doc[i])\n",
    "    detokenized_doc.append(t)\n",
    "\n",
    "df['clean_tweets'] = detokenized_doc"
   ],
   "metadata": {
    "collapsed": false,
    "pycharm": {
     "name": "#%%\n"
    }
   }
  },
  {
   "cell_type": "code",
   "execution_count": 14,
   "outputs": [],
   "source": [
    "from sklearn.feature_extraction.text import TfidfVectorizer\n",
    "\n",
    "# TF-IDF vector\n",
    "vectorizer = TfidfVectorizer(stop_words='english', smooth_idf=True)\n",
    "X = vectorizer.fit_transform(df['clean_tweets'])"
   ],
   "metadata": {
    "collapsed": false,
    "pycharm": {
     "name": "#%%\n"
    }
   }
  },
  {
   "cell_type": "code",
   "execution_count": 24,
   "outputs": [],
   "source": [
    "from sklearn.decomposition import TruncatedSVD\n",
    "\n",
    "# SVD represent documents and terms in vectors\n",
    "svd_model = TruncatedSVD(n_components=2, algorithm='randomized', n_iter=100, random_state=42)\n",
    "lsa = svd_model.fit_transform(X)"
   ],
   "metadata": {
    "collapsed": false,
    "pycharm": {
     "name": "#%%\n"
    }
   }
  },
  {
   "cell_type": "code",
   "execution_count": 25,
   "outputs": [
    {
     "data": {
      "text/plain": "                                                tweets            topic_1  \\\n0    Do like Amazon Gift Card Great News This Amazo... 0.0770778764437440   \n1    Do like Amazon Gift Card Great News This Amazo... 0.0770778764437440   \n2    Amazon deforestation Record high destruction t... 0.0290793760593020   \n3    Do like Amazon Gift Card Great News This Amazo... 0.0770778764437440   \n4    Corporate titan like Amazon raising salary sta... 0.0111064278215990   \n..                                                 ...                ...   \n221  Ah well US printing money like tomorrow gone o... 0.0235221504326709   \n222  Does MacKenzie Scott Still Own Any Amazon AMZN... 0.0429633415380288   \n223  US In Stock Asus TUF RX XT Gaming ATC Link As ... 0.7661248549908103   \n224  US In Stock XFX Speedster QICK Radeon RX XT AT... 0.8086738701278114   \n225  Their gaming war PlayStation Xbox need PlaySta... 0.0391393267456083   \n\n                topic_2  \n0    0.1024271858257332  \n1    0.1024271858257332  \n2    0.8208647067193138  \n3    0.1024271858257332  \n4    0.0133382595340869  \n..                  ...  \n221  0.0140882874803430  \n222  0.0186223245523313  \n223 -0.0127836494976651  \n224 -0.0202120579211021  \n225  0.0225137410414775  \n\n[226 rows x 3 columns]",
      "text/html": "<div>\n<style scoped>\n    .dataframe tbody tr th:only-of-type {\n        vertical-align: middle;\n    }\n\n    .dataframe tbody tr th {\n        vertical-align: top;\n    }\n\n    .dataframe thead th {\n        text-align: right;\n    }\n</style>\n<table border=\"1\" class=\"dataframe\">\n  <thead>\n    <tr style=\"text-align: right;\">\n      <th></th>\n      <th>tweets</th>\n      <th>topic_1</th>\n      <th>topic_2</th>\n    </tr>\n  </thead>\n  <tbody>\n    <tr>\n      <th>0</th>\n      <td>Do like Amazon Gift Card Great News This Amazo...</td>\n      <td>0.0770778764437440</td>\n      <td>0.1024271858257332</td>\n    </tr>\n    <tr>\n      <th>1</th>\n      <td>Do like Amazon Gift Card Great News This Amazo...</td>\n      <td>0.0770778764437440</td>\n      <td>0.1024271858257332</td>\n    </tr>\n    <tr>\n      <th>2</th>\n      <td>Amazon deforestation Record high destruction t...</td>\n      <td>0.0290793760593020</td>\n      <td>0.8208647067193138</td>\n    </tr>\n    <tr>\n      <th>3</th>\n      <td>Do like Amazon Gift Card Great News This Amazo...</td>\n      <td>0.0770778764437440</td>\n      <td>0.1024271858257332</td>\n    </tr>\n    <tr>\n      <th>4</th>\n      <td>Corporate titan like Amazon raising salary sta...</td>\n      <td>0.0111064278215990</td>\n      <td>0.0133382595340869</td>\n    </tr>\n    <tr>\n      <th>...</th>\n      <td>...</td>\n      <td>...</td>\n      <td>...</td>\n    </tr>\n    <tr>\n      <th>221</th>\n      <td>Ah well US printing money like tomorrow gone o...</td>\n      <td>0.0235221504326709</td>\n      <td>0.0140882874803430</td>\n    </tr>\n    <tr>\n      <th>222</th>\n      <td>Does MacKenzie Scott Still Own Any Amazon AMZN...</td>\n      <td>0.0429633415380288</td>\n      <td>0.0186223245523313</td>\n    </tr>\n    <tr>\n      <th>223</th>\n      <td>US In Stock Asus TUF RX XT Gaming ATC Link As ...</td>\n      <td>0.7661248549908103</td>\n      <td>-0.0127836494976651</td>\n    </tr>\n    <tr>\n      <th>224</th>\n      <td>US In Stock XFX Speedster QICK Radeon RX XT AT...</td>\n      <td>0.8086738701278114</td>\n      <td>-0.0202120579211021</td>\n    </tr>\n    <tr>\n      <th>225</th>\n      <td>Their gaming war PlayStation Xbox need PlaySta...</td>\n      <td>0.0391393267456083</td>\n      <td>0.0225137410414775</td>\n    </tr>\n  </tbody>\n</table>\n<p>226 rows × 3 columns</p>\n</div>"
     },
     "metadata": {},
     "output_type": "display_data"
    }
   ],
   "source": [
    "# Documents - Topic vector\n",
    "pd.options.display.float_format = '{:,.16f}'.format\n",
    "topic_encoded_df = pd.DataFrame(lsa, columns = [\"topic_1\", \"topic_2\"])\n",
    "topic_encoded_df[\"tweets\"] = df['clean_tweets']\n",
    "display(topic_encoded_df[[\"tweets\", \"topic_1\", \"topic_2\"]])"
   ],
   "metadata": {
    "collapsed": false,
    "pycharm": {
     "name": "#%%\n"
    }
   }
  },
  {
   "cell_type": "code",
   "execution_count": 28,
   "outputs": [
    {
     "data": {
      "text/plain": "array(['ac', 'accelerate', 'accepted', ..., 'zendesk', 'zenfam', 'zoom'],\n      dtype=object)"
     },
     "execution_count": 28,
     "metadata": {},
     "output_type": "execute_result"
    }
   ],
   "source": [
    "# Features or words used as features\n",
    "dictionary = vectorizer.get_feature_names_out()\n",
    "dictionary"
   ],
   "metadata": {
    "collapsed": false,
    "pycharm": {
     "name": "#%%\n"
    }
   }
  },
  {
   "cell_type": "code",
   "execution_count": 29,
   "outputs": [],
   "source": [
    "# Term-Topic matrix\n",
    "encoding_matrix = pd.DataFrame(svd_model.components_, index = [\"topic_1\",\"topic_2\"], columns =dictionary).T"
   ],
   "metadata": {
    "collapsed": false,
    "pycharm": {
     "name": "#%%\n"
    }
   }
  }
 ],
 "metadata": {
  "kernelspec": {
   "display_name": "Python 3",
   "language": "python",
   "name": "python3"
  },
  "language_info": {
   "codemirror_mode": {
    "name": "ipython",
    "version": 2
   },
   "file_extension": ".py",
   "mimetype": "text/x-python",
   "name": "python",
   "nbconvert_exporter": "python",
   "pygments_lexer": "ipython2",
   "version": "2.7.6"
  }
 },
 "nbformat": 4,
 "nbformat_minor": 0
}