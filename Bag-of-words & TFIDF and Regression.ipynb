{
 "cells": [
  {
   "cell_type": "markdown",
   "metadata": {
    "collapsed": true,
    "pycharm": {
     "name": "#%% md\n"
    }
   },
   "source": [
    "## Import module"
   ]
  },
  {
   "cell_type": "code",
   "execution_count": 170,
   "outputs": [],
   "source": [
    "from textblob import TextBlob\n",
    "import math\n",
    "from collections import Counter, defaultdict\n",
    "import tweepy as tw\n",
    "import json\n",
    "import pandas as pd\n",
    "import re\n",
    "import numpy as np\n",
    "import matplotlib.pyplot as plt\n",
    "import seaborn as sns\n",
    "from bs4 import BeautifulSoup\n",
    "%matplotlib inline\n",
    "import nltk\n",
    "from nltk.corpus import stopwords\n",
    "from nltk.stem import WordNetLemmatizer"
   ],
   "metadata": {
    "collapsed": false,
    "pycharm": {
     "name": "#%%\n"
    }
   }
  },
  {
   "cell_type": "markdown",
   "source": [
    "## Set up token API"
   ],
   "metadata": {
    "collapsed": false,
    "pycharm": {
     "name": "#%% md\n"
    }
   }
  },
  {
   "cell_type": "code",
   "execution_count": 171,
   "outputs": [],
   "source": [
    "api_key = \"HAcIeikl6eRheQP1oKYGDwPx0\"\n",
    "api_secret = \"gEWmqG7QVXzudnviUXDo98L2UKGYg9PNqy1bAR1geClkHjqBGk\"\n",
    "access_token = \"1481095074465579008-1pApYlU4HRJWpbAXcbdVEVGzdACuEz\"\n",
    "access_token_secret = \"htgD81H4mOxXw5MglAljFRHhcfGAuwsNomXVqvGw0Obwe\"\n",
    "auth = tw.OAuthHandler(api_key, api_secret)\n",
    "auth.set_access_token(access_token, access_token_secret)\n",
    "api = tw.API(auth,wait_on_rate_limit=True)"
   ],
   "metadata": {
    "collapsed": false,
    "pycharm": {
     "name": "#%%\n"
    }
   }
  },
  {
   "cell_type": "markdown",
   "source": [
    "## Crawl data"
   ],
   "metadata": {
    "collapsed": false,
    "pycharm": {
     "name": "#%% md\n"
    }
   }
  },
  {
   "cell_type": "code",
   "execution_count": 172,
   "outputs": [
    {
     "name": "stdout",
     "output_type": "stream",
     "text": [
      "Amazon News\n",
      "Amazon Stock\n"
     ]
    }
   ],
   "source": [
    "number_of_tweets = 500\n",
    "tweets = []\n",
    "user_id =[]\n",
    "created_at = []\n",
    "keyword_list = ['News', 'Stock'] # , 'Customers', 'Employees', 'Company', 'Price', 'Shareholders', 'Market', 'Soaring', 'Trends'\n",
    "company = 'Amazon'\n",
    "final_kw_list = []\n",
    "\n",
    "# Crawl data from keywords\n",
    "for i in range (len(keyword_list)):\n",
    "    kw = str(company + ' ' + keyword_list[i])\n",
    "    print(kw)\n",
    "    final_kw_list.append(kw)\n",
    "    for i in tw.Cursor(api.search, q = kw , lang =\"en\", since = \"2022-01-14\",tweet_mode = \"extended\").items(number_of_tweets):\n",
    "        tweets.append(i.full_text)\n",
    "        user_id.append(i.user.id)\n",
    "        created_at.append(i.created_at)"
   ],
   "metadata": {
    "collapsed": false,
    "pycharm": {
     "name": "#%%\n"
    }
   }
  },
  {
   "cell_type": "markdown",
   "source": [
    "## Dataframe"
   ],
   "metadata": {
    "collapsed": false,
    "pycharm": {
     "name": "#%% md\n"
    }
   }
  },
  {
   "cell_type": "code",
   "execution_count": 173,
   "outputs": [
    {
     "data": {
      "text/plain": "             Created_at              User_id  \\\n0   2022-02-07 05:58:59           2719361006   \n1   2022-02-07 05:58:46   736260524497731584   \n2   2022-02-07 05:58:34            163126776   \n3   2022-02-07 05:56:05   775957042842316800   \n4   2022-02-07 05:55:21   842726388469841921   \n..                  ...                  ...   \n995 2022-02-06 22:37:09  1377519267143376898   \n996 2022-02-06 22:36:30  1434924963933327368   \n997 2022-02-06 22:34:23             41010890   \n998 2022-02-06 22:33:54           4122514821   \n999 2022-02-06 22:33:38  1377519267143376898   \n\n                                                Tweets  \n0    @amazon seeks money to reopen Evaly’s server!\\...  \n1    Amazon and Nike exploring Peloton takeover, re...  \n2    Amazon and Nike exploring Peloton takeover, re...  \n3    RT @aharonbernal: Perfect Timing ! Amazon Rais...  \n4    Amazon and Nike exploring Peloton takeover, re...  \n..                                                 ...  \n995  Xbox Series S is now in stock. \\nProduct Page:...  \n996  RT @edstromandrew: I still keep hearing critic...  \n997  RT @tanayj: Amazon and Nike are reportedly con...  \n998  RT @alex_avoigt: If you want to predict the fu...  \n999  PowerColor Red Devil AMD Radeon™ RX 6900 XT Ga...  \n\n[1000 rows x 3 columns]",
      "text/html": "<div>\n<style scoped>\n    .dataframe tbody tr th:only-of-type {\n        vertical-align: middle;\n    }\n\n    .dataframe tbody tr th {\n        vertical-align: top;\n    }\n\n    .dataframe thead th {\n        text-align: right;\n    }\n</style>\n<table border=\"1\" class=\"dataframe\">\n  <thead>\n    <tr style=\"text-align: right;\">\n      <th></th>\n      <th>Created_at</th>\n      <th>User_id</th>\n      <th>Tweets</th>\n    </tr>\n  </thead>\n  <tbody>\n    <tr>\n      <th>0</th>\n      <td>2022-02-07 05:58:59</td>\n      <td>2719361006</td>\n      <td>@amazon seeks money to reopen Evaly’s server!\\...</td>\n    </tr>\n    <tr>\n      <th>1</th>\n      <td>2022-02-07 05:58:46</td>\n      <td>736260524497731584</td>\n      <td>Amazon and Nike exploring Peloton takeover, re...</td>\n    </tr>\n    <tr>\n      <th>2</th>\n      <td>2022-02-07 05:58:34</td>\n      <td>163126776</td>\n      <td>Amazon and Nike exploring Peloton takeover, re...</td>\n    </tr>\n    <tr>\n      <th>3</th>\n      <td>2022-02-07 05:56:05</td>\n      <td>775957042842316800</td>\n      <td>RT @aharonbernal: Perfect Timing ! Amazon Rais...</td>\n    </tr>\n    <tr>\n      <th>4</th>\n      <td>2022-02-07 05:55:21</td>\n      <td>842726388469841921</td>\n      <td>Amazon and Nike exploring Peloton takeover, re...</td>\n    </tr>\n    <tr>\n      <th>...</th>\n      <td>...</td>\n      <td>...</td>\n      <td>...</td>\n    </tr>\n    <tr>\n      <th>995</th>\n      <td>2022-02-06 22:37:09</td>\n      <td>1377519267143376898</td>\n      <td>Xbox Series S is now in stock. \\nProduct Page:...</td>\n    </tr>\n    <tr>\n      <th>996</th>\n      <td>2022-02-06 22:36:30</td>\n      <td>1434924963933327368</td>\n      <td>RT @edstromandrew: I still keep hearing critic...</td>\n    </tr>\n    <tr>\n      <th>997</th>\n      <td>2022-02-06 22:34:23</td>\n      <td>41010890</td>\n      <td>RT @tanayj: Amazon and Nike are reportedly con...</td>\n    </tr>\n    <tr>\n      <th>998</th>\n      <td>2022-02-06 22:33:54</td>\n      <td>4122514821</td>\n      <td>RT @alex_avoigt: If you want to predict the fu...</td>\n    </tr>\n    <tr>\n      <th>999</th>\n      <td>2022-02-06 22:33:38</td>\n      <td>1377519267143376898</td>\n      <td>PowerColor Red Devil AMD Radeon™ RX 6900 XT Ga...</td>\n    </tr>\n  </tbody>\n</table>\n<p>1000 rows × 3 columns</p>\n</div>"
     },
     "execution_count": 173,
     "metadata": {},
     "output_type": "execute_result"
    }
   ],
   "source": [
    "df = pd.DataFrame({\"Created_at\": created_at,\"User_id\": user_id,\"Tweets\":tweets})\n",
    "df"
   ],
   "metadata": {
    "collapsed": false,
    "pycharm": {
     "name": "#%%\n"
    }
   }
  },
  {
   "cell_type": "markdown",
   "source": [
    "## Clean data"
   ],
   "metadata": {
    "collapsed": false,
    "pycharm": {
     "name": "#%% md\n"
    }
   }
  },
  {
   "cell_type": "code",
   "execution_count": 174,
   "outputs": [],
   "source": [
    "df = df[~df.Tweets.str.contains(\"RT\")]\n",
    "df = df.reset_index(drop = True)"
   ],
   "metadata": {
    "collapsed": false,
    "pycharm": {
     "name": "#%%\n"
    }
   }
  },
  {
   "cell_type": "code",
   "execution_count": 175,
   "outputs": [],
   "source": [
    "def clean_up_tweet(text):\n",
    "    text = re.sub(r'@[A-Za-z0-9_]+','',text) # Remove mentions @\n",
    "    text = re.sub(r'#', '', text) # Remove hastag symbol\n",
    "    text = re.sub(r'https?:\\/\\/[A-Za-z0-9\\.\\/]+', '', text) # Remove hyper link\n",
    "    text = re.sub('[^A-Za-z0-9]+', ' ', text) # Remove special characters\n",
    "    text = re.sub(r'[0-9]+', '', text)\n",
    "    #Remove stop words\n",
    "    res = ''\n",
    "    for word in text.split():\n",
    "        if word not in stopwords.words('english'):\n",
    "            res += WordNetLemmatizer().lemmatize(word) + ' '\n",
    "\n",
    "    return res"
   ],
   "metadata": {
    "collapsed": false,
    "pycharm": {
     "name": "#%%\n"
    }
   }
  },
  {
   "cell_type": "code",
   "execution_count": 176,
   "outputs": [],
   "source": [
    "import string\n",
    "from nltk import TweetTokenizer, PorterStemmer\n",
    "\n",
    "\n",
    "#Preprocessing tweets\n",
    "def process_tweet(tweet):\n",
    "\n",
    "    # instantiate tokenizer class\n",
    "    tokenizer = TweetTokenizer(preserve_case=False, strip_handles=True, reduce_len=True)\n",
    "\n",
    "    # tokenize tweets\n",
    "    tweet_tokens = tokenizer.tokenize(tweet)\n",
    "\n",
    "    #Import the english stop words list from NLTK\n",
    "    stopwords_english = stopwords.words('english')\n",
    "\n",
    "    #Creating a list of words without stopwords\n",
    "    tweets_clean = []\n",
    "    for word in tweet_tokens:\n",
    "        if word not in stopwords_english and word not in string.punctuation:\n",
    "            tweets_clean.append(word)\n",
    "\n",
    "    # Instantiate stemming class\n",
    "    stemmer = PorterStemmer()\n",
    "\n",
    "    # Creating a list of stems of words in tweet\n",
    "    tweets_stem = []\n",
    "    for word in tweets_clean:\n",
    "        stem_word = stemmer.stem(word)\n",
    "        tweets_stem.append(stem_word)\n",
    "\n",
    "    return tweets_clean"
   ],
   "metadata": {
    "collapsed": false,
    "pycharm": {
     "name": "#%%\n"
    }
   }
  },
  {
   "cell_type": "code",
   "execution_count": 177,
   "outputs": [
    {
     "data": {
      "text/plain": "             Created_at              User_id  \\\n0   2022-02-07 05:58:46   736260524497731584   \n1   2022-02-07 05:55:21   842726388469841921   \n2   2022-02-07 05:53:37  1223569742364938240   \n3   2022-02-07 05:53:31           2732529079   \n4   2022-02-07 05:50:27           1132665656   \n..                  ...                  ...   \n319 2022-02-06 22:53:02           2201811212   \n320 2022-02-06 22:52:42  1385286231811051520   \n321 2022-02-06 22:49:54            807507991   \n322 2022-02-06 22:46:26   954134199463706624   \n323 2022-02-06 22:44:04  1391255995356119042   \n\n                                                Tweets  \\\n0    Amazon Nike exploring Peloton takeover report ...   \n1    Amazon Nike exploring Peloton takeover report ...   \n2    Check deal Apple iPhone mini iPhone available ...   \n3    Jeff Bezos net worth surged billion billion je...   \n4    This news put express consent Amazon associate...   \n..                                                 ...   \n319  Profit By Planning Your Trades A Beginner Guid...   \n320  pc gt gt gt FROM PRICE DROP amp AUTO DISC LOW ...   \n321  Im pretty sure Amazon must stock one although ...   \n322  Walked store Austin selling Amazon realized st...   \n323  I downloaded information I thank enough sharin...   \n\n                                             Word_list  Compound Sentiment  \n0    [amazon, nike, exploring, peloton, takeover, r...    0.1779         1  \n1    [amazon, nike, exploring, peloton, takeover, r...    0.5423         1  \n2    [check, deal, apple, iphone, mini, iphone, ava...    0.1779         1  \n3    [jeff, bezos, net, worth, surged, billion, bil...    0.3818         1  \n4    [news, put, express, consent, amazon, associat...    0.6249         1  \n..                                                 ...       ...       ...  \n319  [profit, planning, trades, beginner, guide, tr...    0.4588         1  \n320  [pc, gt, gt, gt, price, drop, amp, auto, disc,...   -0.0941         0  \n321  [im, pretty, sure, amazon, must, stock, one, a...    0.7351         1  \n322  [walked, store, austin, selling, amazon, reali...    0.3400         1  \n323  [downloaded, information, thank, enough, shari...    0.7458         1  \n\n[324 rows x 6 columns]",
      "text/html": "<div>\n<style scoped>\n    .dataframe tbody tr th:only-of-type {\n        vertical-align: middle;\n    }\n\n    .dataframe tbody tr th {\n        vertical-align: top;\n    }\n\n    .dataframe thead th {\n        text-align: right;\n    }\n</style>\n<table border=\"1\" class=\"dataframe\">\n  <thead>\n    <tr style=\"text-align: right;\">\n      <th></th>\n      <th>Created_at</th>\n      <th>User_id</th>\n      <th>Tweets</th>\n      <th>Word_list</th>\n      <th>Compound</th>\n      <th>Sentiment</th>\n    </tr>\n  </thead>\n  <tbody>\n    <tr>\n      <th>0</th>\n      <td>2022-02-07 05:58:46</td>\n      <td>736260524497731584</td>\n      <td>Amazon Nike exploring Peloton takeover report ...</td>\n      <td>[amazon, nike, exploring, peloton, takeover, r...</td>\n      <td>0.1779</td>\n      <td>1</td>\n    </tr>\n    <tr>\n      <th>1</th>\n      <td>2022-02-07 05:55:21</td>\n      <td>842726388469841921</td>\n      <td>Amazon Nike exploring Peloton takeover report ...</td>\n      <td>[amazon, nike, exploring, peloton, takeover, r...</td>\n      <td>0.5423</td>\n      <td>1</td>\n    </tr>\n    <tr>\n      <th>2</th>\n      <td>2022-02-07 05:53:37</td>\n      <td>1223569742364938240</td>\n      <td>Check deal Apple iPhone mini iPhone available ...</td>\n      <td>[check, deal, apple, iphone, mini, iphone, ava...</td>\n      <td>0.1779</td>\n      <td>1</td>\n    </tr>\n    <tr>\n      <th>3</th>\n      <td>2022-02-07 05:53:31</td>\n      <td>2732529079</td>\n      <td>Jeff Bezos net worth surged billion billion je...</td>\n      <td>[jeff, bezos, net, worth, surged, billion, bil...</td>\n      <td>0.3818</td>\n      <td>1</td>\n    </tr>\n    <tr>\n      <th>4</th>\n      <td>2022-02-07 05:50:27</td>\n      <td>1132665656</td>\n      <td>This news put express consent Amazon associate...</td>\n      <td>[news, put, express, consent, amazon, associat...</td>\n      <td>0.6249</td>\n      <td>1</td>\n    </tr>\n    <tr>\n      <th>...</th>\n      <td>...</td>\n      <td>...</td>\n      <td>...</td>\n      <td>...</td>\n      <td>...</td>\n      <td>...</td>\n    </tr>\n    <tr>\n      <th>319</th>\n      <td>2022-02-06 22:53:02</td>\n      <td>2201811212</td>\n      <td>Profit By Planning Your Trades A Beginner Guid...</td>\n      <td>[profit, planning, trades, beginner, guide, tr...</td>\n      <td>0.4588</td>\n      <td>1</td>\n    </tr>\n    <tr>\n      <th>320</th>\n      <td>2022-02-06 22:52:42</td>\n      <td>1385286231811051520</td>\n      <td>pc gt gt gt FROM PRICE DROP amp AUTO DISC LOW ...</td>\n      <td>[pc, gt, gt, gt, price, drop, amp, auto, disc,...</td>\n      <td>-0.0941</td>\n      <td>0</td>\n    </tr>\n    <tr>\n      <th>321</th>\n      <td>2022-02-06 22:49:54</td>\n      <td>807507991</td>\n      <td>Im pretty sure Amazon must stock one although ...</td>\n      <td>[im, pretty, sure, amazon, must, stock, one, a...</td>\n      <td>0.7351</td>\n      <td>1</td>\n    </tr>\n    <tr>\n      <th>322</th>\n      <td>2022-02-06 22:46:26</td>\n      <td>954134199463706624</td>\n      <td>Walked store Austin selling Amazon realized st...</td>\n      <td>[walked, store, austin, selling, amazon, reali...</td>\n      <td>0.3400</td>\n      <td>1</td>\n    </tr>\n    <tr>\n      <th>323</th>\n      <td>2022-02-06 22:44:04</td>\n      <td>1391255995356119042</td>\n      <td>I downloaded information I thank enough sharin...</td>\n      <td>[downloaded, information, thank, enough, shari...</td>\n      <td>0.7458</td>\n      <td>1</td>\n    </tr>\n  </tbody>\n</table>\n<p>324 rows × 6 columns</p>\n</div>"
     },
     "execution_count": 177,
     "metadata": {},
     "output_type": "execute_result"
    }
   ],
   "source": [
    "from nltk.sentiment import SentimentIntensityAnalyzer\n",
    "\n",
    "df['Tweets'] = df['Tweets'].apply(clean_up_tweet)\n",
    "df = df.drop_duplicates(subset='Tweets')\n",
    "df = df.reset_index(drop=True)\n",
    "df['Word_list'] = df['Tweets'].apply(process_tweet)\n",
    "\n",
    "sentiments = SentimentIntensityAnalyzer()\n",
    "df['Compound'] = [sentiments.polarity_scores(i)[\"compound\"] for i in df[\"Tweets\"]]\n",
    "score = df[\"Compound\"].values\n",
    "sentiment = []\n",
    "for i in score:\n",
    "    if i >= 0.05 :\n",
    "        sentiment.append(1)\n",
    "    elif i <= -0.05 :\n",
    "        sentiment.append(0)\n",
    "    else:\n",
    "        sentiment.append('Neutral')\n",
    "df[\"Sentiment\"] = sentiment\n",
    "df.drop(df.loc[df['Sentiment']=='Neutral'].index, inplace=True)\n",
    "df = df.reset_index(drop=True)\n",
    "df"
   ],
   "metadata": {
    "collapsed": false,
    "pycharm": {
     "name": "#%%\n"
    }
   }
  },
  {
   "cell_type": "markdown",
   "source": [
    "## Building Frequency dictionary"
   ],
   "metadata": {
    "collapsed": false,
    "pycharm": {
     "name": "#%% md\n"
    }
   }
  },
  {
   "cell_type": "code",
   "execution_count": 178,
   "outputs": [],
   "source": [
    "#Frequency generating function\n",
    "def build_frequency(tweets, ys):\n",
    "    yslist = np.squeeze(ys).tolist()\n",
    "    freqs = {}\n",
    "    for y, tweet in zip(yslist, tweets):\n",
    "        for word in process_tweet(tweet):\n",
    "            pair = (word, y)\n",
    "            freqs[pair] = freqs.get(pair, 0) + 1\n",
    "\n",
    "    return freqs"
   ],
   "metadata": {
    "collapsed": false,
    "pycharm": {
     "name": "#%%\n"
    }
   }
  },
  {
   "cell_type": "code",
   "execution_count": 179,
   "outputs": [
    {
     "data": {
      "text/plain": "{('amazon', 1): 226,\n ('nike', 1): 18,\n ('exploring', 1): 9,\n ('peloton', 1): 24,\n ('takeover', 1): 7,\n ('report', 1): 14,\n ('say', 1): 15,\n ('exercise', 1): 4,\n ('equipment', 1): 4,\n ('maker', 1): 3,\n ('share', 1): 8,\n ('slumped', 1): 3,\n ('recent', 1): 3,\n ('month', 1): 6,\n ('faced', 1): 3,\n ('number', 1): 3,\n ('challenge', 1): 3,\n ('cheshire', 1): 1,\n ('manchester', 1): 1,\n ('check', 1): 37,\n ('deal', 1): 5,\n ('apple', 1): 5,\n ('iphone', 1): 2,\n ('mini', 1): 1,\n ('available', 1): 2,\n ('bgr', 1): 1,\n ('india', 1): 4,\n ('jeff', 1): 3,\n ('bezos', 1): 5,\n ('net', 1): 2,\n ('worth', 1): 3,\n ('surged', 1): 1,\n ('billion', 1): 6,\n ('jeffbezos', 1): 1,\n ('news', 1): 124,\n ('tech', 1): 6,\n ('put', 1): 6,\n ('express', 1): 1,\n ('consent', 1): 1,\n ('associate', 1): 19,\n ('self', 1): 1,\n ('sinking', 1): 1,\n ('brand', 1): 1,\n ('like', 1): 12,\n ('pelaton', 1): 1,\n ('sign', 1): 2,\n ('mou', 1): 2,\n ('karnataka', 1): 2,\n ('ksrlps', 1): 1,\n ('help', 1): 3,\n ('woman', 1): 3,\n ('entrepreneur', 1): 3,\n ('exciting', 1): 1,\n ('liv', 1): 1,\n ('going', 1): 6,\n ('continue', 1): 1,\n ('holding', 1): 2,\n ('baton', 1): 1,\n ('lt', 0): 12,\n ('ethereum', 0): 4,\n ('price', 0): 20,\n ('gt', 0): 15,\n ('eth', 0): 4,\n ('usdt', 0): 6,\n ('binance', 0): 14,\n ('check', 0): 10,\n ('headline', 0): 7,\n ('news', 0): 26,\n ('judge', 0): 3,\n ('presided', 0): 3,\n ('chauvin', 0): 3,\n ('trial', 0): 3,\n ('signed', 0): 3,\n ('knock', 0): 3,\n ('warrant', 0): 3,\n ('amir', 0): 3,\n ('locke', 0): 3,\n ('death', 0): 6,\n ('business', 0): 4,\n ('insider', 0): 3,\n ('zendaya', 0): 2,\n ('roco', 0): 2,\n ('airtel', 0): 1,\n ('making', 0): 3,\n ('compulsory', 0): 1,\n ('purchase', 0): 7,\n ('amazon', 0): 46,\n ('subscription', 0): 1,\n ('recharge', 0): 2,\n ('hence', 0): 1,\n ('increased', 0): 1,\n ('rate', 0): 1,\n ('wrong', 0): 2,\n ('practise', 0): 1,\n ('technology', 1): 3,\n ('ripple', 0): 4,\n ('xrp', 0): 6,\n ('coin', 0): 2,\n ('bnb', 0): 4,\n ('binancepay', 0): 2,\n ('lucas', 0): 1,\n ('roc', 0): 1,\n ('ps', 1): 4,\n ('restock', 1): 4,\n ('expect', 1): 2,\n ('console', 1): 2,\n ('appear', 1): 3,\n ('best', 1): 7,\n ('buy', 1): 14,\n ('walmart', 1): 6,\n ('gamestop', 1): 2,\n ('xbox', 1): 5,\n ('series', 1): 4,\n ('x', 1): 7,\n ('update', 1): 2,\n ('retailer', 1): 3,\n ('including', 1): 7,\n ('target', 1): 6,\n ('tech', 0): 3,\n ('shocking', 0): 2,\n ('woman', 0): 1,\n ('order', 0): 5,\n ('iphone', 0): 4,\n ('pro', 0): 1,\n ('max', 0): 1,\n ('get', 0): 5,\n ('hand', 0): 1,\n ('soap', 0): 1,\n ('bottle', 0): 1,\n ('instead', 0): 1,\n ('ht', 0): 1,\n ('apple', 0): 5,\n ('drop', 0): 4,\n ('announced', 0): 3,\n ('flipkart', 0): 3,\n ('ecommerce', 0): 2,\n ('website', 0): 2,\n ('also', 0): 4,\n ('offering', 0): 2,\n ('deal', 0): 3,\n ('detail', 0): 2,\n ('far', 1): 5,\n ('ahead', 1): 3,\n ('supermarket', 1): 2,\n ('among', 1): 5,\n ('online', 1): 4,\n ('shopper', 1): 2,\n ('survey', 1): 2,\n ('find', 1): 6,\n ('via', 1): 12,\n ('retail', 1): 8,\n ('ecommerce', 1): 1,\n ('bbc', 1): 5,\n ('offer', 1): 3,\n ('also', 1): 4,\n ('weighing', 1): 2,\n ('bid', 1): 3,\n ('reports', 1): 2,\n ('lt', 1): 70,\n ('ethereum', 1): 23,\n ('price', 1): 83,\n ('gt', 1): 81,\n ('eth', 1): 24,\n ('usdt', 1): 35,\n ('binance', 1): 79,\n ('headline', 1): 35,\n ('cedi', 1): 2,\n ('osman', 1): 2,\n ('kevin', 1): 2,\n ('love', 1): 11,\n ('team', 1): 5,\n ('lead', 1): 4,\n ('cavaliers', 1): 9,\n ('biggest', 1): 3,\n ('comeback', 1): 2,\n ('win', 1): 11,\n ('year', 1): 11,\n ('pacers', 1): 9,\n ('bi', 1): 1,\n ('turn', 1): 1,\n ('rural', 1): 1,\n ('binaryic', 1): 1,\n ('marketplace', 1): 1,\n ('coin', 1): 14,\n ('bnb', 1): 24,\n ('fb', 0): 2,\n ('venue', 0): 1,\n ('share', 0): 1,\n ('family', 0): 1,\n ('spotify', 0): 2,\n ('rogan', 0): 1,\n ('prejudicial', 0): 1,\n ('hol', 0): 1,\n ('music', 0): 1,\n ('podcasts', 0): 1,\n ('watch', 1): 3,\n ('whitestone', 1): 1,\n ('dome', 1): 5,\n ('display', 1): 1,\n ('protector', 1): 3,\n ('return', 1): 4,\n ('pixel', 1): 3,\n ('pro', 1): 3,\n ('big', 1): 4,\n ('sale', 1): 8,\n ('glass', 1): 6,\n ('whitestonedome', 1): 1,\n ('really', 0): 1,\n ('buy', 0): 1,\n ('peloton', 0): 4,\n ('one', 0): 2,\n ('analyst', 0): 1,\n ('explains', 0): 1,\n ('barron', 0): 1,\n ('ceo', 1): 1,\n ('confirmed', 1): 2,\n ('th', 1): 1,\n ('february', 1): 6,\n ('buydogecoin', 1): 1,\n ('crypto', 1): 7,\n ('cryptonews', 1): 1,\n ('cryptocurrency', 1): 2,\n ('currency', 1): 1,\n ('doge', 1): 4,\n ('dogecoin', 1): 3,\n ('dogecoinelonmusk', 1): 1,\n ('dogecoinexplained', 1): 1,\n ('dogecoinexplosion', 1): 1,\n ('dogecoinlive', 1): 1,\n ('dogecoinnews', 1): 1,\n ('dogecoinnewstoday', 1): 1,\n ('andy', 1): 1,\n ('vermaut', 1): 1,\n ('climate', 1): 6,\n ('change', 1): 6,\n ('top', 1): 11,\n ('company', 1): 16,\n ('exaggerating', 1): 5,\n ('progress', 1): 5,\n ('study', 1): 5,\n ('companies', 1): 4,\n ('google', 1): 13,\n ('ikea', 1): 2,\n ('meeting', 1): 2,\n ('green', 1): 2,\n ('thank', 1): 2,\n ('wheel', 1): 1,\n ('time', 1): 7,\n ('picked', 1): 1,\n ('season', 1): 2,\n ('possibly', 1): 1,\n ('fantastic', 1): 2,\n ('really', 1): 4,\n ('enjoyed', 1): 1,\n ('st', 1): 1,\n ('book', 1): 20,\n ('think', 1): 6,\n ('potential', 1): 8,\n ('great', 1): 4,\n ('show', 1): 3,\n ('given', 1): 1,\n ('proper', 1): 1,\n ('grow', 1): 1,\n ('breaking', 1): 3,\n ('ordered', 1): 1,\n ('pack', 1): 2,\n ('white', 1): 1,\n ('sock', 1): 1,\n ('draws', 1): 1,\n ('interest', 1): 4,\n ('buyers', 1): 2,\n ('ottawa', 1): 4,\n ('trucker', 1): 3,\n ('convoy', 1): 3,\n ('galvanizes', 1): 3,\n ('right', 1): 9,\n ('worldwide', 1): 3,\n ('politico', 1): 3,\n ('euphoria', 1): 5,\n ('mary', 1): 4,\n ('mattthomas', 1): 4,\n ('buschlightclash', 1): 3,\n ('lu', 1): 1,\n ('ripple', 1): 20,\n ('xrp', 1): 30,\n ('cassie', 1): 2,\n ('luka', 1): 1,\n ('binancepay', 1): 11,\n ('zendaya', 1): 5,\n ('perfect', 1): 2,\n ('timing', 1): 1,\n ('raises', 1): 1,\n ('prime', 1): 20,\n ('membership', 1): 9,\n ('prices', 1): 2,\n ('users', 1): 1,\n ('across', 1): 1,\n ('united', 1): 3,\n ('states', 1): 2,\n ('properly', 1): 1,\n ('positioning', 1): 1,\n ('way', 1): 3,\n ('curve', 1): 1,\n ('want', 1): 10,\n ('free', 1): 8,\n ('mikaela', 1): 2,\n ('shiffrin', 1): 2,\n ('fall', 1): 1,\n ('giant', 1): 3,\n ('slalom', 1): 2,\n ('disqualified', 1): 1,\n ('event', 1): 4,\n ('bird', 1): 8,\n ('box', 1): 7,\n ('community', 1): 8,\n ('credit', 1): 8,\n ('karma', 1): 7,\n ('health', 1): 9,\n ('inssurance', 1): 7,\n ('quote', 1): 7,\n ('mesothelioma', 1): 7,\n ('survival', 1): 7,\n ('rate', 1): 7,\n ('netflix', 1): 11,\n ('nyt', 1): 7,\n ('today', 1): 10,\n ('usa', 1): 14,\n ('last', 1): 12,\n ('todaytrump', 1): 6,\n ('lates', 1): 1,\n ('ranks', 1): 1,\n ('fortune', 1): 1,\n ('world', 1): 4,\n ('admired', 1): 1,\n ('truthbillboards', 0): 1,\n ('amp', 0): 4,\n ('legalnamefraud', 0): 1,\n ('complicit', 0): 1,\n ('illegal', 0): 2,\n ('use', 0): 1,\n ('legal', 0): 2,\n ('name', 0): 1,\n ('kogdotnet', 0): 1,\n ('bccrss', 0): 1,\n ('idsillegal', 0): 1,\n ('newsnight', 0): 1,\n ('much', 1): 7,\n ('amazing', 1): 3,\n ('raising', 1): 1,\n ('aircraft', 0): 1,\n ('fuel', 0): 1,\n ('help', 0): 2,\n ('drive', 0): 2,\n ('mining', 0): 1,\n ('yahoo', 0): 2,\n ('latest', 0): 2,\n ('headlines', 0): 1,\n ('westcoast', 0): 1,\n ('several', 0): 2,\n ('offer', 0): 2,\n ('pet', 1): 1,\n ('tpu', 1): 1,\n ('tempered', 1): 2,\n ('choose', 1): 2,\n ('screen', 1): 2,\n ('first', 1): 6,\n ('e', 1): 3,\n ('jig', 1): 1,\n ('galaxy', 1): 2,\n ('ultra', 1): 2,\n ('earthquake', 1): 7,\n ('bucks', 1): 2,\n ('normanpowel', 1): 1,\n ('normanp', 1): 1,\n ('source', 1): 1,\n ('amazoncom', 1): 1,\n ('pandemic', 1): 3,\n ('fitness', 1): 1,\n ('reportedly', 1): 2,\n ('thinking', 1): 1,\n ('buying', 1): 1,\n ('google', 0): 3,\n ('ikea', 0): 1,\n ('among', 0): 1,\n ('company', 0): 6,\n ('failing', 0): 3,\n ('change', 0): 2,\n ('quickly', 0): 1,\n ('enough', 0): 2,\n ('climatecrisis', 0): 1,\n ('gonna', 0): 1,\n ('talk', 0): 1,\n ('real', 0): 1,\n ('shit', 0): 1,\n ('right', 0): 2,\n ('every', 0): 1,\n ('source', 0): 2,\n ('longer', 0): 1,\n ('talking', 0): 3,\n ('thing', 0): 2,\n ('going', 0): 2,\n ('weather', 0): 1,\n ('things', 0): 1,\n ('go', 0): 4,\n ('trending', 0): 1,\n ('day', 0): 1,\n ('everyone', 0): 1,\n ('stop', 0): 2,\n ('still', 0): 1,\n ('fire', 0): 4,\n ('year', 0): 2,\n ('raised', 1): 3,\n ('bumped', 1): 1,\n ('annual', 1): 2,\n ('latest', 1): 3,\n ('hike', 1): 3,\n ('represents', 1): 2,\n ('increase', 1): 8,\n ('second', 1): 5,\n ('gen', 1): 1,\n ('echo', 1): 1,\n ('back', 1): 3,\n ('secret', 0): 1,\n ('trick', 0): 1,\n ('slash', 0): 1,\n ('echo', 0): 1,\n ('tv', 0): 1,\n ('stick', 0): 1,\n ('kindle', 0): 1,\n ('tablet', 0): 1,\n ('ereaders', 0): 1,\n ('daily', 0): 1,\n ('express', 0): 1,\n ('technology', 0): 2,\n ('computing', 0): 1,\n ('bu', 1): 1,\n ('forgot', 1): 1,\n ('mention', 1): 1,\n ('email', 1): 2,\n ('program', 1): 1,\n ('went', 1): 2,\n ('kaput', 1): 1,\n ('call', 1): 6,\n ('support', 1): 2,\n ('good', 1): 10,\n ('resistance', 1): 1,\n ('girl', 1): 1,\n ('uk', 1): 4,\n ('kindle', 1): 2,\n ('monthly', 1): 1,\n ('juliana', 1): 1,\n ('discovers', 1): 2,\n ('grandmamma', 1): 1,\n ('french', 1): 1,\n ('film', 1): 2,\n ('star', 1): 2,\n ('occupied', 1): 1,\n ('paris', 1): 1,\n ('amp', 1): 16,\n ('shocking', 1): 2,\n ('secret', 1): 1,\n ('alexa', 1): 4,\n ('skill', 1): 1,\n ('live', 1): 2,\n ('us', 1): 26,\n ('canada', 1): 3,\n ('australia', 1): 2,\n ('start', 1): 2,\n ('artefaktor', 1): 3,\n ('radio', 1): 4,\n ('open', 1): 4,\n ('play', 1): 1,\n ('grocer', 1): 1,\n ('swapped', 1): 1,\n ('trader', 1): 1,\n ('joe', 1): 1,\n ('silver', 1): 1,\n ('spring', 1): 1,\n ('development', 1): 1,\n ('lenders', 0): 1,\n ('plan', 0): 2,\n ('open', 0): 2,\n ('bidding', 0): 1,\n ('future', 0): 1,\n ('retail', 0): 3,\n ('ril', 0): 1,\n ('revival', 0): 1,\n ('fails', 0): 1,\n ('futureretail', 0): 1,\n ('frl', 0): 1,\n ('futureretailloan', 0): 1,\n ('kishorebiyani', 0): 1,\n ('reliance', 0): 1,\n ('rbi', 0): 1,\n ('considering', 1): 3,\n ('making', 1): 3,\n ('stock', 1): 91,\n ('pence', 1): 3,\n ('chief', 1): 3,\n ('staff', 1): 4,\n ('former', 1): 3,\n ('vp', 1): 3,\n ('rebuked', 1): 3,\n ('trump', 1): 4,\n ('merited', 1): 3,\n ('response', 1): 3,\n ('cnn', 1): 13,\n ('maddie', 1): 3,\n ('meredith', 1): 2,\n ('rallied', 1): 1,\n ('q', 1): 4,\n ('following', 1): 2,\n ('cloud', 1): 3,\n ('revenue', 1): 3,\n ('beat', 1): 8,\n ('huge', 1): 1,\n ('profit', 1): 5,\n ('rivian', 1): 2,\n ('stake', 1): 1,\n ('market', 1): 9,\n ('mere', 1): 1,\n ('letter', 0): 1,\n ('mps', 0): 1,\n ('continuing', 0): 1,\n ('sell', 0): 1,\n ('preservative', 0): 2,\n ('used', 0): 3,\n ('suicide', 0): 2,\n ('translated', 0): 1,\n ('using', 0): 1,\n ('microsoftflow', 0): 1,\n ('enter', 1): 1,\n ('gift', 1): 6,\n ('card', 1): 8,\n ('idrop', 1): 1,\n ('name', 1): 1,\n ('song', 1): 2,\n ('future', 1): 5,\n ('blockchain', 1): 1,\n ('station', 1): 1,\n ('get', 1): 11,\n ('offers', 1): 1,\n ('republic', 1): 1,\n ('day', 1): 11,\n ('weekly', 1): 2,\n ('fix', 1): 1,\n ('curated', 1): 3,\n ('keep', 1): 5,\n ('date', 1): 5,\n ('highlights', 1): 1,\n ('btc', 1): 2,\n ('k', 1): 2,\n ('new', 1): 14,\n ('malware', 1): 1,\n ('targeting', 1): 1,\n ('browser', 1): 1,\n ('wallet', 1): 2,\n ('click', 1): 4,\n ('full', 1): 2,\n ('newsletter', 1): 2,\n ('key', 1): 1,\n ('things', 1): 1,\n ('earnings', 1): 5,\n ('investors', 1): 1,\n ('know', 1): 5,\n ('however', 1): 1,\n ('due', 1): 1,\n ('pre', 1): 1,\n ('tax', 1): 3,\n ('g', 1): 2,\n ('shop', 1): 2,\n ('around', 1): 2,\n ('fi', 1): 1,\n ('sure', 1): 4,\n ('comes', 1): 3,\n ('strange', 1): 3,\n ('perk', 1): 3,\n ('saving', 1): 3,\n ('inc', 1): 3,\n ('plea', 0): 1,\n ('explicit', 0): 1,\n ('food', 0): 1,\n ('sold', 0): 2,\n ('online', 0): 1,\n ('retailer', 0): 1,\n ('e', 0): 2,\n ('commerce', 0): 2,\n ('site', 0): 2,\n ('poison', 0): 1,\n ('die', 0): 1,\n ('pl', 0): 1,\n ('submit', 1): 1,\n ('lucky', 1): 1,\n ('winner', 1): 1,\n ('kylie', 1): 4,\n ('jenner', 1): 3,\n ('travis', 1): 4,\n ('scott', 1): 3,\n ('welcome', 1): 5,\n ('child', 1): 4,\n ('sanleandro', 1): 5,\n ('sundayfunday', 1): 5,\n ('crazy', 0): 1,\n ('saw', 0): 1,\n ('ago', 0): 1,\n ('jesus', 0): 1,\n ('freaking', 0): 1,\n ('everywhere', 0): 1,\n ('especially', 0): 1,\n ('nigeria', 1): 1,\n ('tiger', 1): 1,\n ('global', 1): 1,\n ('greycroft', 1): 1,\n ('nigerian', 1): 1,\n ('investment', 1): 3,\n ('app', 1): 5,\n ('bamboo', 1): 1,\n ('u', 1): 5,\n ('million', 1): 3,\n ('round', 1): 1,\n ('fork', 1): 1,\n ('herbe', 1): 1,\n ('rise', 1): 2,\n ('shine', 1): 2,\n ('daily', 1): 3,\n ('dose', 1): 1,\n ('motivation', 1): 1,\n ('rolled', 1): 1,\n ('one', 1): 5,\n ('smart', 1): 1,\n ('join', 1): 3,\n ('startup', 1): 1,\n ('funding', 1): 1,\n ('tesla', 1): 4,\n ('shib', 1): 3,\n ('accept', 1): 1,\n ('shiba', 1): 2,\n ('inu', 1): 2,\n ('payment', 1): 1,\n ('themed', 1): 1,\n ('dog', 1): 2,\n ('appears', 1): 1,\n ('page', 1): 4,\n ('already', 1): 1,\n ('seeing', 1): 2,\n ('merit', 1): 1,\n ('mr', 1): 1,\n ('track', 1): 1,\n ('record', 1): 3,\n ('either', 1): 1,\n ('pump', 1): 1,\n ('city', 1): 1,\n ('artificial', 1): 1,\n ('intelligence', 1): 1,\n ('ai', 1): 2,\n ('supply', 1): 3,\n ('chain', 1): 2,\n ('logistics', 1): 1,\n ('increasing', 1): 1,\n ('demand', 1): 3,\n ('tren', 1): 1,\n ('ml', 1): 1,\n ('dl', 1): 1,\n ('nobody', 1): 1,\n ('banning', 1): 1,\n ('maus', 1): 1,\n ('fact', 1): 1,\n ('bought', 1): 3,\n ('copy', 1): 2,\n ('facebook', 1): 1,\n ('donated', 1): 1,\n ('ten', 1): 1,\n ('thousand', 1): 1,\n ('dollar', 1): 4,\n ('half', 1): 1,\n ('democrats', 1): 2,\n ('voiced', 1): 1,\n ('strong', 1): 3,\n ('reservation', 1): 1,\n ('major', 1): 1,\n ('antitrust', 1): 1,\n ('legislation', 1): 1,\n ('consideration', 1): 2,\n ('capitol', 1): 1,\n ('hill', 1): 1,\n ('trendsspy', 1): 1,\n ('canon', 1): 3,\n ('request', 1): 1,\n ('removal', 1): 2,\n ('toner', 1): 1,\n ('cartridge', 1): 1,\n ('offered', 1): 1,\n ('zhu', 1): 1,\n ('hai', 1): 1,\n ('chuang', 1): 1,\n ('yue', 1): 1,\n ('xin', 1): 1,\n ('ke', 1): 1,\n ('ji', 1): 1,\n ('xian', 1): 1,\n ('gong', 1): 1,\n ('si', 1): 1,\n ('activity', 1): 1,\n ('listing', 1): 5,\n ('germany', 1): 1,\n ('italy', 1): 1,\n ('spain', 1): 1,\n ('kingdom', 1): 1,\n ('france', 1): 1,\n ('netherlands', 1): 1,\n ('turkey', 1): 1,\n ('removed', 1): 1,\n ('mexico', 1): 1,\n ('america', 1): 1,\n ('file', 1): 2,\n ('infringement', 1): 1,\n ('controversial', 0): 1,\n ('colombian', 0): 1,\n ('defense', 0): 1,\n ('minister', 0): 2,\n ('blame', 0): 1,\n ('former', 0): 1,\n ('farc', 0): 1,\n ('member', 0): 1,\n ('forest', 0): 1,\n ('well', 0): 1,\n ('known', 0): 1,\n ('statement', 0): 1,\n ('upon', 0): 1,\n ('political', 0): 1,\n ('agenda', 0): 1,\n ('rather', 0): 1,\n ('measurable', 0): 1,\n ('fact', 0): 1,\n ('stand', 1): 1,\n ('zuleika', 1): 1,\n ('something', 1): 1,\n ('ava', 1): 1,\n ('business', 1): 5,\n ('man', 1): 5,\n ('approach', 1): 1,\n ('please', 1): 3,\n ('review', 1): 14,\n ('indie', 1): 1,\n ('rights', 1): 1,\n ('movies', 1): 4,\n ('supportindiefilm', 1): 1,\n ('onlocationla', 1): 1,\n ('koshernewsstand', 1): 1,\n ('received', 0): 2,\n ('hxxp', 0): 1,\n ('www', 0): 2,\n ('amamax', 0): 1,\n ('shop', 0): 2,\n ('phishing', 0): 2,\n ('hxxps', 0): 1,\n ('vfyylk', 0): 1,\n ('com', 0): 1,\n ('received', 1): 3,\n ('hxxps', 1): 1,\n ('www', 1): 1,\n ('phishing', 1): 1,\n ('take', 1): 5,\n ('look', 1): 3,\n ('spider', 1): 2,\n ('preview', 1): 20,\n ('marvel', 1): 5,\n ('marvelcomics', 1): 5,\n ('comic', 1): 11,\n ('comicbooks', 1): 11,\n ('mcu', 1): 5,\n ('art', 1): 11,\n ('info', 1): 11,\n ('ncbd', 1): 11,\n ('comicbooknews', 1): 11,\n ('spiderman', 1): 2,\n ('amazingspiderman', 1): 2,\n ('peterparker', 1): 2,\n ('asm', 1): 2,\n ('benreilly', 1): 2,\n ('spectacularspiderman', 1): 2,\n ('spidey', 1): 2,\n ('trade', 1): 8,\n ('grade', 1): 3,\n ('land', 1): 3,\n ('caris', 1): 7,\n ('levert', 1): 7,\n ('bolster', 1): 3,\n ('offense', 1): 3,\n ('postseason', 1): 3,\n ('push', 1): 4,\n ('cbs', 1): 3,\n ('sports', 1): 3,\n ('cavs', 1): 3,\n ('earthqu', 1): 1,\n ('stockx', 1): 2,\n ('dayfiance', 1): 1,\n ('meet', 1): 2,\n ('hi', 1): 2,\n ('transformers', 1): 2,\n ('generations', 1): 2,\n ('release', 1): 4,\n ('thanks', 1): 3,\n ('icecube', 1): 1,\n ('p', 1): 1,\n ('finish', 1): 1,\n ('greatest', 1): 2,\n ('week', 1): 9,\n ('yr', 1): 1,\n ('point', 1): 1,\n ('nasdaq', 1): 1,\n ('increased', 1): 1,\n ('friday', 1): 2,\n ('newsworldpress', 1): 1,\n ('hosted', 1): 1,\n ('hotel', 1): 1,\n ('miller', 1): 1,\n ('tickets', 1): 1,\n ('fundraiser', 1): 1,\n ('mccarthy', 1): 1,\n ('previous', 1): 1,\n ('single', 1): 1,\n ('bad', 1): 4,\n ('left', 1): 3,\n ('currently', 1): 2,\n ('reading', 1): 2,\n ('friend', 1): 2,\n ('house', 1): 1,\n ('itching', 1): 1,\n ('read', 1): 6,\n ('purchased', 1): 1,\n ('stories', 1): 1,\n ('incident', 1): 1,\n ('always', 1): 4,\n ('trend', 1): 1,\n ('leaning', 1): 1,\n ('demographic', 1): 1,\n ('toward', 1): 1,\n ('allowing', 1): 1,\n ('sometimes', 1): 2,\n ('even', 1): 8,\n ('influencing', 1): 1,\n ('gender', 1): 1,\n ('ability', 1): 1,\n ('make', 1): 2,\n ('choice', 1): 2,\n ('announced', 1): 2,\n ('june', 1): 1,\n ('press', 1): 2,\n ('let', 1): 2,\n ('assist', 1): 1,\n ('anything', 1): 2,\n ('else', 1): 3,\n ('jason', 1): 1,\n ('soar', 1): 1,\n ('fee', 1): 2,\n ('senegal', 1): 8,\n ('egypt', 1): 5,\n ('africa', 1): 5,\n ('cup', 1): 5,\n ('nations', 1): 5,\n ('trophy', 1): 5,\n ('afcon', 1): 2,\n ('great', 0): 1,\n ('new', 0): 2,\n ('book', 0): 6,\n ('co', 0): 1,\n ('authored', 0): 1,\n ('chapter', 0): 1,\n ('available', 0): 2,\n ('pre', 0): 1,\n ('years', 0): 1,\n ('war', 0): 1,\n ('peace', 0): 1,\n ('maya', 0): 1,\n ('lowlands', 0): 1,\n ('identity', 0): 1,\n ('politics', 0): 1,\n ('violence', 0): 1,\n ('routledge', 0): 1,\n ('archaeology', 0): 1,\n ('ancient', 0): 1,\n ('americas', 0): 1,\n ('herbert', 1): 5,\n ('four', 1): 2,\n ('diet', 1): 1,\n ('npr', 1): 1,\n ('rss', 1): 1,\n ('feed', 1): 2,\n ('feel', 1): 3,\n ('bit', 1): 1,\n ('happier', 1): 1,\n ('healthier', 1): 1,\n ('special', 1): 1,\n ('kelsi', 1): 1,\n ('sharing', 1): 2,\n ('via', 0): 4,\n ('starla', 0): 1,\n ('leaf', 0): 2,\n ('town', 0): 1,\n ('receiving', 0): 1,\n ('devastating', 0): 1,\n ('regarding', 0): 1,\n ('health', 0): 1,\n ('feel', 0): 1,\n ('highway', 0): 1,\n ('hell', 0): 6,\n ('guy', 0): 1,\n ('harley', 0): 2,\n ('show', 0): 2,\n ('quinn', 0): 1,\n ('animated', 0): 1,\n ('series', 0): 1,\n ('eat', 0): 1,\n ('bang', 0): 1,\n ('kill', 0): 1,\n ('tour', 0): 1,\n ('preview', 0): 2,\n ('harleyquinn', 0): 1,\n ('batman', 0): 1,\n ('gotham', 0): 1,\n ('dceu', 0): 1,\n ('dccomics', 0): 1,\n ('comic', 0): 1,\n ('comicbooks', 0): 1,\n ('dcu', 0): 1,\n ('dcuuniverse', 0): 1,\n ('art', 0): 1,\n ('info', 0): 1,\n ('ncbd', 0): 1,\n ('comicbooknews', 0): 1,\n ('theeatbangkilltour', 0): 1,\n ('miami', 1): 3,\n ('dolphins', 1): 3,\n ('hire', 1): 3,\n ('san', 1): 3,\n ('francisco', 1): 3,\n ('er', 1): 3,\n ('offensive', 1): 3,\n ('coordinator', 1): 3,\n ('mike', 1): 3,\n ('mcdaniel', 1): 3,\n ('head', 1): 3,\n ('coach', 1): 4,\n ('espn', 1): 7,\n ('se', 1): 1,\n ('virgins', 1): 1,\n ('billionaires', 1): 1,\n ('safe', 1): 1,\n ('eroticromance', 1): 1,\n ('kindleunlimited', 1): 2,\n ('cents', 1): 1,\n ('readers', 1): 1,\n ('books', 1): 1,\n ('lovers', 1): 1,\n ('baby', 1): 1,\n ('surge', 1): 2,\n ('performance', 1): 2,\n ('division', 1): 1,\n ('businesstech', 1): 1,\n ('exciting', 0): 1,\n ('two', 0): 2,\n ('work', 0): 1,\n ('soon', 0): 1,\n ('train', 0): 1,\n ('anguish', 0): 1,\n ('urbanfantasy', 0): 1,\n ('survival', 0): 1,\n ('waracademy', 0): 1,\n ('wolverines', 0): 1,\n ('suitors', 1): 1,\n ('explore', 1): 1,\n ('electronic', 1): 1,\n ('medic', 1): 1,\n ('public', 1): 1,\n ('supportive', 1): 1,\n ('policy', 1): 1,\n ('missing', 1): 1,\n ('seller', 1): 2,\n ('lost', 1): 1,\n ('disruption', 1): 1,\n ('runaway', 1): 1,\n ('truck', 1): 1,\n ('smash', 1): 1,\n ('tree', 1): 1,\n ('pennsylvania', 1): 1,\n ('broadcast', 1): 1,\n ('coverage', 1): 1,\n ('sunday', 1): 2,\n ('includes', 1): 1,\n ('luge', 1): 1,\n ('figure', 1): 2,\n ('skating', 1): 2,\n ('skiing', 1): 1,\n ('todaytrum', 1): 1,\n ('face', 1): 2,\n ('stiff', 1): 1,\n ('competition', 1): 1,\n ('rival', 1): 1,\n ('russia', 1): 1,\n ...}"
     },
     "execution_count": 179,
     "metadata": {},
     "output_type": "execute_result"
    }
   ],
   "source": [
    "freqs = build_frequency(df['Tweets'], df['Sentiment'])\n",
    "freqs"
   ],
   "metadata": {
    "collapsed": false,
    "pycharm": {
     "name": "#%%\n"
    }
   }
  },
  {
   "cell_type": "markdown",
   "source": [
    "## Train model"
   ],
   "metadata": {
    "collapsed": false,
    "pycharm": {
     "name": "#%% md\n"
    }
   }
  },
  {
   "cell_type": "code",
   "execution_count": 180,
   "outputs": [
    {
     "name": "stdout",
     "output_type": "stream",
     "text": [
      "['ability', 'able', 'abrams', 'account', 'accused', 'acquire', 'acquisition', 'ad', 'add', 'afcon', 'africa', 'ahead', 'allow', 'alphabet', 'amazing', 'amazingspiderman', 'amazon', 'amd', 'america', 'amir', 'amp', 'amreading', 'amzn', 'announced', 'annual', 'aorus', 'app', 'appear', 'apple', 'art', 'ask', 'asm', 'associate', 'asus', 'atc', 'australia', 'available', 'bad', 'batman', 'bbc', 'beat', 'benreilly', 'best', 'better', 'bezos', 'bid', 'big', 'biggest', 'bignavi', 'bike', 'billion', 'binance', 'binancepay', 'bird', 'black', 'blake', 'blood', 'bnb', 'board', 'bolster', 'book', 'bookstore', 'bought', 'box', 'break', 'breaking', 'btc', 'bucks', 'bullish', 'bulls', 'bunch', 'buschlightclash', 'business', 'buy', 'buyer', 'buyers', 'buying', 'called', 'canada', 'candidate', 'canon', 'capedcrusader', 'capital', 'card', 'caris', 'case', 'cassie', 'cavaliers', 'cavs', 'cbs', 'cedi', 'center', 'chain', 'challenge', 'change', 'chauvin', 'check', 'chief', 'child', 'choice', 'choose', 'claim', 'cleveland', 'click', 'climate', 'cloud', 'cnn', 'coach', 'coast', 'coin', 'come', 'comeback', 'comes', 'comic', 'comicbooknews', 'comicbooks', 'comics', 'coming', 'commerce', 'community', 'companies', 'company', 'confirmed', 'consent', 'consideration', 'considering', 'console', 'convoy', 'coordinator', 'copy', 'core', 'credit', 'crypto', 'cryptocurrency', 'cup', 'curated', 'currently', 'customer', 'daily', 'darkknight', 'date', 'day', 'dccomics', 'dceu', 'dcu', 'dcuuniverse', 'deal', 'death', 'decision', 'demand', 'democrats', 'detectivecomics', 'devil', 'difficult', 'discovers', 'dog', 'doge', 'dogecoin', 'dollar', 'dolphins', 'dome', 'donating', 'download', 'drive', 'drop', 'early', 'earn', 'earnings', 'earthquake', 'echo', 'ecommerce', 'edition', 'education', 'egypt', 'email', 'embiid', 'employee', 'end', 'entrepreneur', 'equipment', 'er', 'erie', 'espn', 'eth', 'ethereum', 'euphoria', 'event', 'everybody', 'exaggerating', 'exciting', 'exercise', 'expect', 'exploring', 'express', 'eye', 'face', 'facebook', 'faced', 'fact', 'failing', 'fake', 'family', 'fantastic', 'far', 'fast', 'fb', 'february', 'fee', 'feed', 'feel', 'fell', 'figure', 'file', 'film', 'finance', 'firm', 'flash', 'flipkart', 'floating', 'foley', 'follow', 'following', 'food', 'ford', 'forest', 'fortune', 'fox', 'francisco', 'free', 'friday', 'friend', 'future', 'galvanizes', 'gamestop', 'gaming', 'gb', 'geforce', 'generations', 'german', 'getting', 'giant', 'gift', 'gifting', 'gigabyte', 'glass', 'global', 'going', 'gonna', 'good', 'google', 'got', 'gotham', 'gotta', 'grade', 'graph', 'graphics', 'great', 'greatest', 'green', 'gt', 'gtx', 'guard', 'gucci', 'guide', 'guy', 'happen', 'harley', 'hbo', 'head', 'headline', 'headlines', 'health', 'hell', 'hellhound', 'help', 'herbert', 'hi', 'high', 'hike', 'hire', 'hit', 'holding', 'hole', 'hope', 'hour', 'hulu', 'hxxps', 'ice', 'ikea', 'illegal', 'including', 'increase', 'increased', 'india', 'indiana', 'indigenous', 'indmoney', 'info', 'insider', 'inssurance', 'interested', 'interesting', 'inu', 'invested', 'investment', 'investor', 'iphone', 'issue', 'jamesjohnson', 'jarrettal', 'jarrettallen', 'jeff', 'jeffbezos', 'jenner', 'jesus', 'john', 'join', 'judge', 'just', 'kanye', 'kardashian', 'karma', 'karnataka', 'kevin', 'key', 'kid', 'kim', 'kindle', 'kindleunlimited', 'knock', 'know', 'kyle', 'kylie', 'lake', 'land', 'lat', 'latest', 'latestnews', 'launched', 'lead', 'leaf', 'left', 'legal', 'let', 'levert', 'library', 'life', 'like', 'link', 'list', 'listing', 'live', 'local', 'locke', 'long', 'longer', 'look', 'lost', 'love', 'loved', 'low', 'lt', 'lv', 'macjones', 'maddie', 'make', 'maker', 'making', 'man', 'market', 'marvel', 'marvelcomics', 'mary', 'masked', 'maskless', 'matter', 'mattthomas', 'maus', 'mcdaniel', 'mcu', 'mean', 'mech', 'meet', 'meeting', 'member', 'membership', 'memory', 'meredith', 'merited', 'mesothelioma', 'meta', 'miami', 'microsoft', 'mikaela', 'mike', 'million', 'minute', 'money', 'month', 'mou', 'movies', 'moving', 'msi', 'mullen', 'music', 'nations', 'navy', 'ncbd', 'need', 'net', 'netflix', 'nets', 'new', 'news', 'newsletter', 'nike', 'nke', 'november', 'number', 'nyt', 'oc', 'offense', 'offensive', 'offer', 'offering', 'oil', 'online', 'open', 'order', 'osman', 'ottawa', 'pacers', 'pack', 'page', 'pandemic', 'pay', 'pc', 'peace', 'peacock', 'peloton', 'pence', 'people', 'perfect', 'performance', 'perk', 'permission', 'peterparker', 'phishing', 'pic', 'pick', 'plan', 'platforms', 'playstation', 'plea', 'podcasts', 'point', 'politico', 'post', 'postseason', 'potential', 'powercolor', 'pre', 'preservative', 'presided', 'press', 'preview', 'price', 'prices', 'prime', 'print', 'pro', 'probably', 'probe', 'probowl', 'product', 'profit', 'progress', 'protector', 'ps', 'pton', 'published', 'purchase', 'push', 'putting', 'qick', 'qqq', 'qualifying', 'quickly', 'quote', 'radeon', 'radio', 'raised', 'rate', 'read', 'reader', 'reading', 'really', 'rebuked', 'receive', 'received', 'recent', 'recommended', 'record', 'red', 'release', 'remember', 'removal', 'report', 'reportedly', 'reports', 'represents', 'request', 'rescue', 'research', 'resolve', 'response', 'restock', 'result', 'retail', 'retailer', 'return', 'revenue', 'review', 'right', 'ripple', 'rise', 'rivian', 'roco', 'rog', 'rx', 'sale', 'san', 'sanleandro', 'saving', 'say', 'school', 'scott', 'seal', 'second', 'secret', 'seeing', 'sell', 'seller', 'senegal', 'series', 'share', 'sharing', 'shib', 'shiba', 'shiffrin', 'shine', 'shipping', 'shocking', 'shop', 'shopper', 'sign', 'signed', 'site', 'skating', 'slalom', 'slammed', 'slumped', 'small', 'snap', 'sold', 'soon', 'source', 'sources', 'spectacularspiderman', 'speedster', 'spider', 'spiderman', 'spidey', 'sports', 'spotify', 'spy', 'st', 'stacey', 'staff', 'star', 'start', 'state', 'states', 'stefondiggs', 'stock', 'stockmarket', 'stocks', 'stockx', 'stop', 'store', 'strange', 'stream', 'street', 'strix', 'strong', 'stuck', 'study', 'stuff', 'suggests', 'suicide', 'sun', 'sunday', 'sundayfunday', 'super', 'supermarket', 'supply', 'support', 'sure', 'surge', 'surrounded', 'survey', 'survival', 'swft', 'takeover', 'talk', 'target', 'tax', 'team', 'tech', 'technology', 'tesla', 'thank', 'thanks', 'thing', 'things', 'think', 'ti', 'time', 'today', 'todaytrump', 'ton', 'total', 'trade', 'transformers', 'trapped', 'travis', 'trial', 'trophy', 'trucker', 'true', 'trump', 'trying', 'ts', 'turn', 'uk', 'united', 'update', 'urged', 'url', 'usa', 'usdt', 'use', 'used', 'using', 'version', 'vp', 'waiting', 'wall', 'wallet', 'walmart', 'want', 'war', 'warrant', 'watch', 'way', 'website', 'week', 'weekly', 'weighing', 'welcome', 'went', 'west', 'win', 'woman', 'work', 'working', 'world', 'worldwide', 'worth', 'wrong', 'www', 'xbox', 'xfx', 'xrp', 'xt', 'yahoo', 'year', 'yes', 'york', 'youtube', 'zendaya', 'zero']\n",
      "{'amazon': 16, 'nike': 415, 'exploring': 192, 'peloton': 439, 'takeover': 613, 'report': 507, 'say': 534, 'exercise': 190, 'equipment': 179, 'maker': 366, 'share': 545, 'slumped': 561, 'recent': 500, 'month': 398, 'faced': 197, 'number': 418, 'challenge': 93, 'check': 96, 'deal': 146, 'apple': 28, 'iphone': 306, 'available': 36, 'india': 293, 'jeff': 311, 'bezos': 44, 'net': 409, 'worth': 678, 'billion': 50, 'jeffbezos': 312, 'news': 413, 'tech': 618, 'express': 193, 'consent': 123, 'associate': 32, 'like': 347, 'sign': 555, 'mou': 399, 'karnataka': 322, 'help': 274, 'woman': 673, 'entrepreneur': 178, 'exciting': 189, 'going': 246, 'holding': 281, 'lt': 361, 'ethereum': 184, 'price': 466, 'gt': 259, 'eth': 183, 'usdt': 650, 'binance': 51, 'headline': 269, 'judge': 317, 'presided': 463, 'chauvin': 95, 'trial': 636, 'signed': 556, 'knock': 329, 'warrant': 662, 'amir': 19, 'locke': 353, 'death': 147, 'business': 72, 'insider': 298, 'zendaya': 690, 'roco': 527, 'making': 367, 'purchase': 481, 'increased': 292, 'rate': 492, 'wrong': 679, 'technology': 619, 'ripple': 524, 'xrp': 683, 'coin': 109, 'bnb': 57, 'binancepay': 52, 'ps': 478, 'restock': 516, 'expect': 191, 'console': 126, 'appear': 27, 'best': 42, 'buy': 73, 'walmart': 659, 'gamestop': 233, 'xbox': 681, 'series': 544, 'update': 646, 'retailer': 519, 'including': 290, 'target': 615, 'shocking': 552, 'order': 428, 'pro': 470, 'drop': 164, 'announced': 23, 'flipkart': 217, 'ecommerce': 170, 'website': 665, 'offering': 424, 'far': 203, 'ahead': 11, 'supermarket': 604, 'online': 426, 'shopper': 554, 'survey': 610, 'retail': 518, 'bbc': 39, 'offer': 423, 'weighing': 668, 'bid': 45, 'reports': 509, 'cedi': 90, 'osman': 429, 'kevin': 323, 'love': 358, 'team': 617, 'lead': 339, 'cavaliers': 87, 'biggest': 47, 'comeback': 111, 'win': 672, 'year': 686, 'pacers': 431, 'turn': 643, 'fb': 205, 'family': 201, 'spotify': 574, 'music': 404, 'podcasts': 454, 'watch': 663, 'dome': 160, 'protector': 477, 'return': 520, 'big': 46, 'sale': 530, 'glass': 244, 'really': 496, 'confirmed': 122, 'february': 206, 'crypto': 132, 'cryptocurrency': 133, 'doge': 156, 'dogecoin': 157, 'climate': 104, 'change': 94, 'company': 121, 'exaggerating': 188, 'progress': 476, 'study': 596, 'companies': 120, 'google': 249, 'ikea': 288, 'meeting': 383, 'green': 258, 'thank': 621, 'time': 627, 'fantastic': 202, 'st': 576, 'book': 60, 'think': 625, 'potential': 459, 'great': 256, 'breaking': 65, 'pack': 432, 'buyers': 75, 'ottawa': 430, 'trucker': 638, 'convoy': 127, 'galvanizes': 232, 'right': 523, 'worldwide': 677, 'politico': 456, 'euphoria': 185, 'mary': 372, 'mattthomas': 376, 'buschlightclash': 71, 'cassie': 86, 'perfect': 442, 'prime': 468, 'membership': 385, 'prices': 467, 'united': 645, 'states': 582, 'way': 664, 'want': 660, 'free': 228, 'mikaela': 393, 'shiffrin': 549, 'giant': 240, 'slalom': 559, 'event': 186, 'bird': 53, 'box': 63, 'community': 119, 'credit': 131, 'karma': 321, 'health': 271, 'inssurance': 299, 'quote': 488, 'mesothelioma': 389, 'survival': 611, 'netflix': 410, 'nyt': 419, 'today': 628, 'usa': 649, 'todaytrump': 629, 'fortune': 225, 'world': 676, 'amp': 20, 'illegal': 289, 'use': 651, 'legal': 342, 'amazing': 14, 'drive': 163, 'yahoo': 685, 'latest': 336, 'headlines': 270, 'choose': 100, 'earthquake': 168, 'bucks': 67, 'source': 566, 'pandemic': 434, 'reportedly': 508, 'buying': 76, 'failing': 199, 'quickly': 487, 'gonna': 247, 'talk': 614, 'longer': 355, 'thing': 623, 'things': 624, 'day': 141, 'stop': 588, 'raised': 491, 'annual': 24, 'hike': 278, 'represents': 510, 'increase': 291, 'second': 538, 'echo': 169, 'secret': 539, 'kindle': 327, 'daily': 138, 'email': 174, 'went': 670, 'support': 606, 'good': 248, 'uk': 644, 'discovers': 154, 'film': 213, 'star': 579, 'live': 351, 'canada': 78, 'australia': 35, 'just': 318, 'start': 580, 'radio': 490, 'open': 427, 'plan': 450, 'future': 231, 'considering': 125, 'stock': 584, 'pence': 440, 'chief': 97, 'staff': 578, 'vp': 655, 'rebuked': 497, 'trump': 640, 'merited': 388, 'response': 515, 'cnn': 106, 'maddie': 364, 'meredith': 387, 'following': 221, 'cloud': 105, 'revenue': 521, 'beat': 40, 'profit': 475, 'rivian': 526, 'market': 369, 'sell': 541, 'preservative': 462, 'used': 652, 'suicide': 599, 'using': 653, 'gift': 241, 'card': 83, 'weekly': 667, 'curated': 135, 'date': 140, 'btc': 66, 'new': 412, 'wallet': 658, 'click': 103, 'newsletter': 414, 'key': 324, 'earnings': 167, 'know': 330, 'pre': 461, 'tax': 616, 'shop': 553, 'sure': 607, 'comes': 112, 'strange': 590, 'perk': 444, 'saving': 533, 'plea': 453, 'food': 222, 'sold': 564, 'commerce': 118, 'site': 557, 'kylie': 332, 'jenner': 313, 'travis': 635, 'scott': 536, 'welcome': 669, 'child': 98, 'sanleandro': 532, 'sundayfunday': 602, 'jesus': 314, 'global': 245, 'investment': 304, 'app': 26, 'million': 395, 'rise': 525, 'shine': 550, 'join': 316, 'tesla': 620, 'shib': 547, 'shiba': 548, 'inu': 302, 'dog': 155, 'page': 433, 'seeing': 540, 'record': 502, 'supply': 605, 'chain': 92, 'demand': 149, 'maus': 377, 'fact': 198, 'bought': 62, 'copy': 129, 'facebook': 196, 'dollar': 158, 'democrats': 150, 'strong': 594, 'consideration': 124, 'canon': 80, 'request': 511, 'removal': 506, 'listing': 350, 'america': 18, 'file': 212, 'member': 384, 'forest': 224, 'man': 368, 'review': 522, 'movies': 400, 'received': 499, 'www': 680, 'phishing': 447, 'hxxps': 286, 'look': 356, 'spider': 570, 'preview': 465, 'marvel': 370, 'marvelcomics': 371, 'comic': 113, 'comicbooks': 115, 'mcu': 379, 'art': 29, 'info': 297, 'ncbd': 407, 'comicbooknews': 114, 'spiderman': 571, 'amazingspiderman': 15, 'peterparker': 446, 'asm': 31, 'benreilly': 41, 'spectacularspiderman': 568, 'spidey': 572, 'trade': 632, 'grade': 253, 'land': 334, 'caris': 84, 'levert': 344, 'bolster': 59, 'offense': 421, 'postseason': 458, 'push': 482, 'cbs': 89, 'sports': 573, 'cavs': 88, 'stockx': 587, 'meet': 382, 'hi': 276, 'transformers': 633, 'generations': 237, 'release': 504, 'thanks': 622, 'greatest': 257, 'week': 666, 'point': 455, 'friday': 229, 'bad': 37, 'left': 341, 'currently': 136, 'reading': 495, 'friend': 230, 'read': 493, 'ability': 0, 'make': 365, 'choice': 99, 'press': 464, 'let': 343, 'fee': 207, 'senegal': 543, 'egypt': 173, 'africa': 10, 'cup': 134, 'nations': 405, 'trophy': 637, 'afcon': 9, 'war': 661, 'peace': 437, 'herbert': 275, 'feed': 208, 'feel': 209, 'sharing': 546, 'leaf': 340, 'hell': 272, 'guy': 264, 'harley': 266, 'batman': 38, 'gotham': 251, 'dceu': 143, 'dccomics': 142, 'dcu': 144, 'dcuuniverse': 145, 'miami': 391, 'dolphins': 159, 'hire': 279, 'san': 531, 'francisco': 227, 'er': 180, 'offensive': 422, 'coordinator': 128, 'mike': 394, 'mcdaniel': 378, 'head': 268, 'coach': 107, 'espn': 182, 'kindleunlimited': 328, 'surge': 608, 'performance': 443, 'work': 674, 'soon': 565, 'seller': 542, 'lost': 357, 'sunday': 601, 'figure': 211, 'skating': 558, 'face': 195, 'lat': 335, 'latestnews': 337, 'follow': 220, 'claim': 101, 'buyer': 74, 'indigenous': 295, 'people': 441, 'state': 581, 'macjones': 363, 'jamesjohnson': 308, 'blake': 55, 'stefondiggs': 583, 'jarrettal': 309, 'jarrettallen': 310, 'long': 354, 'working': 675, 'red': 503, 'hope': 283, 'getting': 239, 'blood': 56, 'receive': 498, 'comics': 116, 'darkknight': 139, 'capedcrusader': 81, 'detectivecomics': 151, 'fake': 200, 'local': 352, 'decision': 148, 'interested': 300, 'stacey': 577, 'abrams': 2, 'slammed': 560, 'maskless': 374, 'pic': 448, 'surrounded': 609, 'masked': 373, 'kid': 325, 'york': 688, 'post': 457, 'life': 346, 'eye': 194, 'amreading': 21, 'black': 54, 'stocks': 586, 'snap': 563, 'ford': 223, 'stockmarket': 585, 'finance': 214, 'pton': 479, 'hour': 284, 'acquisition': 6, 'called': 77, 'download': 162, 'center': 91, 'lake': 333, 'interesting': 301, 'stuff': 597, 'kanye': 319, 'west': 671, 'kim': 326, 'kardashian': 320, 'accused': 4, 'putting': 483, 'hit': 280, 'embiid': 175, 'bulls': 69, 'stream': 591, 'hbo': 267, 'hulu': 285, 'peacock': 438, 'probowl': 473, 'meta': 390, 'platforms': 451, 'customer': 137, 'remember': 505, 'lv': 362, 'gucci': 262, 'product': 474, 'probably': 471, 'difficult': 153, 'store': 589, 'sun': 600, 'high': 277, 'end': 177, 'fox': 226, 'early': 165, 'add': 8, 'yes': 687, 'money': 397, 'everybody': 187, 'loved': 359, 'navy': 406, 'probe': 472, 'seal': 537, 'candidate': 79, 'kyle': 331, 'mullen': 403, 'nets': 411, 'pay': 435, 'minute': 396, 'education': 172, 'qqq': 485, 'spy': 575, 'oil': 425, 'flash': 216, 'investor': 305, 'employee': 176, 'better': 43, 'youtube': 689, 'reader': 494, 'earn': 166, 'small': 562, 'fast': 204, 'microsoft': 392, 'sources': 567, 'cleveland': 102, 'acquire': 5, 'indiana': 294, 'published': 480, 'result': 517, 'fell': 210, 'guide': 263, 'street': 592, 'mean': 380, 'coast': 108, 'guard': 261, 'rescue': 512, 'trapped': 634, 'floating': 218, 'ice': 287, 'erie': 181, 'firm': 215, 'zero': 691, 'research': 513, 'suggests': 598, 'ton': 630, 'xfx': 682, 'speedster': 569, 'swft': 612, 'radeon': 489, 'rx': 529, 'atc': 34, 'link': 348, 'qualifying': 486, 'ts': 642, 'powercolor': 460, 'devil': 152, 'amd': 17, 'xt': 684, 'gaming': 234, 'graphics': 255, 'gb': 235, 'memory': 386, 'asus': 33, 'qick': 484, 'case': 85, 'msi': 402, 'gtx': 260, 'super': 603, 'gifting': 242, 'indmoney': 296, 'account': 3, 'mech': 381, 'oc': 420, 'amzn': 22, 'bullish': 68, 'alphabet': 13, 'total': 631, 'happen': 265, 'break': 64, 'wall': 657, 'come': 110, 'bookstore': 61, 'urged': 647, 'board': 58, 'john': 315, 'foley': 219, 'bike': 49, 'waiting': 656, 'list': 349, 'playstation': 452, 'edition': 171, 'ad': 7, 'moving': 401, 'coming': 117, 'hole': 282, 'rog': 528, 'strix': 593, 'shipping': 551, 'library': 345, 'school': 535, 'got': 250, 'url': 648, 'resolve': 514, 'issue': 307, 'permission': 445, 'pick': 449, 'gigabyte': 243, 'aorus': 25, 'graph': 254, 'matter': 375, 'allow': 12, 'stuck': 595, 'hellhound': 273, 'core': 130, 'ask': 30, 'donating': 161, 'geforce': 236, 'ti': 626, 'trying': 641, 'pc': 436, 'recommended': 501, 'able': 1, 'november': 417, 'bunch': 70, 'bignavi': 48, 'capital': 82, 'true': 639, 'german': 238, 'gotta': 252, 'print': 469, 'version': 654, 'invested': 303, 'launched': 338, 'low': 360, 'nke': 416, 'need': 408}\n",
      "[[0 0 0 ... 0 0 0]\n",
      " [0 0 0 ... 0 0 0]\n",
      " [0 0 0 ... 0 0 0]\n",
      " ...\n",
      " [0 0 0 ... 0 0 0]\n",
      " [0 0 0 ... 0 0 0]\n",
      " [0 1 0 ... 0 0 0]]\n"
     ]
    },
    {
     "name": "stderr",
     "output_type": "stream",
     "text": [
      "C:\\Users\\hlinh\\anaconda3\\lib\\site-packages\\sklearn\\utils\\deprecation.py:87: FutureWarning: Function get_feature_names is deprecated; get_feature_names is deprecated in 1.0 and will be removed in 1.2. Please use get_feature_names_out instead.\n",
      "  warnings.warn(msg, category=FutureWarning)\n"
     ]
    }
   ],
   "source": [
    "from sklearn.feature_extraction.text import CountVectorizer\n",
    "bow_vectorizer = CountVectorizer(max_df= 0.9, min_df=2, max_features=1000, stop_words='english')\n",
    "\n",
    "# Bag-of-words feature matrix\n",
    "bow = bow_vectorizer.fit_transform(df['Tweets'])\n",
    "\n",
    "print(bow_vectorizer.get_feature_names())\n",
    "# Associate the indices with each unique word\n",
    "print(bow_vectorizer.vocabulary_)\n",
    "# Print the numerical feature vector\n",
    "print(bow.toarray())"
   ],
   "metadata": {
    "collapsed": false,
    "pycharm": {
     "name": "#%%\n"
    }
   }
  },
  {
   "cell_type": "code",
   "execution_count": 181,
   "outputs": [],
   "source": [
    "from sklearn.feature_extraction.text import TfidfVectorizer\n",
    "tfidf_vectorizer = TfidfVectorizer(max_df= 0.9, min_df=2, max_features=1000, stop_words='english')\n",
    "\n",
    "# TFIDF feature matrix\n",
    "tfidf = tfidf_vectorizer.fit_transform(df['Tweets'])"
   ],
   "metadata": {
    "collapsed": false,
    "pycharm": {
     "name": "#%%\n"
    }
   }
  },
  {
   "cell_type": "code",
   "execution_count": 182,
   "outputs": [
    {
     "data": {
      "text/plain": "0.9243697478991597"
     },
     "execution_count": 182,
     "metadata": {},
     "output_type": "execute_result"
    }
   ],
   "source": [
    "from sklearn.linear_model import LogisticRegression\n",
    "from sklearn.model_selection import train_test_split\n",
    "from sklearn.metrics import f1_score, accuracy_score\n",
    "\n",
    "y = df['Sentiment'].values.astype('float')\n",
    "\n",
    "X_train_bow, X_test_bow, y_train_bow, y_test_bow = train_test_split(bow, y, random_state=42, test_size=0.2)\n",
    "lreg = LogisticRegression()\n",
    "lreg.fit(X_train_bow, y_train_bow) # training the model\n",
    "prediction = lreg.predict_proba(X_test_bow) # predicting on the validation set\n",
    "prediction_float = prediction[:,1] >= 0.3 # if prediction >= 0.2 then 1 or else 0\n",
    "prediction_float = prediction_float.astype('float')\n",
    "f1_score(y_test_bow, prediction_float) # calculate f1 score"
   ],
   "metadata": {
    "collapsed": false,
    "pycharm": {
     "name": "#%%\n"
    }
   }
  },
  {
   "cell_type": "code",
   "execution_count": 183,
   "outputs": [
    {
     "name": "stdout",
     "output_type": "stream",
     "text": [
      "              precision    recall  f1-score   support\n",
      "\n",
      "         0.0       1.00      0.10      0.18        10\n",
      "         1.0       0.86      1.00      0.92        55\n",
      "\n",
      "    accuracy                           0.86        65\n",
      "   macro avg       0.93      0.55      0.55        65\n",
      "weighted avg       0.88      0.86      0.81        65\n",
      "\n"
     ]
    }
   ],
   "source": [
    "from sklearn.metrics import classification_report\n",
    "\n",
    "print(classification_report(y_test_bow, prediction_float))"
   ],
   "metadata": {
    "collapsed": false,
    "pycharm": {
     "name": "#%%\n"
    }
   }
  },
  {
   "cell_type": "code",
   "execution_count": 184,
   "outputs": [
    {
     "data": {
      "text/plain": "0.9166666666666666"
     },
     "execution_count": 184,
     "metadata": {},
     "output_type": "execute_result"
    }
   ],
   "source": [
    "X_train_tfidf, X_test_tfidf, y_train_tfidf, y_test_tfidf = train_test_split(tfidf, y, random_state=42, test_size=0.2)\n",
    "lreg_tfidf = LogisticRegression()\n",
    "lreg_tfidf.fit(X_train_tfidf, y_train_tfidf) # training the model\n",
    "prediction = lreg_tfidf.predict_proba(X_test_tfidf) # predicting on the validation set\n",
    "prediction_float = prediction[:,1] >= 0.3 # if prediction >= 0.2 then 1 or else 0\n",
    "prediction_float = prediction_float.astype('float')\n",
    "f1_score(y_test_tfidf, prediction_float) # calculate f1 score"
   ],
   "metadata": {
    "collapsed": false,
    "pycharm": {
     "name": "#%%\n"
    }
   }
  }
 ],
 "metadata": {
  "kernelspec": {
   "display_name": "Python 3",
   "language": "python",
   "name": "python3"
  },
  "language_info": {
   "codemirror_mode": {
    "name": "ipython",
    "version": 2
   },
   "file_extension": ".py",
   "mimetype": "text/x-python",
   "name": "python",
   "nbconvert_exporter": "python",
   "pygments_lexer": "ipython2",
   "version": "2.7.6"
  }
 },
 "nbformat": 4,
 "nbformat_minor": 0
}